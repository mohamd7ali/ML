{
  "cells": [
    {
      "cell_type": "markdown",
      "metadata": {
        "id": "Bg2LsGSRiRcw"
      },
      "source": [
        "\n",
        "# **Import Libraries**"
      ]
    },
    {
      "cell_type": "code",
      "execution_count": null,
      "metadata": {
        "id": "qKjEbuFtiUoP"
      },
      "outputs": [],
      "source": [
        "from __future__ import print_function\n",
        "\n",
        "import sklearn\n",
        "import scipy\n",
        "import pandas as pd\n",
        "import numpy as np\n",
        "import seaborn as sns\n",
        "import IPython\n",
        "import matplotlib\n",
        "import os\n",
        "import cv2\n",
        "import csv\n",
        "import scipy.io\n",
        "\n",
        "from sklearn.svm import SVC\n",
        "from sklearn.multiclass import OneVsOneClassifier, OneVsRestClassifier\n",
        "from sklearn.pipeline import make_pipeline\n",
        "from sklearn.model_selection import train_test_split, cross_val_score, ShuffleSplit, GridSearchCV, KFold\n",
        "from sklearn.linear_model import LinearRegression, Ridge\n",
        "from sklearn.preprocessing import LabelEncoder, StandardScaler, SplineTransformer, PolynomialFeatures\n",
        "from sklearn.metrics import mean_squared_error, r2_score, accuracy_score\n",
        "from sklearn.discriminant_analysis import LinearDiscriminantAnalysis\n",
        "from sklearn.feature_selection import SequentialFeatureSelector\n",
        "from sklearn.decomposition import PCA\n",
        "from sklearn.base import TransformerMixin\n",
        "from sklearn.compose import TransformedTargetRegressor\n",
        "from skimage.util import random_noise\n",
        "from matplotlib import pyplot as plt"
      ]
    },
    {
      "cell_type": "code",
      "execution_count": 2,
      "metadata": {
        "colab": {
          "base_uri": "https://localhost:8080/"
        },
        "id": "-QFMZuEeijf8",
        "outputId": "1ce700a9-8c63-4591-fc38-cf4dae9135ad"
      },
      "outputs": [
        {
          "name": "stdout",
          "output_type": "stream",
          "text": [
            "Mounted at /content/drive\n"
          ]
        }
      ],
      "source": [
        "from google.colab import drive\n",
        "drive.mount('/content/drive')"
      ]
    },
    {
      "cell_type": "markdown",
      "metadata": {
        "id": "40LVNSdfyhVW"
      },
      "source": [
        "---\n"
      ]
    },
    {
      "cell_type": "markdown",
      "metadata": {
        "id": "lCTOFYBJytIT"
      },
      "source": [
        "## **Load the Dataset & Visualization**"
      ]
    },
    {
      "cell_type": "code",
      "execution_count": 3,
      "metadata": {
        "id": "jz29PRECjwWF"
      },
      "outputs": [],
      "source": [
        "# import the dataset\n",
        "data = scipy.io.loadmat('/content/drive/MyDrive/Data-hoda-full.mat')\n",
        "\n",
        "# load the images and labels from dataset\n",
        "images = data['Data'][:4000]\n",
        "labels = data['labels'][:4000]"
      ]
    },
    {
      "cell_type": "code",
      "execution_count": 4,
      "metadata": {
        "id": "78a5e_qfukXD"
      },
      "outputs": [],
      "source": [
        "# remove the extra dimension\n",
        "images = np.squeeze(data['Data'][:4000], axis=1)\n",
        "labels = np.squeeze(data['labels'][:4000], axis=1)"
      ]
    },
    {
      "cell_type": "code",
      "execution_count": 5,
      "metadata": {
        "colab": {
          "base_uri": "https://localhost:8080/",
          "height": 327
        },
        "id": "9beDabwUuFwt",
        "outputId": "7e07eda3-4ff7-4373-ad5e-3a617964921b"
      },
      "outputs": [
        {
          "name": "stdout",
          "output_type": "stream",
          "text": [
            "The size of image 0 is: (27, 20)\n",
            "The size of image 1 is: (20, 21)\n",
            "The size of image 2 is: (10, 15)\n",
            "The size of image 3 is: (36, 17)\n",
            "The size of image 4 is: (36, 28)\n"
          ]
        },
        {
          "data": {
            "image/png": "[encoded data removed]",
            "text/plain": [
              "<Figure size 640x480 with 5 Axes>"
            ]
          },
          "metadata": {},
          "output_type": "display_data"
        }
      ],
      "source": [
        "# Show some of the images\n",
        "for i in range(5):\n",
        "    plt.subplot(1, 5, i+1)\n",
        "    plt.imshow(images[i], cmap='gray')\n",
        "    plt.title(f\"Label: {labels[i]}\")\n",
        "    plt.axis('off')\n",
        "    size = np.shape(images[i])\n",
        "    print(f\"The size of image {i} is: {(size)}\")\n",
        "\n",
        "plt.show()"
      ]
    },
    {
      "cell_type": "markdown",
      "metadata": {
        "id": "Kligej1Mzzvb"
      },
      "source": [
        "\n",
        "## **Image Padding and Resizing**"
      ]
    },
    {
      "cell_type": "markdown",
      "metadata": {
        "id": "9MHetZHN1MiM"
      },
      "source": [
        "As the dataset contains images of different sizes, resizing may lead to a loss of information or introduce artifacts; also enlarging smaller images by resizing, could result in the loss of fine details.\n",
        "\n",
        "\n",
        "- This Function enhances the original image padding process. It determines the maximum height and width among all images in the dataset. However, it goes a step further by symmetrically padding each image. In this process, it calculates the necessary padding for each side (top, bottom, left, and right) to ensure even distribution of the additional height and width (ensuring that the difference in height or width is distributed equally on both sides of the image). By using the np.pad function with these calculated padding values, the function pads each image with zeros in a way that maintains symmetry. This symmetric padding is beneficial for tasks that require balanced adjustments to image dimensions.\n"
      ]
    },
    {
      "cell_type": "code",
      "execution_count": 6,
      "metadata": {
        "colab": {
          "base_uri": "https://localhost:8080/",
          "height": 248
        },
        "id": "EDIp6L1uns4d",
        "outputId": "468d285a-5c8e-455c-dfe5-154051151d53"
      },
      "outputs": [
        {
          "name": "stdout",
          "output_type": "stream",
          "text": [
            "The size of image 0 is: (54, 45)\n",
            "The size of image 1 is: (54, 45)\n",
            "The size of image 2 is: (54, 45)\n",
            "The size of image 3 is: (54, 45)\n",
            "The size of image 4 is: (54, 45)\n"
          ]
        },
        {
          "data": {
            "image/png": "[encoded data removed]",
            "text/plain": [
              "<Figure size 640x480 with 5 Axes>"
            ]
          },
          "metadata": {},
          "output_type": "display_data"
        }
      ],
      "source": [
        "def pad_images(images_dataset):\n",
        "    max_height = max_width = 0\n",
        "\n",
        "    # Find maximum dimensions\n",
        "    for image in images_dataset:\n",
        "        height, width = image.shape\n",
        "        max_height = max(max_height, height)\n",
        "        max_width = max(max_width, width)\n",
        "\n",
        "    padded_dataset = []\n",
        "\n",
        "    # Pad images to match maximum dimensions\n",
        "    for image in images_dataset:\n",
        "        height, width = image.shape\n",
        "        pad_height = max_height - height\n",
        "        pad_width = max_width - width\n",
        "\n",
        "        # Calculate padding for each side\n",
        "        top_pad = pad_height // 2\n",
        "        bottom_pad = pad_height - top_pad\n",
        "        left_pad = pad_width // 2\n",
        "        right_pad = pad_width - left_pad\n",
        "\n",
        "        # Pad image\n",
        "        padded_image = np.pad(image, ((top_pad, bottom_pad),\n",
        "                              (left_pad, right_pad)), mode='constant')\n",
        "\n",
        "        # Add padded image to the dataset\n",
        "        padded_dataset.append(padded_image)\n",
        "\n",
        "    return padded_dataset\n",
        "\n",
        "# use the function to modify the size of images\n",
        "resized_images = pad_images(images)\n",
        "\n",
        "# Show some of the images\n",
        "for i in range(5):\n",
        "    plt.subplot(1, 5, i+1)\n",
        "    plt.imshow(resized_images[i], cmap='gray')\n",
        "    plt.title(f\"Label: {labels[i]}\")\n",
        "    plt.axis('off')\n",
        "    size = np.shape(resized_images[i])\n",
        "    print(f\"The size of image {i} is: {(size)}\")\n",
        "plt.show()\n"
      ]
    },
    {
      "cell_type": "markdown",
      "metadata": {
        "id": "siPrxrfu3WqR"
      },
      "source": [
        "## **Flatten**"
      ]
    },
    {
      "cell_type": "code",
      "execution_count": 7,
      "metadata": {
        "id": "QE-0EybF3YeW"
      },
      "outputs": [],
      "source": [
        "def pad_and_flatten_images(dataset):\n",
        "    max_height = max_width = 0\n",
        "\n",
        "    # Find maximum dimensions\n",
        "    for image in dataset:\n",
        "        height, width = image.shape\n",
        "        max_height = max(max_height, height)\n",
        "        max_width = max(max_width, width)\n",
        "\n",
        "    padded_and_flattened_dataset = []\n",
        "\n",
        "    # Pad and flatten images\n",
        "    for image in dataset:\n",
        "        height, width = image.shape\n",
        "        pad_height = max_height - height\n",
        "        pad_width = max_width - width\n",
        "\n",
        "        # Pad image\n",
        "        padded_image = np.pad(image, ((0, pad_height),\n",
        "                                      (0, pad_width)), mode='constant')\n",
        "\n",
        "        # Flatten the padded image\n",
        "        flattened_image = padded_image.flatten()\n",
        "\n",
        "        # Add flattened image to the dataset\n",
        "        padded_and_flattened_dataset.append(flattened_image)\n",
        "\n",
        "    return padded_and_flattened_dataset\n",
        "\n",
        "# Pad and flatten the images\n",
        "flattened_images = pad_and_flatten_images(images)\n"
      ]
    },
    {
      "cell_type": "code",
      "execution_count": 8,
      "metadata": {
        "colab": {
          "base_uri": "https://localhost:8080/"
        },
        "id": "IQdyxCZTUIpH",
        "outputId": "08985326-5cfe-45ca-95d6-bc498897b0e3"
      },
      "outputs": [
        {
          "data": {
            "text/plain": [
              "(4000, 2430)"
            ]
          },
          "execution_count": 8,
          "metadata": {},
          "output_type": "execute_result"
        }
      ],
      "source": [
        "np.shape(flattened_images)"
      ]
    },
    {
      "cell_type": "markdown",
      "metadata": {
        "id": "5It4QFFX5xxe"
      },
      "source": [
        "## **Split the Dataset to Train & Test**"
      ]
    },
    {
      "cell_type": "code",
      "execution_count": 9,
      "metadata": {
        "id": "D306Ia9h50CV"
      },
      "outputs": [],
      "source": [
        "# Split the data into Train & Test - 70% Training - 30% Testing\n",
        "X_train, X_test, y_train, y_test = train_test_split(flattened_images,\n",
        "                                 labels, test_size=0.3, random_state=42)"
      ]
    },
    {
      "cell_type": "code",
      "execution_count": 10,
      "metadata": {
        "colab": {
          "base_uri": "https://localhost:8080/"
        },
        "id": "FOGcl5eEUUV5",
        "outputId": "3ad73726-a889-4eb6-a4cf-29df53094383"
      },
      "outputs": [
        {
          "name": "stdout",
          "output_type": "stream",
          "text": [
            "(2800, 2430)\n",
            "(1200, 2430)\n"
          ]
        }
      ],
      "source": [
        "print(np.shape(X_train))\n",
        "print(np.shape(X_test))"
      ]
    },
    {
      "cell_type": "markdown",
      "metadata": {
        "id": "8PI8L8jZ6n5z"
      },
      "source": [
        "## **SVM Classification**\n"
      ]
    },
    {
      "cell_type": "markdown",
      "metadata": {
        "id": "IVfNJnvcsRPA"
      },
      "source": [
        "Support Vector Machines (SVMs) can be used for multi class classification by using two methods:\n",
        "\n",
        "1. **One-vs-One (OvO)**:\n",
        "\n",
        "  This strategy consists in fitting one classifier per class pair. At prediction time, the class which received the most votes is selected (When making predictions, each classifier gives a vote for one of the two classes in the pair). If there is a tie in votes, It might needs a tie-breaking strategy (e.g., selecting the class with the highest average decision value).\n",
        "  \n",
        "  Since it requires to fit n_classes * (n_classes - 1) / 2 classifiers, this method is usually slower than one-vs-the-rest, due to its O(n_classes^2) complexity. However, this method may be advantageous for algorithms such as kernel algorithms which don’t scale well with n_samples. This is because each individual learning problem only involves a small subset of the data whereas, with one-vs-the-rest, the complete dataset is used n_classes times.\n",
        "\n",
        "  if there is a K classes, For each class i (from 1 to K), create a binary classification problem where the samples of class i are treated as the positive class, and the samples of all other classes are treated as the negative class.\n",
        "\n",
        "\n",
        "2. **One-vs-All (OvA)** or **One-vs-Rest(OVR)**:\n",
        "\n",
        "  This strategy consists in fitting one classifier per class. For each classifier, the class is fitted against all the other classes. In addition to its computational efficiency (only n_classes classifiers are needed), one advantage of this approach is its interpretability. Since each class is represented by one and one classifier only, it is possible to gain knowledge about the class by inspecting its corresponding classifier. This is the most commonly used strategy for multiclass classification and is a fair default choice.\n",
        "\n",
        "  One-Vs-All Classifier can also be used for multilabel classification. To use this feature, provide an indicator matrix for the target y when calling .fit. In other words, the target labels should be formatted as a 2D binary (0/1) matrix, where [i, j] == 1 indicates the presence of label j in sample i. This estimator uses the binary relevance method to perform multilabel classification, which involves training one binary classifier independently for each label.\n"
      ]
    },
    {
      "cell_type": "markdown",
      "metadata": {
        "id": "f7qysab5kUBj"
      },
      "source": [
        "- analyse the dataset with kernel parameter"
      ]
    },
    {
      "cell_type": "markdown",
      "metadata": {
        "id": "UutDmmwX_enb"
      },
      "source": [
        "### **One-vs-All**:\n"
      ]
    },
    {
      "cell_type": "code",
      "execution_count": 17,
      "metadata": {
        "colab": {
          "base_uri": "https://localhost:8080/"
        },
        "id": "rTYcRGcM6sBs",
        "outputId": "96bc19c4-bc26-4d8e-c60f-6a85fb478270"
      },
      "outputs": [
        {
          "name": "stdout",
          "output_type": "stream",
          "text": [
            "Accuracy in OVR:\n",
            "in kernel linear: 0.7958333333333333\n",
            "in kernel rbf: 0.9383333333333334\n",
            "in kernel poly: 0.9341666666666667\n",
            "in kernel sigmoid: 0.6716666666666666\n"
          ]
        }
      ],
      "source": [
        "# define the different kernel types\n",
        "kernel_types = ['linear', 'rbf', 'poly', 'sigmoid']\n",
        "i = 0\n",
        "\n",
        "for kernel in kernel_types:\n",
        "    # Create an SVM classifier with OvR method\n",
        "    svm_classifier = OneVsRestClassifier(SVC(kernel=kernel, random_state=42))\n",
        "\n",
        "    # Train the classifier\n",
        "    svm_classifier.fit(X_train, y_train)\n",
        "\n",
        "    # Make predictions\n",
        "    y_pred = svm_classifier.predict(X_test)\n",
        "\n",
        "    # Calculate accuracy\n",
        "    accuracy = accuracy_score(y_test, y_pred)\n",
        "\n",
        "    # print the results\n",
        "    if i == 0:\n",
        "      print(\"Accuracy in OVR:\")\n",
        "\n",
        "    print(f\"in kernel {kernel}: {accuracy}\")\n",
        "    i += 1\n"
      ]
    },
    {
      "cell_type": "markdown",
      "metadata": {
        "id": "ImqGhxiF_R8T"
      },
      "source": [
        "### **One-vs-One**:\n"
      ]
    },
    {
      "cell_type": "code",
      "execution_count": 13,
      "metadata": {
        "colab": {
          "base_uri": "https://localhost:8080/"
        },
        "id": "dCF21rw18snU",
        "outputId": "5a8e737a-0e34-4c71-c64f-5a380dd66bd3"
      },
      "outputs": [
        {
          "name": "stdout",
          "output_type": "stream",
          "text": [
            "Accuracy in OVO:\n",
            "in kernel linear: 0.8883333333333333\n",
            "in kernel rbf: 0.9458333333333333\n",
            "in kernel poly: 0.9208333333333333\n",
            "in kernel sigmoid: 0.835\n"
          ]
        }
      ],
      "source": [
        "# define the different kernel types\n",
        "kernel_types = ['linear', 'rbf', 'poly', 'sigmoid']\n",
        "i = 0\n",
        "\n",
        "for kernel in kernel_types:\n",
        "    # Create an SVM classifier with OvO method\n",
        "    svm_classifier_ovo = OneVsOneClassifier(SVC(kernel=kernel, random_state=42))\n",
        "\n",
        "    # Train the classifier\n",
        "    svm_classifier_ovo.fit(X_train, y_train)\n",
        "\n",
        "    # Make predictions\n",
        "    y_pred_ovo = svm_classifier_ovo.predict(X_test)\n",
        "\n",
        "    # Calculate accuracy\n",
        "    accuracy_ovo = accuracy_score(y_test, y_pred_ovo)\n",
        "\n",
        "    # print the results\n",
        "    if i == 0:\n",
        "      print(\"Accuracy in OVO:\")\n",
        "\n",
        "    print(f\"in kernel {kernel}: {accuracy_ovo}\")\n",
        "    i += 1\n"
      ]
    },
    {
      "cell_type": "markdown",
      "metadata": {
        "id": "4kwJB92yj5LJ"
      },
      "source": [
        "- analyse the dataset with kernel & C parameters"
      ]
    },
    {
      "cell_type": "code",
      "execution_count": 18,
      "metadata": {
        "colab": {
          "base_uri": "https://localhost:8080/"
        },
        "id": "vJdODJ9acnmv",
        "outputId": "23937c4b-92ab-42ba-bada-0d652a2292ab"
      },
      "outputs": [
        {
          "name": "stdout",
          "output_type": "stream",
          "text": [
            "Kernel: linear, Best Parameters: {'estimator__C': 0.01}, Accuracy: 0.8883333333333333\n",
            "Kernel: rbf, Best Parameters: {'estimator__C': 10.0}, Accuracy: 0.95\n",
            "Kernel: poly, Best Parameters: {'estimator__C': 10.0}, Accuracy: 0.925\n",
            "Kernel: sigmoid, Best Parameters: {'estimator__C': 1.0}, Accuracy: 0.835\n",
            "\n",
            "Best Parameters per Kernel:\n",
            "Kernel: linear, Best Parameters: {'estimator__C': 0.01}\n",
            "Kernel: rbf, Best Parameters: {'estimator__C': 10.0}\n",
            "Kernel: poly, Best Parameters: {'estimator__C': 10.0}\n",
            "Kernel: sigmoid, Best Parameters: {'estimator__C': 1.0}\n"
          ]
        }
      ],
      "source": [
        "# Define the different kernel types\n",
        "kernel_types = ['linear', 'rbf', 'poly', 'sigmoid']\n",
        "\n",
        "# Define a range of C values to search over\n",
        "C_values = [0.01, 0.1, 1.0, 10.0, 100]\n",
        "\n",
        "# store the best parameters\n",
        "best_params_per_kernel = {}\n",
        "\n",
        "for kernel in kernel_types:\n",
        "    # Create an SVM classifier with OvO method\n",
        "    svm_classifier_ovo = OneVsOneClassifier(SVC(kernel=kernel, random_state=42))\n",
        "\n",
        "    # Define the parameter grid for GridSearchCV\n",
        "    param_grid = {'estimator__C': C_values}\n",
        "\n",
        "    # Create GridSearchCV object\n",
        "    grid_search = GridSearchCV(svm_classifier_ovo, param_grid,\n",
        "                               cv=5, scoring='accuracy')\n",
        "\n",
        "    # Fit the model to your data\n",
        "    grid_search.fit(X_train, y_train)\n",
        "\n",
        "    # Get the best parameters from the grid search\n",
        "    best_params = grid_search.best_params_\n",
        "\n",
        "    # Store the best parameters for each kernel type\n",
        "    best_params_per_kernel[kernel] = best_params\n",
        "\n",
        "    # Make predictions using the best model\n",
        "    y_pred_ovo = grid_search.predict(X_test)\n",
        "\n",
        "    # Calculate accuracy\n",
        "    accuracy_ovo = accuracy_score(y_test, y_pred_ovo)\n",
        "\n",
        "    # Print the results\n",
        "    print(f\"Kernel: {kernel}, Best Parameters: {best_params}, Accuracy: {accuracy_ovo}\")\n",
        "\n",
        "# Print the best parameters for each kernel type\n",
        "print(\"\\nBest Parameters per Kernel:\")\n",
        "for kernel, best_params in best_params_per_kernel.items():\n",
        "    print(f\"Kernel: {kernel}, Best Parameters: {best_params}\")\n"
      ]
    },
    {
      "cell_type": "markdown",
      "metadata": {},
      "source": [
        "## **Model Robustness Analysis in Different Scenarios**"
      ]
    },
    {
      "cell_type": "markdown",
      "metadata": {
        "id": "ShpLmL0G_h4J"
      },
      "source": [
        "### *Add Salt & Pepper Noise*"
      ]
    },
    {
      "cell_type": "code",
      "execution_count": 17,
      "metadata": {
        "colab": {
          "base_uri": "https://localhost:8080/"
        },
        "id": "ETHNLsEhZBju",
        "outputId": "cbeeb59c-96b0-49d8-f42e-c3ce141b4210"
      },
      "outputs": [
        {
          "name": "stdout",
          "output_type": "stream",
          "text": [
            "Accuracy with noise level 0.05 in kernel linear: 0.09583333333333334\n",
            "Accuracy with noise level 0.05 in kernel rbf: 0.09\n",
            "Accuracy with noise level 0.05 in kernel poly: 0.09\n",
            "Accuracy with noise level 0.05 in kernel sigmoid: 0.10666666666666667\n",
            "Accuracy with noise level 0.1 in kernel linear: 0.09583333333333334\n",
            "Accuracy with noise level 0.1 in kernel rbf: 0.09\n",
            "Accuracy with noise level 0.1 in kernel poly: 0.09\n",
            "Accuracy with noise level 0.1 in kernel sigmoid: 0.10666666666666667\n",
            "Accuracy with noise level 0.15 in kernel linear: 0.09583333333333334\n",
            "Accuracy with noise level 0.15 in kernel rbf: 0.09\n",
            "Accuracy with noise level 0.15 in kernel poly: 0.09\n",
            "Accuracy with noise level 0.15 in kernel sigmoid: 0.10666666666666667\n",
            "Accuracy with noise level 0.1 in kernel linear: 0.09583333333333334\n",
            "Accuracy with noise level 0.1 in kernel rbf: 0.09\n",
            "Accuracy with noise level 0.1 in kernel poly: 0.09\n",
            "Accuracy with noise level 0.1 in kernel sigmoid: 0.10666666666666667\n",
            "Accuracy with noise level 0.2 in kernel linear: 0.09583333333333334\n",
            "Accuracy with noise level 0.2 in kernel rbf: 0.09\n",
            "Accuracy with noise level 0.2 in kernel poly: 0.09\n",
            "Accuracy with noise level 0.2 in kernel sigmoid: 0.10666666666666667\n"
          ]
        }
      ],
      "source": [
        "# Function to add salt-and-pepper noise to images\n",
        "def add_noise_Salt_Pepper(images_dataset, amount):\n",
        "    noisy_dataset = []\n",
        "\n",
        "    for image in images_dataset:\n",
        "        # Add pepper and salt noise\n",
        "        noisy_image = random_noise(image, mode='s&p', amount=amount)\n",
        "\n",
        "        noisy_image = np.clip(noisy_image, 0, 1)\n",
        "\n",
        "        noisy_dataset.append(noisy_image)\n",
        "\n",
        "    return noisy_dataset\n",
        "\n",
        "# define the different kernel types\n",
        "kernel_types = ['linear', 'rbf', 'poly', 'sigmoid']\n",
        "\n",
        "# define the different noise levels\n",
        "noise_levels = [0.05, 0.1, 0.15, 0.1, 0.2]\n",
        "\n",
        "for noise_level in noise_levels:\n",
        "    for kernel in kernel_types:\n",
        "        # Create an SVM classifier with OvO method\n",
        "        svm_classifier_ovo = OneVsOneClassifier(SVC(kernel=kernel,\n",
        "                                                    random_state=42))\n",
        "\n",
        "        # Train the classifier\n",
        "        svm_classifier_ovo.fit(X_train, y_train)\n",
        "\n",
        "        # Add noise to the test set\n",
        "        noisy_X_test = add_noise_Salt_Pepper(X_test, noise_level)\n",
        "\n",
        "        # Make predictions on the noisy test set\n",
        "        y_pred_noisy = svm_classifier_ovo.predict(noisy_X_test)\n",
        "\n",
        "        # Calculate accuracy on the noisy test set\n",
        "        accuracy_noisy = accuracy_score(y_test, y_pred_noisy)\n",
        "\n",
        "        print(f\"Accuracy with noise level {noise_level} in kernel {kernel}: {accuracy_noisy}\")\n"
      ]
    },
    {
      "cell_type": "markdown",
      "metadata": {
        "id": "J7a5Yw-XZ5vY"
      },
      "source": [
        "As the results show, despite of considering all of the kernels and different range of probabiliries for noise, the accuracies are just about 9% or 10% !\n",
        "\n",
        "So the dataset is not robust to adding the salt & pepper noise when we use SVM."
      ]
    },
    {
      "cell_type": "markdown",
      "metadata": {
        "id": "ovNJprABBuh2"
      },
      "source": [
        "### *Add Rotation*"
      ]
    },
    {
      "cell_type": "markdown",
      "metadata": {
        "id": "58WArPfX9C_B"
      },
      "source": [
        "I used 'rbf' kernel here because it was given the best accuracy in previous parts."
      ]
    },
    {
      "cell_type": "markdown",
      "metadata": {
        "id": "onRvaDLw9TOs"
      },
      "source": [
        "- use **cv2.INTER_NEAREST** as a flag"
      ]
    },
    {
      "cell_type": "code",
      "execution_count": 30,
      "metadata": {
        "colab": {
          "base_uri": "https://localhost:8080/"
        },
        "id": "SFGqRH42B0AR",
        "outputId": "0d439b5a-e431-4da2-a7c4-f8e6322021ce"
      },
      "outputs": [
        {
          "name": "stdout",
          "output_type": "stream",
          "text": [
            "Accuracy after rotating test data by 30 degrees: 0.17583333333333334\n"
          ]
        }
      ],
      "source": [
        "# Function to rotate images\n",
        "def rotate_images(images, angle):\n",
        "    rotated_images = []\n",
        "    for image in images:\n",
        "        # Reshape the flattened image\n",
        "        original_shape = size\n",
        "        reshaped_image = image.reshape(original_shape)\n",
        "\n",
        "        # Rotate the image by the specified angle\n",
        "        rotated_image = cv2.warpAffine(reshaped_image,\n",
        "                                       cv2.getRotationMatrix2D((size[1]/2, size[0]/2), angle, 1.0),\n",
        "                                       original_shape,\n",
        "                                       flags=cv2.INTER_NEAREST,\n",
        "                                       borderMode=cv2.BORDER_CONSTANT,\n",
        "                                       borderValue=0)\n",
        "        rotated_images.append(rotated_image.flatten())\n",
        "    return np.array(rotated_images)\n",
        "\n",
        "# Rotate the test set by 30 degrees\n",
        "rotated_X_test = rotate_images(X_test, 30)\n",
        "\n",
        "# Create an SVM classifier with OvO method\n",
        "svm_classifier_ovo = OneVsOneClassifier(SVC(kernel='rbf',\n",
        "                                            random_state=42))\n",
        "\n",
        "# Train the classifier\n",
        "svm_classifier_ovo.fit(X_train, y_train)\n",
        "\n",
        "# Make predictions on the rotated test set\n",
        "y_pred_rotated = svm_classifier_ovo.predict(rotated_X_test)\n",
        "\n",
        "# Calculate accuracy on the rotated test set\n",
        "accuracy_rotated = accuracy_score(y_test, y_pred_rotated)\n",
        "\n",
        "print(f\"Accuracy after rotating test data by 30 degrees: {accuracy_rotated}\")\n"
      ]
    },
    {
      "cell_type": "markdown",
      "metadata": {
        "id": "CI928xMq9uox"
      },
      "source": [
        "- use **cv2.INTER_LINEAR** as a flag"
      ]
    },
    {
      "cell_type": "code",
      "execution_count": 33,
      "metadata": {
        "colab": {
          "base_uri": "https://localhost:8080/"
        },
        "id": "j_JygJnq9m4F",
        "outputId": "9f6b8094-f35c-4172-f111-057cfb3323a4"
      },
      "outputs": [
        {
          "name": "stdout",
          "output_type": "stream",
          "text": [
            "Accuracy after rotating test data by 30 degrees: 0.18\n"
          ]
        }
      ],
      "source": [
        "# Function to rotate images\n",
        "def rotate_images(images, angle):\n",
        "    rotated_images = []\n",
        "    for image in images:\n",
        "        # Reshape the flattened image\n",
        "        original_shape = size\n",
        "        reshaped_image = image.reshape(original_shape)\n",
        "\n",
        "        # Rotate the image by the specified angle\n",
        "        rotated_image = cv2.warpAffine(reshaped_image,\n",
        "                                       cv2.getRotationMatrix2D((size[1]/2, size[0]/2), angle, 1.0),\n",
        "                                       original_shape,\n",
        "                                       flags=cv2.INTER_LINEAR)\n",
        "        rotated_images.append(rotated_image.flatten())\n",
        "    return np.array(rotated_images)\n",
        "\n",
        "# Rotate the test set by 30 degrees\n",
        "rotated_X_test = rotate_images(X_test, 30)\n",
        "\n",
        "# Make predictions on the rotated test set\n",
        "y_pred_rotated = svm_classifier_ovo.predict(rotated_X_test)\n",
        "\n",
        "# Calculate accuracy on the rotated test set\n",
        "accuracy_rotated = accuracy_score(y_test, y_pred_rotated)\n",
        "\n",
        "print(f\"Accuracy after rotating test data by 30 degrees: {accuracy_rotated}\")\n"
      ]
    },
    {
      "cell_type": "markdown",
      "metadata": {
        "id": "bOiT2aE99hrm"
      },
      "source": [
        "- use **cv2.INTER_CUBIC** as a flag"
      ]
    },
    {
      "cell_type": "code",
      "execution_count": 32,
      "metadata": {
        "colab": {
          "base_uri": "https://localhost:8080/"
        },
        "id": "o4y6QgHU1bSU",
        "outputId": "fd00cdc1-2655-454a-e93d-6b3664935998"
      },
      "outputs": [
        {
          "name": "stdout",
          "output_type": "stream",
          "text": [
            "Accuracy after rotating test data by 30 degrees: 0.18166666666666667\n"
          ]
        }
      ],
      "source": [
        "# Function to rotate images\n",
        "def rotate_images(images, angle):\n",
        "    rotated_images = []\n",
        "    for image in images:\n",
        "        # Reshape the flattened image\n",
        "        original_shape = size\n",
        "        reshaped_image = image.reshape(original_shape)\n",
        "\n",
        "        # Rotate the image by the specified angle\n",
        "        rotated_image = cv2.warpAffine(reshaped_image,\n",
        "                                       cv2.getRotationMatrix2D((size[1]/2, size[0]/2), angle, 1.0),\n",
        "                                       original_shape,\n",
        "                                       flags=cv2.INTER_CUBIC)\n",
        "        rotated_images.append(rotated_image.flatten())\n",
        "    return np.array(rotated_images)\n",
        "\n",
        "# Rotate the test set by 30 degrees\n",
        "rotated_X_test = rotate_images(X_test, 30)\n",
        "\n",
        "# Make predictions on the rotated test set\n",
        "y_pred_rotated = svm_classifier_ovo.predict(rotated_X_test)\n",
        "\n",
        "# Calculate accuracy on the rotated test set\n",
        "accuracy_rotated = accuracy_score(y_test, y_pred_rotated)\n",
        "\n",
        "print(f\"Accuracy after rotating test data by 30 degrees: {accuracy_rotated}\")\n"
      ]
    },
    {
      "cell_type": "code",
      "execution_count": 34,
      "metadata": {
        "colab": {
          "base_uri": "https://localhost:8080/"
        },
        "id": "ORY98nX99_fr",
        "outputId": "fa483a07-d14c-457b-cb6b-0b5eae0c3417"
      },
      "outputs": [
        {
          "name": "stdout",
          "output_type": "stream",
          "text": [
            "Accuracy after rotating test data by 30 degrees: 0.18333333333333332\n"
          ]
        }
      ],
      "source": [
        "# Function to rotate images\n",
        "def rotate_images(images, angle):\n",
        "    rotated_images = []\n",
        "    for image in images:\n",
        "        # Reshape the flattened image\n",
        "        original_shape = size\n",
        "        reshaped_image = image.reshape(original_shape)\n",
        "\n",
        "        # Rotate the image by the specified angle\n",
        "        rotated_image = cv2.warpAffine(reshaped_image,\n",
        "                                       cv2.getRotationMatrix2D((size[1]/2, size[0]/2), angle, 1.0),\n",
        "                                       original_shape,\n",
        "                                       flags=cv2.INTER_LANCZOS4)\n",
        "        rotated_images.append(rotated_image.flatten())\n",
        "    return np.array(rotated_images)\n",
        "\n",
        "# Rotate the test set by 30 degrees\n",
        "rotated_X_test = rotate_images(X_test, 30)\n",
        "\n",
        "# Make predictions on the rotated test set\n",
        "y_pred_rotated = svm_classifier_ovo.predict(rotated_X_test)\n",
        "\n",
        "# Calculate accuracy on the rotated test set\n",
        "accuracy_rotated = accuracy_score(y_test, y_pred_rotated)\n",
        "\n",
        "print(f\"Accuracy after rotating test data by 30 degrees: {accuracy_rotated}\")\n"
      ]
    },
    {
      "cell_type": "markdown",
      "metadata": {
        "id": "Iik92WQU7b7w"
      },
      "source": [
        "As the result shows, the accuracy after rotation is low and about 18%. so it means that the dataset is not robust to rotation when we use SVM."
      ]
    }
  ],
  "metadata": {
    "accelerator": "TPU",
    "colab": {
      "provenance": []
    },
    "kernelspec": {
      "display_name": "Python 3",
      "name": "python3"
    },
    "language_info": {
      "name": "python"
    }
  },
  "nbformat": 4,
  "nbformat_minor": 0
}
