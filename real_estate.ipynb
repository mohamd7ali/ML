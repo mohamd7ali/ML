{
  "cells": [
    {
      "cell_type": "markdown",
      "id": "Zg9129gc6b9N",
      "metadata": {
        "id": "Zg9129gc6b9N"
      },
      "source": [
        "# **Regression Analysis**\n",
        "\n",
        "This notebook uses a **Real Estate Price Prediction** dataset with columns:\n",
        "- **No**\n",
        "- **X1 transaction date**\n",
        "- **X2 house age**\n",
        "- **X3 distance to the nearest MRT station**\n",
        "- **X4 number of convenience stores**\n",
        "- **X5 latitude**\n",
        "- **X6 longitude**\n",
        "- **Y house price of unit area**\n",
        "\n",
        "We will perform **extensive data exploration, preprocessing, and advanced regression** to illustrate:\n",
        "1. Data cleaning and transformation\n",
        "2. Exploratory Data Analysis (EDA) (correlations, partial correlations, VIF, etc.)\n",
        "3. Successive Orthogonalization (Gram–Schmidt) to address multicollinearity\n",
        "4. Splitting into training, validation, and test sets\n",
        "5. Building multiple polynomial regression models\n",
        "6. **Manually implementing** performance metrics (MSE, RMSE, R², F-statistic)\n",
        "7. Additional advanced topics:\n",
        "   - Cook’s distance to identify outliers/influential points\n",
        "   - Q–Q plots and normality tests of residuals (Shapiro–Wilk)\n",
        "   - Partial F-tests to compare models of different complexity\n",
        "   - Variance Inflation Factor (VIF)\n",
        "   - Cochran’s theorem, variance of noise, ANOVA, etc.\n",
        "\n",
        "Throughout, we will intersperse theoretical explanations and references for deeper study."
      ]
    },
    {
      "cell_type": "markdown",
      "id": "zC1mTTsj6b9P",
      "metadata": {
        "id": "zC1mTTsj6b9P"
      },
      "source": [
        "### **Let's begin!**"
      ]
    },
    {
      "cell_type": "markdown",
      "id": "a98bcd68",
      "metadata": {},
      "source": [
        "# **A)**"
      ]
    },
    {
      "cell_type": "markdown",
      "id": "GP9WBgNx6b9P",
      "metadata": {
        "id": "GP9WBgNx6b9P"
      },
      "source": [
        "### import packages"
      ]
    },
    {
      "cell_type": "code",
      "execution_count": 3,
      "id": "VJHkXz3D6b9Q",
      "metadata": {
        "colab": {
          "base_uri": "https://localhost:8080/"
        },
        "id": "VJHkXz3D6b9Q",
        "outputId": "c9d104fe-0222-44b8-9a74-0bb685273cd9"
      },
      "outputs": [
        {
          "name": "stdout",
          "output_type": "stream",
          "text": [
            "Setup complete.\n"
          ]
        }
      ],
      "source": [
        "# Standard libraries\n",
        "import numpy as np\n",
        "import pandas as pd\n",
        "import matplotlib.pyplot as plt\n",
        "import seaborn as sns\n",
        "\n",
        "# For splitting data, polynomial transformations, etc.\n",
        "from sklearn.model_selection import train_test_split, KFold\n",
        "from sklearn.preprocessing import PolynomialFeatures, StandardScaler\n",
        "from sklearn.linear_model import LinearRegression\n",
        "# from scipy.stats import shapiro\n",
        "\n",
        "import warnings\n",
        "warnings.filterwarnings('ignore')\n",
        "\n",
        "# For reproducibility\n",
        "np.random.seed(42)\n",
        "\n",
        "plt.rcParams[\"figure.figsize\"] = (8,6)\n",
        "sns.set_style(\"whitegrid\")\n",
        "print(\"Setup complete.\")"
      ]
    },
    {
      "cell_type": "markdown",
      "id": "8d82cf79",
      "metadata": {},
      "source": [
        "### Data Loading\n",
        "The dataset has the following columns:\n",
        "- **No** (index or ID)\n",
        "- **X1 transaction date**\n",
        "- **X2 house age**\n",
        "- **X3 distance to the nearest MRT station**\n",
        "- **X4 number of convenience stores**\n",
        "- **X5 latitude**\n",
        "- **X6 longitude**\n",
        "- **Y house price of unit area**\n",
        "\n",
        "We’ll load this file into a Pandas DataFrame."
      ]
    },
    {
      "cell_type": "code",
      "execution_count": null,
      "id": "806Az2UK6b9Q",
      "metadata": {
        "colab": {
          "base_uri": "https://localhost:8080/",
          "height": 698
        },
        "id": "806Az2UK6b9Q",
        "outputId": "64dcfa10-bdac-4dd5-b6c9-7308df1db6d4"
      },
      "outputs": [
        {
          "data": {
            "application/vnd.microsoft.datawrangler.viewer.v0+json": {
              "columns": [
                {
                  "name": "index",
                  "rawType": "int64",
                  "type": "integer"
                },
                {
                  "name": "No",
                  "rawType": "int64",
                  "type": "integer"
                },
                {
                  "name": "X1 transaction date",
                  "rawType": "float64",
                  "type": "float"
                },
                {
                  "name": "X2 house age",
                  "rawType": "float64",
                  "type": "float"
                },
                {
                  "name": "X3 distance to the nearest MRT station",
                  "rawType": "float64",
                  "type": "float"
                },
                {
                  "name": "X4 number of convenience stores",
                  "rawType": "int64",
                  "type": "integer"
                },
                {
                  "name": "X5 latitude",
                  "rawType": "float64",
                  "type": "float"
                },
                {
                  "name": "X6 longitude",
                  "rawType": "float64",
                  "type": "float"
                },
                {
                  "name": "Y house price of unit area",
                  "rawType": "float64",
                  "type": "float"
                }
              ],
              "conversionMethod": "pd.DataFrame",
              "ref": "0911d99a-9399-4ade-acbc-cb1bf298b77a",
              "rows": [
                [
                  "0",
                  "1",
                  "2012.917",
                  "32.0",
                  "84.87882",
                  "10",
                  "24.98298",
                  "121.54024",
                  "37.9"
                ],
                [
                  "1",
                  "2",
                  "2012.917",
                  "19.5",
                  "306.5947",
                  "9",
                  "24.98034",
                  "121.53951",
                  "42.2"
                ],
                [
                  "2",
                  "3",
                  "2013.583",
                  "13.3",
                  "561.9845",
                  "5",
                  "24.98746",
                  "121.54391",
                  "47.3"
                ],
                [
                  "3",
                  "4",
                  "2013.5",
                  "13.3",
                  "561.9845",
                  "5",
                  "24.98746",
                  "121.54391",
                  "54.8"
                ],
                [
                  "4",
                  "5",
                  "2012.833",
                  "5.0",
                  "390.5684",
                  "5",
                  "24.97937",
                  "121.54245",
                  "43.1"
                ],
                [
                  "5",
                  "6",
                  "2012.667",
                  "7.1",
                  "2175.03",
                  "3",
                  "24.96305",
                  "121.51254",
                  "32.1"
                ],
                [
                  "6",
                  "7",
                  "2012.667",
                  "34.5",
                  "623.4731",
                  "7",
                  "24.97933",
                  "121.53642",
                  "40.3"
                ],
                [
                  "7",
                  "8",
                  "2013.417",
                  "20.3",
                  "287.6025",
                  "6",
                  "24.98042",
                  "121.54228",
                  "46.7"
                ],
                [
                  "8",
                  "9",
                  "2013.5",
                  "31.7",
                  "5512.038",
                  "1",
                  "24.95095",
                  "121.48458",
                  "18.8"
                ],
                [
                  "9",
                  "10",
                  "2013.417",
                  "17.9",
                  "1783.18",
                  "3",
                  "24.96731",
                  "121.51486",
                  "22.1"
                ],
                [
                  "10",
                  "11",
                  "2013.083",
                  "34.8",
                  "405.2134",
                  "1",
                  "24.97349",
                  "121.53372",
                  "41.4"
                ],
                [
                  "11",
                  "12",
                  "2013.333",
                  "6.3",
                  "90.45606",
                  "9",
                  "24.97433",
                  "121.5431",
                  "58.1"
                ],
                [
                  "12",
                  "13",
                  "2012.917",
                  "13.0",
                  "492.2313",
                  "5",
                  "24.96515",
                  "121.53737",
                  "39.3"
                ],
                [
                  "13",
                  "14",
                  "2012.667",
                  "20.4",
                  "2469.645",
                  "4",
                  "24.96108",
                  "121.51046",
                  "23.8"
                ],
                [
                  "14",
                  "15",
                  "2013.5",
                  "13.2",
                  "1164.838",
                  "4",
                  "24.99156",
                  "121.53406",
                  "34.3"
                ],
                [
                  "15",
                  "16",
                  "2013.583",
                  "35.7",
                  "579.2083",
                  "2",
                  "24.9824",
                  "121.54619",
                  "50.5"
                ],
                [
                  "16",
                  "17",
                  "2013.25",
                  "0.0",
                  "292.9978",
                  "6",
                  "24.97744",
                  "121.54458",
                  "70.1"
                ],
                [
                  "17",
                  "18",
                  "2012.75",
                  "17.7",
                  "350.8515",
                  "1",
                  "24.97544",
                  "121.53119",
                  "37.4"
                ],
                [
                  "18",
                  "19",
                  "2013.417",
                  "16.9",
                  "368.1363",
                  "8",
                  "24.9675",
                  "121.54451",
                  "42.3"
                ],
                [
                  "19",
                  "20",
                  "2012.667",
                  "1.5",
                  "23.38284",
                  "7",
                  "24.96772",
                  "121.54102",
                  "47.7"
                ],
                [
                  "20",
                  "21",
                  "2013.417",
                  "4.5",
                  "2275.877",
                  "3",
                  "24.96314",
                  "121.51151",
                  "29.3"
                ],
                [
                  "21",
                  "22",
                  "2013.417",
                  "10.5",
                  "279.1726",
                  "7",
                  "24.97528",
                  "121.54541",
                  "51.6"
                ],
                [
                  "22",
                  "23",
                  "2012.917",
                  "14.7",
                  "1360.139",
                  "1",
                  "24.95204",
                  "121.54842",
                  "24.6"
                ],
                [
                  "23",
                  "24",
                  "2013.083",
                  "10.1",
                  "279.1726",
                  "7",
                  "24.97528",
                  "121.54541",
                  "47.9"
                ],
                [
                  "24",
                  "25",
                  "2013.0",
                  "39.6",
                  "480.6977",
                  "4",
                  "24.97353",
                  "121.53885",
                  "38.8"
                ],
                [
                  "25",
                  "26",
                  "2013.083",
                  "29.3",
                  "1487.868",
                  "2",
                  "24.97542",
                  "121.51726",
                  "27.0"
                ],
                [
                  "26",
                  "27",
                  "2012.667",
                  "3.1",
                  "383.8624",
                  "5",
                  "24.98085",
                  "121.54391",
                  "56.2"
                ],
                [
                  "27",
                  "28",
                  "2013.25",
                  "10.4",
                  "276.449",
                  "5",
                  "24.95593",
                  "121.53913",
                  "33.6"
                ],
                [
                  "28",
                  "29",
                  "2013.5",
                  "19.2",
                  "557.478",
                  "4",
                  "24.97419",
                  "121.53797",
                  "47.0"
                ],
                [
                  "29",
                  "30",
                  "2013.083",
                  "7.1",
                  "451.2438",
                  "5",
                  "24.97563",
                  "121.54694",
                  "57.1"
                ],
                [
                  "30",
                  "31",
                  "2013.5",
                  "25.9",
                  "4519.69",
                  "0",
                  "24.94826",
                  "121.49587",
                  "22.1"
                ],
                [
                  "31",
                  "32",
                  "2012.75",
                  "29.6",
                  "769.4034",
                  "7",
                  "24.98281",
                  "121.53408",
                  "25.0"
                ],
                [
                  "32",
                  "33",
                  "2012.75",
                  "37.9",
                  "488.5727",
                  "1",
                  "24.97349",
                  "121.53451",
                  "34.2"
                ],
                [
                  "33",
                  "34",
                  "2013.25",
                  "16.5",
                  "323.655",
                  "6",
                  "24.97841",
                  "121.54281",
                  "49.3"
                ],
                [
                  "34",
                  "35",
                  "2012.75",
                  "15.4",
                  "205.367",
                  "7",
                  "24.98419",
                  "121.54243",
                  "55.1"
                ],
                [
                  "35",
                  "36",
                  "2013.5",
                  "13.9",
                  "4079.418",
                  "0",
                  "25.01459",
                  "121.51816",
                  "27.3"
                ],
                [
                  "36",
                  "37",
                  "2012.917",
                  "14.7",
                  "1935.009",
                  "2",
                  "24.96386",
                  "121.51458",
                  "22.9"
                ],
                [
                  "37",
                  "38",
                  "2013.167",
                  "12.0",
                  "1360.139",
                  "1",
                  "24.95204",
                  "121.54842",
                  "25.3"
                ],
                [
                  "38",
                  "39",
                  "2012.667",
                  "3.1",
                  "577.9615",
                  "6",
                  "24.97201",
                  "121.54722",
                  "47.7"
                ],
                [
                  "39",
                  "40",
                  "2013.167",
                  "16.2",
                  "289.3248",
                  "5",
                  "24.98203",
                  "121.54348",
                  "46.2"
                ],
                [
                  "40",
                  "41",
                  "2013.0",
                  "13.6",
                  "4082.015",
                  "0",
                  "24.94155",
                  "121.50381",
                  "15.9"
                ],
                [
                  "41",
                  "42",
                  "2013.5",
                  "16.8",
                  "4066.587",
                  "0",
                  "24.94297",
                  "121.50342",
                  "18.2"
                ],
                [
                  "42",
                  "43",
                  "2013.417",
                  "36.1",
                  "519.4617",
                  "5",
                  "24.96305",
                  "121.53758",
                  "34.7"
                ],
                [
                  "43",
                  "44",
                  "2012.75",
                  "34.4",
                  "512.7871",
                  "6",
                  "24.98748",
                  "121.54301",
                  "34.1"
                ],
                [
                  "44",
                  "45",
                  "2013.583",
                  "2.7",
                  "533.4762",
                  "4",
                  "24.97445",
                  "121.54765",
                  "53.9"
                ],
                [
                  "45",
                  "46",
                  "2013.083",
                  "36.6",
                  "488.8193",
                  "8",
                  "24.97015",
                  "121.54494",
                  "38.3"
                ],
                [
                  "46",
                  "47",
                  "2013.417",
                  "21.7",
                  "463.9623",
                  "9",
                  "24.9703",
                  "121.54458",
                  "42.0"
                ],
                [
                  "47",
                  "48",
                  "2013.583",
                  "35.9",
                  "640.7391",
                  "3",
                  "24.97563",
                  "121.53715",
                  "61.5"
                ],
                [
                  "48",
                  "49",
                  "2013.417",
                  "24.2",
                  "4605.749",
                  "0",
                  "24.94684",
                  "121.49578",
                  "13.4"
                ],
                [
                  "49",
                  "50",
                  "2012.667",
                  "29.4",
                  "4510.359",
                  "1",
                  "24.94925",
                  "121.49542",
                  "13.2"
                ]
              ],
              "shape": {
                "columns": 8,
                "rows": 414
              }
            },
            "text/html": [
              "<div>\n",
              "<style scoped>\n",
              "    .dataframe tbody tr th:only-of-type {\n",
              "        vertical-align: middle;\n",
              "    }\n",
              "\n",
              "    .dataframe tbody tr th {\n",
              "        vertical-align: top;\n",
              "    }\n",
              "\n",
              "    .dataframe thead th {\n",
              "        text-align: right;\n",
              "    }\n",
              "</style>\n",
              "<table border=\"1\" class=\"dataframe\">\n",
              "  <thead>\n",
              "    <tr style=\"text-align: right;\">\n",
              "      <th></th>\n",
              "      <th>No</th>\n",
              "      <th>X1 transaction date</th>\n",
              "      <th>X2 house age</th>\n",
              "      <th>X3 distance to the nearest MRT station</th>\n",
              "      <th>X4 number of convenience stores</th>\n",
              "      <th>X5 latitude</th>\n",
              "      <th>X6 longitude</th>\n",
              "      <th>Y house price of unit area</th>\n",
              "    </tr>\n",
              "  </thead>\n",
              "  <tbody>\n",
              "    <tr>\n",
              "      <th>0</th>\n",
              "      <td>1</td>\n",
              "      <td>2012.917</td>\n",
              "      <td>32.0</td>\n",
              "      <td>84.87882</td>\n",
              "      <td>10</td>\n",
              "      <td>24.98298</td>\n",
              "      <td>121.54024</td>\n",
              "      <td>37.9</td>\n",
              "    </tr>\n",
              "    <tr>\n",
              "      <th>1</th>\n",
              "      <td>2</td>\n",
              "      <td>2012.917</td>\n",
              "      <td>19.5</td>\n",
              "      <td>306.59470</td>\n",
              "      <td>9</td>\n",
              "      <td>24.98034</td>\n",
              "      <td>121.53951</td>\n",
              "      <td>42.2</td>\n",
              "    </tr>\n",
              "    <tr>\n",
              "      <th>2</th>\n",
              "      <td>3</td>\n",
              "      <td>2013.583</td>\n",
              "      <td>13.3</td>\n",
              "      <td>561.98450</td>\n",
              "      <td>5</td>\n",
              "      <td>24.98746</td>\n",
              "      <td>121.54391</td>\n",
              "      <td>47.3</td>\n",
              "    </tr>\n",
              "    <tr>\n",
              "      <th>3</th>\n",
              "      <td>4</td>\n",
              "      <td>2013.500</td>\n",
              "      <td>13.3</td>\n",
              "      <td>561.98450</td>\n",
              "      <td>5</td>\n",
              "      <td>24.98746</td>\n",
              "      <td>121.54391</td>\n",
              "      <td>54.8</td>\n",
              "    </tr>\n",
              "    <tr>\n",
              "      <th>4</th>\n",
              "      <td>5</td>\n",
              "      <td>2012.833</td>\n",
              "      <td>5.0</td>\n",
              "      <td>390.56840</td>\n",
              "      <td>5</td>\n",
              "      <td>24.97937</td>\n",
              "      <td>121.54245</td>\n",
              "      <td>43.1</td>\n",
              "    </tr>\n",
              "    <tr>\n",
              "      <th>...</th>\n",
              "      <td>...</td>\n",
              "      <td>...</td>\n",
              "      <td>...</td>\n",
              "      <td>...</td>\n",
              "      <td>...</td>\n",
              "      <td>...</td>\n",
              "      <td>...</td>\n",
              "      <td>...</td>\n",
              "    </tr>\n",
              "    <tr>\n",
              "      <th>409</th>\n",
              "      <td>410</td>\n",
              "      <td>2013.000</td>\n",
              "      <td>13.7</td>\n",
              "      <td>4082.01500</td>\n",
              "      <td>0</td>\n",
              "      <td>24.94155</td>\n",
              "      <td>121.50381</td>\n",
              "      <td>15.4</td>\n",
              "    </tr>\n",
              "    <tr>\n",
              "      <th>410</th>\n",
              "      <td>411</td>\n",
              "      <td>2012.667</td>\n",
              "      <td>5.6</td>\n",
              "      <td>90.45606</td>\n",
              "      <td>9</td>\n",
              "      <td>24.97433</td>\n",
              "      <td>121.54310</td>\n",
              "      <td>50.0</td>\n",
              "    </tr>\n",
              "    <tr>\n",
              "      <th>411</th>\n",
              "      <td>412</td>\n",
              "      <td>2013.250</td>\n",
              "      <td>18.8</td>\n",
              "      <td>390.96960</td>\n",
              "      <td>7</td>\n",
              "      <td>24.97923</td>\n",
              "      <td>121.53986</td>\n",
              "      <td>40.6</td>\n",
              "    </tr>\n",
              "    <tr>\n",
              "      <th>412</th>\n",
              "      <td>413</td>\n",
              "      <td>2013.000</td>\n",
              "      <td>8.1</td>\n",
              "      <td>104.81010</td>\n",
              "      <td>5</td>\n",
              "      <td>24.96674</td>\n",
              "      <td>121.54067</td>\n",
              "      <td>52.5</td>\n",
              "    </tr>\n",
              "    <tr>\n",
              "      <th>413</th>\n",
              "      <td>414</td>\n",
              "      <td>2013.500</td>\n",
              "      <td>6.5</td>\n",
              "      <td>90.45606</td>\n",
              "      <td>9</td>\n",
              "      <td>24.97433</td>\n",
              "      <td>121.54310</td>\n",
              "      <td>63.9</td>\n",
              "    </tr>\n",
              "  </tbody>\n",
              "</table>\n",
              "<p>414 rows × 8 columns</p>\n",
              "</div>"
            ],
            "text/plain": [
              "      No  X1 transaction date  X2 house age  \\\n",
              "0      1             2012.917          32.0   \n",
              "1      2             2012.917          19.5   \n",
              "2      3             2013.583          13.3   \n",
              "3      4             2013.500          13.3   \n",
              "4      5             2012.833           5.0   \n",
              "..   ...                  ...           ...   \n",
              "409  410             2013.000          13.7   \n",
              "410  411             2012.667           5.6   \n",
              "411  412             2013.250          18.8   \n",
              "412  413             2013.000           8.1   \n",
              "413  414             2013.500           6.5   \n",
              "\n",
              "     X3 distance to the nearest MRT station  X4 number of convenience stores  \\\n",
              "0                                  84.87882                               10   \n",
              "1                                 306.59470                                9   \n",
              "2                                 561.98450                                5   \n",
              "3                                 561.98450                                5   \n",
              "4                                 390.56840                                5   \n",
              "..                                      ...                              ...   \n",
              "409                              4082.01500                                0   \n",
              "410                                90.45606                                9   \n",
              "411                               390.96960                                7   \n",
              "412                               104.81010                                5   \n",
              "413                                90.45606                                9   \n",
              "\n",
              "     X5 latitude  X6 longitude  Y house price of unit area  \n",
              "0       24.98298     121.54024                        37.9  \n",
              "1       24.98034     121.53951                        42.2  \n",
              "2       24.98746     121.54391                        47.3  \n",
              "3       24.98746     121.54391                        54.8  \n",
              "4       24.97937     121.54245                        43.1  \n",
              "..           ...           ...                         ...  \n",
              "409     24.94155     121.50381                        15.4  \n",
              "410     24.97433     121.54310                        50.0  \n",
              "411     24.97923     121.53986                        40.6  \n",
              "412     24.96674     121.54067                        52.5  \n",
              "413     24.97433     121.54310                        63.9  \n",
              "\n",
              "[414 rows x 8 columns]"
            ]
          },
          "execution_count": 6,
          "metadata": {},
          "output_type": "execute_result"
        }
      ],
      "source": [
        "# Load data\n",
        "data_path = './real_estate.csv'  # Adjust if needed\n",
        "\n",
        "# TODO: Load the CSV file into a DataFrame\n",
        "df = pd.read_csv(data_path)\n",
        "df\n"
      ]
    },
    {
      "cell_type": "code",
      "execution_count": 32,
      "id": "991b9a98",
      "metadata": {},
      "outputs": [
        {
          "name": "stdout",
          "output_type": "stream",
          "text": [
            "shape of the dataset is:\n",
            "(414, 8)\n",
            "\n",
            "------------------------------------------------------\n",
            "Name of the Columns are: \n",
            "['No', 'X1 transaction date', 'X2 house age', 'X3 distance to the nearest MRT station', 'X4 number of convenience stores', 'X5 latitude', 'X6 longitude', 'Y house price of unit area']\n",
            "\n",
            "------------------------------------------------------\n",
            "First few rows of the dataset\n"
          ]
        },
        {
          "data": {
            "application/vnd.microsoft.datawrangler.viewer.v0+json": {
              "columns": [
                {
                  "name": "index",
                  "rawType": "int64",
                  "type": "integer"
                },
                {
                  "name": "No",
                  "rawType": "int64",
                  "type": "integer"
                },
                {
                  "name": "X1 transaction date",
                  "rawType": "float64",
                  "type": "float"
                },
                {
                  "name": "X2 house age",
                  "rawType": "float64",
                  "type": "float"
                },
                {
                  "name": "X3 distance to the nearest MRT station",
                  "rawType": "float64",
                  "type": "float"
                },
                {
                  "name": "X4 number of convenience stores",
                  "rawType": "int64",
                  "type": "integer"
                },
                {
                  "name": "X5 latitude",
                  "rawType": "float64",
                  "type": "float"
                },
                {
                  "name": "X6 longitude",
                  "rawType": "float64",
                  "type": "float"
                },
                {
                  "name": "Y house price of unit area",
                  "rawType": "float64",
                  "type": "float"
                }
              ],
              "conversionMethod": "pd.DataFrame",
              "ref": "330d06f0-2ec6-4bad-a43e-d41fe548eac8",
              "rows": [
                [
                  "0",
                  "1",
                  "2012.917",
                  "32.0",
                  "84.87882",
                  "10",
                  "24.98298",
                  "121.54024",
                  "37.9"
                ],
                [
                  "1",
                  "2",
                  "2012.917",
                  "19.5",
                  "306.5947",
                  "9",
                  "24.98034",
                  "121.53951",
                  "42.2"
                ],
                [
                  "2",
                  "3",
                  "2013.583",
                  "13.3",
                  "561.9845",
                  "5",
                  "24.98746",
                  "121.54391",
                  "47.3"
                ],
                [
                  "3",
                  "4",
                  "2013.5",
                  "13.3",
                  "561.9845",
                  "5",
                  "24.98746",
                  "121.54391",
                  "54.8"
                ],
                [
                  "4",
                  "5",
                  "2012.833",
                  "5.0",
                  "390.5684",
                  "5",
                  "24.97937",
                  "121.54245",
                  "43.1"
                ]
              ],
              "shape": {
                "columns": 8,
                "rows": 5
              }
            },
            "text/html": [
              "<div>\n",
              "<style scoped>\n",
              "    .dataframe tbody tr th:only-of-type {\n",
              "        vertical-align: middle;\n",
              "    }\n",
              "\n",
              "    .dataframe tbody tr th {\n",
              "        vertical-align: top;\n",
              "    }\n",
              "\n",
              "    .dataframe thead th {\n",
              "        text-align: right;\n",
              "    }\n",
              "</style>\n",
              "<table border=\"1\" class=\"dataframe\">\n",
              "  <thead>\n",
              "    <tr style=\"text-align: right;\">\n",
              "      <th></th>\n",
              "      <th>No</th>\n",
              "      <th>X1 transaction date</th>\n",
              "      <th>X2 house age</th>\n",
              "      <th>X3 distance to the nearest MRT station</th>\n",
              "      <th>X4 number of convenience stores</th>\n",
              "      <th>X5 latitude</th>\n",
              "      <th>X6 longitude</th>\n",
              "      <th>Y house price of unit area</th>\n",
              "    </tr>\n",
              "  </thead>\n",
              "  <tbody>\n",
              "    <tr>\n",
              "      <th>0</th>\n",
              "      <td>1</td>\n",
              "      <td>2012.917</td>\n",
              "      <td>32.0</td>\n",
              "      <td>84.87882</td>\n",
              "      <td>10</td>\n",
              "      <td>24.98298</td>\n",
              "      <td>121.54024</td>\n",
              "      <td>37.9</td>\n",
              "    </tr>\n",
              "    <tr>\n",
              "      <th>1</th>\n",
              "      <td>2</td>\n",
              "      <td>2012.917</td>\n",
              "      <td>19.5</td>\n",
              "      <td>306.59470</td>\n",
              "      <td>9</td>\n",
              "      <td>24.98034</td>\n",
              "      <td>121.53951</td>\n",
              "      <td>42.2</td>\n",
              "    </tr>\n",
              "    <tr>\n",
              "      <th>2</th>\n",
              "      <td>3</td>\n",
              "      <td>2013.583</td>\n",
              "      <td>13.3</td>\n",
              "      <td>561.98450</td>\n",
              "      <td>5</td>\n",
              "      <td>24.98746</td>\n",
              "      <td>121.54391</td>\n",
              "      <td>47.3</td>\n",
              "    </tr>\n",
              "    <tr>\n",
              "      <th>3</th>\n",
              "      <td>4</td>\n",
              "      <td>2013.500</td>\n",
              "      <td>13.3</td>\n",
              "      <td>561.98450</td>\n",
              "      <td>5</td>\n",
              "      <td>24.98746</td>\n",
              "      <td>121.54391</td>\n",
              "      <td>54.8</td>\n",
              "    </tr>\n",
              "    <tr>\n",
              "      <th>4</th>\n",
              "      <td>5</td>\n",
              "      <td>2012.833</td>\n",
              "      <td>5.0</td>\n",
              "      <td>390.56840</td>\n",
              "      <td>5</td>\n",
              "      <td>24.97937</td>\n",
              "      <td>121.54245</td>\n",
              "      <td>43.1</td>\n",
              "    </tr>\n",
              "  </tbody>\n",
              "</table>\n",
              "</div>"
            ],
            "text/plain": [
              "   No  X1 transaction date  X2 house age  \\\n",
              "0   1             2012.917          32.0   \n",
              "1   2             2012.917          19.5   \n",
              "2   3             2013.583          13.3   \n",
              "3   4             2013.500          13.3   \n",
              "4   5             2012.833           5.0   \n",
              "\n",
              "   X3 distance to the nearest MRT station  X4 number of convenience stores  \\\n",
              "0                                84.87882                               10   \n",
              "1                               306.59470                                9   \n",
              "2                               561.98450                                5   \n",
              "3                               561.98450                                5   \n",
              "4                               390.56840                                5   \n",
              "\n",
              "   X5 latitude  X6 longitude  Y house price of unit area  \n",
              "0     24.98298     121.54024                        37.9  \n",
              "1     24.98034     121.53951                        42.2  \n",
              "2     24.98746     121.54391                        47.3  \n",
              "3     24.98746     121.54391                        54.8  \n",
              "4     24.97937     121.54245                        43.1  "
            ]
          },
          "metadata": {},
          "output_type": "display_data"
        },
        {
          "name": "stdout",
          "output_type": "stream",
          "text": [
            "\n",
            "------------------------------------------------------\n",
            "Summary statistics of the dataset\n"
          ]
        },
        {
          "data": {
            "application/vnd.microsoft.datawrangler.viewer.v0+json": {
              "columns": [
                {
                  "name": "index",
                  "rawType": "object",
                  "type": "string"
                },
                {
                  "name": "No",
                  "rawType": "float64",
                  "type": "float"
                },
                {
                  "name": "X1 transaction date",
                  "rawType": "float64",
                  "type": "float"
                },
                {
                  "name": "X2 house age",
                  "rawType": "float64",
                  "type": "float"
                },
                {
                  "name": "X3 distance to the nearest MRT station",
                  "rawType": "float64",
                  "type": "float"
                },
                {
                  "name": "X4 number of convenience stores",
                  "rawType": "float64",
                  "type": "float"
                },
                {
                  "name": "X5 latitude",
                  "rawType": "float64",
                  "type": "float"
                },
                {
                  "name": "X6 longitude",
                  "rawType": "float64",
                  "type": "float"
                },
                {
                  "name": "Y house price of unit area",
                  "rawType": "float64",
                  "type": "float"
                }
              ],
              "conversionMethod": "pd.DataFrame",
              "ref": "716294d1-443d-43c3-9650-6bf061433c6a",
              "rows": [
                [
                  "count",
                  "414.0",
                  "414.0",
                  "414.0",
                  "414.0",
                  "414.0",
                  "414.0",
                  "414.0",
                  "414.0"
                ],
                [
                  "mean",
                  "207.5",
                  "2013.1489710144926",
                  "17.71256038647343",
                  "1083.8856889130436",
                  "4.094202898550725",
                  "24.969030072463767",
                  "121.53336108695655",
                  "37.980193236714975"
                ],
                [
                  "std",
                  "119.6557562342907",
                  "0.2819672402630118",
                  "11.392484533242536",
                  "1262.1095954078514",
                  "2.945561805663617",
                  "0.012410196590450335",
                  "0.015347183004592205",
                  "13.606487697735314"
                ],
                [
                  "min",
                  "1.0",
                  "2012.667",
                  "0.0",
                  "23.38284",
                  "0.0",
                  "24.93207",
                  "121.47353",
                  "7.6"
                ],
                [
                  "25%",
                  "104.25",
                  "2012.917",
                  "9.025",
                  "289.3248",
                  "1.0",
                  "24.963",
                  "121.528085",
                  "27.7"
                ],
                [
                  "50%",
                  "207.5",
                  "2013.167",
                  "16.1",
                  "492.2313",
                  "4.0",
                  "24.9711",
                  "121.53863",
                  "38.45"
                ],
                [
                  "75%",
                  "310.75",
                  "2013.417",
                  "28.15",
                  "1454.279",
                  "6.0",
                  "24.977455",
                  "121.543305",
                  "46.6"
                ],
                [
                  "max",
                  "414.0",
                  "2013.583",
                  "43.8",
                  "6488.021",
                  "10.0",
                  "25.01459",
                  "121.56627",
                  "117.5"
                ]
              ],
              "shape": {
                "columns": 8,
                "rows": 8
              }
            },
            "text/html": [
              "<div>\n",
              "<style scoped>\n",
              "    .dataframe tbody tr th:only-of-type {\n",
              "        vertical-align: middle;\n",
              "    }\n",
              "\n",
              "    .dataframe tbody tr th {\n",
              "        vertical-align: top;\n",
              "    }\n",
              "\n",
              "    .dataframe thead th {\n",
              "        text-align: right;\n",
              "    }\n",
              "</style>\n",
              "<table border=\"1\" class=\"dataframe\">\n",
              "  <thead>\n",
              "    <tr style=\"text-align: right;\">\n",
              "      <th></th>\n",
              "      <th>No</th>\n",
              "      <th>X1 transaction date</th>\n",
              "      <th>X2 house age</th>\n",
              "      <th>X3 distance to the nearest MRT station</th>\n",
              "      <th>X4 number of convenience stores</th>\n",
              "      <th>X5 latitude</th>\n",
              "      <th>X6 longitude</th>\n",
              "      <th>Y house price of unit area</th>\n",
              "    </tr>\n",
              "  </thead>\n",
              "  <tbody>\n",
              "    <tr>\n",
              "      <th>count</th>\n",
              "      <td>414.000000</td>\n",
              "      <td>414.000000</td>\n",
              "      <td>414.000000</td>\n",
              "      <td>414.000000</td>\n",
              "      <td>414.000000</td>\n",
              "      <td>414.000000</td>\n",
              "      <td>414.000000</td>\n",
              "      <td>414.000000</td>\n",
              "    </tr>\n",
              "    <tr>\n",
              "      <th>mean</th>\n",
              "      <td>207.500000</td>\n",
              "      <td>2013.148971</td>\n",
              "      <td>17.712560</td>\n",
              "      <td>1083.885689</td>\n",
              "      <td>4.094203</td>\n",
              "      <td>24.969030</td>\n",
              "      <td>121.533361</td>\n",
              "      <td>37.980193</td>\n",
              "    </tr>\n",
              "    <tr>\n",
              "      <th>std</th>\n",
              "      <td>119.655756</td>\n",
              "      <td>0.281967</td>\n",
              "      <td>11.392485</td>\n",
              "      <td>1262.109595</td>\n",
              "      <td>2.945562</td>\n",
              "      <td>0.012410</td>\n",
              "      <td>0.015347</td>\n",
              "      <td>13.606488</td>\n",
              "    </tr>\n",
              "    <tr>\n",
              "      <th>min</th>\n",
              "      <td>1.000000</td>\n",
              "      <td>2012.667000</td>\n",
              "      <td>0.000000</td>\n",
              "      <td>23.382840</td>\n",
              "      <td>0.000000</td>\n",
              "      <td>24.932070</td>\n",
              "      <td>121.473530</td>\n",
              "      <td>7.600000</td>\n",
              "    </tr>\n",
              "    <tr>\n",
              "      <th>25%</th>\n",
              "      <td>104.250000</td>\n",
              "      <td>2012.917000</td>\n",
              "      <td>9.025000</td>\n",
              "      <td>289.324800</td>\n",
              "      <td>1.000000</td>\n",
              "      <td>24.963000</td>\n",
              "      <td>121.528085</td>\n",
              "      <td>27.700000</td>\n",
              "    </tr>\n",
              "    <tr>\n",
              "      <th>50%</th>\n",
              "      <td>207.500000</td>\n",
              "      <td>2013.167000</td>\n",
              "      <td>16.100000</td>\n",
              "      <td>492.231300</td>\n",
              "      <td>4.000000</td>\n",
              "      <td>24.971100</td>\n",
              "      <td>121.538630</td>\n",
              "      <td>38.450000</td>\n",
              "    </tr>\n",
              "    <tr>\n",
              "      <th>75%</th>\n",
              "      <td>310.750000</td>\n",
              "      <td>2013.417000</td>\n",
              "      <td>28.150000</td>\n",
              "      <td>1454.279000</td>\n",
              "      <td>6.000000</td>\n",
              "      <td>24.977455</td>\n",
              "      <td>121.543305</td>\n",
              "      <td>46.600000</td>\n",
              "    </tr>\n",
              "    <tr>\n",
              "      <th>max</th>\n",
              "      <td>414.000000</td>\n",
              "      <td>2013.583000</td>\n",
              "      <td>43.800000</td>\n",
              "      <td>6488.021000</td>\n",
              "      <td>10.000000</td>\n",
              "      <td>25.014590</td>\n",
              "      <td>121.566270</td>\n",
              "      <td>117.500000</td>\n",
              "    </tr>\n",
              "  </tbody>\n",
              "</table>\n",
              "</div>"
            ],
            "text/plain": [
              "               No  X1 transaction date  X2 house age  \\\n",
              "count  414.000000           414.000000    414.000000   \n",
              "mean   207.500000          2013.148971     17.712560   \n",
              "std    119.655756             0.281967     11.392485   \n",
              "min      1.000000          2012.667000      0.000000   \n",
              "25%    104.250000          2012.917000      9.025000   \n",
              "50%    207.500000          2013.167000     16.100000   \n",
              "75%    310.750000          2013.417000     28.150000   \n",
              "max    414.000000          2013.583000     43.800000   \n",
              "\n",
              "       X3 distance to the nearest MRT station  \\\n",
              "count                              414.000000   \n",
              "mean                              1083.885689   \n",
              "std                               1262.109595   \n",
              "min                                 23.382840   \n",
              "25%                                289.324800   \n",
              "50%                                492.231300   \n",
              "75%                               1454.279000   \n",
              "max                               6488.021000   \n",
              "\n",
              "       X4 number of convenience stores  X5 latitude  X6 longitude  \\\n",
              "count                       414.000000   414.000000    414.000000   \n",
              "mean                          4.094203    24.969030    121.533361   \n",
              "std                           2.945562     0.012410      0.015347   \n",
              "min                           0.000000    24.932070    121.473530   \n",
              "25%                           1.000000    24.963000    121.528085   \n",
              "50%                           4.000000    24.971100    121.538630   \n",
              "75%                           6.000000    24.977455    121.543305   \n",
              "max                          10.000000    25.014590    121.566270   \n",
              "\n",
              "       Y house price of unit area  \n",
              "count                  414.000000  \n",
              "mean                    37.980193  \n",
              "std                     13.606488  \n",
              "min                      7.600000  \n",
              "25%                     27.700000  \n",
              "50%                     38.450000  \n",
              "75%                     46.600000  \n",
              "max                    117.500000  "
            ]
          },
          "metadata": {},
          "output_type": "display_data"
        },
        {
          "name": "stdout",
          "output_type": "stream",
          "text": [
            "------------------------------------------------------\n",
            "The Number of missing values for each column:\n",
            "No                                        0\n",
            "X1 transaction date                       0\n",
            "X2 house age                              0\n",
            "X3 distance to the nearest MRT station    0\n",
            "X4 number of convenience stores           0\n",
            "X5 latitude                               0\n",
            "X6 longitude                              0\n",
            "Y house price of unit area                0\n",
            "dtype: int64\n"
          ]
        }
      ],
      "source": [
        "# TODO: Print the shape of the dataset\n",
        "print(f\"shape of the dataset is:\\n{df.shape}\\n\")\n",
        "\n",
        "# TODO: Print the column names\n",
        "print(\"------------------------------------------------------\")\n",
        "print(f\"Name of the Columns are: \\n{df.columns.tolist()}\")\n",
        "\n",
        "# TODO: Display the first few rows of the dataset\n",
        "print(\"\\n------------------------------------------------------\")\n",
        "print(\"First few rows of the dataset\")\n",
        "display(df.head())\n",
        "\n",
        "# TODO: Show summary statistics of the dataset\n",
        "print(\"\\n------------------------------------------------------\")\n",
        "print(\"Summary statistics of the dataset\")\n",
        "display(df.describe())\n",
        "\n",
        "# TODO: Check and print the number of missing values for each column\n",
        "print(\"------------------------------------------------------\")\n",
        "print(f\"The Number of missing values for each column:\\n{df.isnull().sum()}\")"
      ]
    },
    {
      "cell_type": "markdown",
      "id": "a7cd6193",
      "metadata": {},
      "source": [
        "### Preprocessing\n",
        "We will:\n",
        "1. Drop or transform the **No** column if it’s just an index.\n",
        "2. Handle missing values.\n",
        "3. Possibly convert `X1 transaction date` to a numeric or cyclical feature.\n",
        "4. Scale the numeric features.\n",
        "\n",
        "Here, `Y` (house price of unit area) is our target. We assume all other numeric columns are features. We do a standardization for these features."
      ]
    },
    {
      "cell_type": "code",
      "execution_count": null,
      "id": "ed7e0c04",
      "metadata": {},
      "outputs": [],
      "source": [
        "# TODO: Import necessary libraries\n",
        "\n",
        "\n",
        "# 1. TODO: Drop the 'No' column if it exists\n",
        "\n",
        "\n",
        "# 2. TODO: Handle missing values\n",
        "# Hint: Fill numeric columns with the mean and categorical columns with the mode\n",
        "\n",
        "\n",
        "# 3. TODO: Convert 'X1 transaction date' to numeric if needed\n",
        "\n",
        "\n",
        "# 4. TODO: Scale the features (excluding 'Y house price of unit area')\n",
        "\n",
        "\n",
        "# TODO: Separate the target variable 'Y house price of unit area' without scaling\n",
        "\n",
        "\n",
        "# TODO: Print the shapes of X_scaled and y\n"
      ]
    },
    {
      "cell_type": "markdown",
      "id": "6zJJZC1E6b9R",
      "metadata": {
        "id": "6zJJZC1E6b9R"
      },
      "source": [
        "\n",
        "### Pairplot / Histograms\n",
        "We can start by quickly checking distributions using histograms or pairplots."
      ]
    },
    {
      "cell_type": "code",
      "execution_count": 6,
      "id": "vz63joLf6b9R",
      "metadata": {
        "colab": {
          "base_uri": "https://localhost:8080/",
          "height": 807
        },
        "id": "vz63joLf6b9R",
        "outputId": "3e5741a7-7f17-4264-e68a-b28e28666b77"
      },
      "outputs": [],
      "source": [
        "# TODO: Import necessary libraries\n",
        "\n",
        "\n",
        "# TODO: Select numeric columns (excluding 'No')\n",
        "\n",
        "\n",
        "# TODO: Create histograms for each numeric column\n",
        "\n",
        "\n",
        "# TODO: Adjust layout and display the plots\n"
      ]
    },
    {
      "cell_type": "markdown",
      "id": "SOkB2CQ26b9R",
      "metadata": {
        "id": "SOkB2CQ26b9R"
      },
      "source": [
        "### Correlation Matrix\n",
        "We examine the correlation matrix to see which features are strongly correlated with each other and with the target (Y)."
      ]
    },
    {
      "cell_type": "code",
      "execution_count": null,
      "id": "6eb2r7Er_a1t",
      "metadata": {
        "colab": {
          "base_uri": "https://localhost:8080/",
          "height": 956
        },
        "id": "6eb2r7Er_a1t",
        "outputId": "748911ad-b8ee-4da8-c979-83e3d95ca220"
      },
      "outputs": [],
      "source": [
        "# TODO: Import necessary libraries\n",
        "\n",
        "\n",
        "# TODO: Ensure df is your DataFrame and numeric_cols contains numeric column names (including \"Y house price of unit area\")\n",
        "\n",
        "\n",
        "# TODO: Compute the covariance matrix manually and visualize it\n",
        "\n",
        "\n",
        "# TODO: Show the strongest correlations with \"Y house price of unit area\"\n",
        "y_col = \"Y house price of unit area\"\n",
        "if y_col in numeric_cols:\n",
        "    # TODO: Sort correlations in descending order and print the strongest ones\n",
        "else:\n",
        "    print(f\"Column '{y_col}' not found in numeric_cols.\")\n"
      ]
    },
    {
      "cell_type": "markdown",
      "id": "2PWpaqQH6b9R",
      "metadata": {
        "id": "2PWpaqQH6b9R"
      },
      "source": [
        "### Variance Inflation Factor (VIF)\n",
        "To quantify multicollinearity, we can compute the **VIF** for each predictor. A high VIF (>10) suggests strong multicollinearity."
      ]
    },
    {
      "cell_type": "code",
      "execution_count": null,
      "id": "dukdYxyF6b9R",
      "metadata": {
        "colab": {
          "base_uri": "https://localhost:8080/"
        },
        "id": "dukdYxyF6b9R",
        "outputId": "fa73d8a6-a918-4e2c-c1d9-8f071ff7261e"
      },
      "outputs": [],
      "source": [
        "# TODO: Import necessary library for VIF calculation\n",
        "\n",
        "\n",
        "# TODO: Define the function calculate_vif\n",
        "def calculate_vif(dataframe, features):\n",
        "    \"\"\"Calculate VIF for each feature in a pandas DataFrame.\"\"\"\n",
        "    \n",
        "\n",
        "    return vif_scores\n",
        "\n",
        "# TODO: Define the list of features to check for VIF (excluding 'Y house price of unit area')\n",
        "\n",
        "\n",
        "# TODO: Call the function and print the VIF scores\n"
      ]
    },
    {
      "cell_type": "markdown",
      "id": "b9817370",
      "metadata": {},
      "source": [
        "# **B)**"
      ]
    },
    {
      "cell_type": "markdown",
      "id": "Rid7cv5_6b9S",
      "metadata": {
        "id": "Rid7cv5_6b9S"
      },
      "source": [
        "## Multicollinearity Analysis & Successive Orthogonalization <a id=\"orthogonal\"></a>\n",
        "\n",
        "### Gram–Schmidt Process\n",
        "We apply the Gram–Schmidt process to create an **orthogonal** set of predictors from the (potentially) correlated set. This can help in stabilizing coefficient estimates and clarifying the effect of each variable.\n",
        "\n",
        "For details on the Gram–Schmidt process, see: [Wikipedia: Gram–Schmidt Process](https://en.wikipedia.org/wiki/Gram%E2%80%93Schmidt_process)."
      ]
    },
    {
      "cell_type": "code",
      "execution_count": null,
      "id": "M_6qbSGl6b9S",
      "metadata": {
        "colab": {
          "base_uri": "https://localhost:8080/"
        },
        "id": "M_6qbSGl6b9S",
        "outputId": "1845372e-4b2e-4c34-ac7f-569e8c632535"
      },
      "outputs": [],
      "source": [
        "# TODO: Import necessary libraries\n",
        "\n",
        "\n",
        "# TODO: Define the Gram-Schmidt orthogonalization function\n",
        "def gram_schmidt(X):\n",
        "    \"\"\"\n",
        "    Perform Gram-Schmidt orthogonalization on columns of X.\n",
        "    Returns Q (orthogonal) and R (upper triangular).\n",
        "    \"\"\"\n",
        "\n",
        "\n",
        "    return Q, R\n",
        "\n",
        "# TODO: Convert X_scaled to a NumPy array\n",
        "\n",
        "\n",
        "# TODO: Apply Gram-Schmidt to X_np\n",
        "\n",
        "\n",
        "# TODO: Print the shapes of Q and R\n",
        "\n",
        "\n",
        "# TODO: Compute and compare correlation matrices for original and orthogonalized features\n",
        "\n",
        "\n",
        "# TODO: Print the max correlation (off-diagonal) for original and orthogonalized sets\n"
      ]
    },
    {
      "cell_type": "markdown",
      "id": "aecdeca1",
      "metadata": {},
      "source": [
        "# **C)**"
      ]
    },
    {
      "cell_type": "markdown",
      "id": "EwcycPdI6b9S",
      "metadata": {
        "id": "EwcycPdI6b9S"
      },
      "source": [
        "## Train-Validation-Test Split, Model Building, and Performance Metrics <a id=\"split\"></a>\n",
        "\n",
        "We will do a 60–20–20 split: 60% for training, 20% for validation, and 20% for testing. The validation set is used to tune model complexity (e.g., polynomial degree)."
      ]
    },
    {
      "cell_type": "code",
      "execution_count": null,
      "id": "jSxc8QGD6b9S",
      "metadata": {
        "colab": {
          "base_uri": "https://localhost:8080/"
        },
        "id": "jSxc8QGD6b9S",
        "outputId": "919490b2-d69d-44f1-ad13-1ad36810b6cb"
      },
      "outputs": [],
      "source": [
        "# TODO: Import necessary library for data splitting\n",
        "\n",
        "\n",
        "# 1) TODO: Split data into train+validation and test sets\n",
        "\n",
        "\n",
        "# 2) TODO: Split train+validation into train and validation sets\n",
        "\n",
        "\n",
        "# TODO: Print the shapes of the training, validation, and test sets\n"
      ]
    },
    {
      "cell_type": "markdown",
      "id": "rW-DquNS6b9S",
      "metadata": {
        "id": "rW-DquNS6b9S"
      },
      "source": [
        "\n",
        "\n",
        "We illustrate how model complexity changes by fitting **polynomial regression** models of increasing degree. For each degree \\(d\\):\n",
        "1. Transform features \\(X\\) to polynomial features of degree \\(d\\).\n",
        "2. Fit a linear model on the training set.\n",
        "3. Evaluate on training, validation, and test sets.\n",
        "4. Compare performance metrics to see if we overfit or underfit.\n",
        "\n",
        "### Polynomial Features with Cross Terms\n",
        "We use `PolynomialFeatures(degree=d, include_bias=False)` to include cross terms. That is, for degree 2, we get terms like \\(X_1^2, X_1X_2, X_2^2, ...\\) etc."
      ]
    },
    {
      "cell_type": "code",
      "execution_count": null,
      "id": "KwkkLsxb6b9S",
      "metadata": {
        "colab": {
          "base_uri": "https://localhost:8080/"
        },
        "id": "KwkkLsxb6b9S",
        "outputId": "6c2cd404-ab2c-4ba3-bb14-168228899f01"
      },
      "outputs": [],
      "source": [
        "# TODO: Import necessary libraries\n",
        "\n",
        "\n",
        "# TODO: Define the function to build and evaluate a polynomial regression model\n",
        "def build_and_eval_poly_model(X_tr, y_tr, X_v, y_v, X_te, y_te, degree):\n",
        "    \"\"\"\n",
        "    Build polynomial regression of given degree, fit on (X_tr, y_tr),\n",
        "    return predictions on train/val/test.\n",
        "    \"\"\"\n",
        "\n",
        "    return model, y_tr_pred, y_v_pred, y_te_pred\n",
        "\n",
        "# TODO: Define the degrees of polynomial features to test\n",
        "\n",
        "\n",
        "# TODO: Train models for each polynomial degree and store the results\n",
        "\n",
        "\n",
        "# TODO: Print confirmation that each model has been trained\n"
      ]
    },
    {
      "cell_type": "markdown",
      "id": "esIxPmC56b9S",
      "metadata": {
        "id": "esIxPmC56b9S"
      },
      "source": [
        "\n",
        "We define **MSE**, **RMSE**, **R²**, and the **F-statistic** by hand. Additionally, we discuss partial F-tests in a later section.\n",
        "\n",
        "- **MSE**: $ \\frac{1}{n} \\sum (y_i - \\hat{y}_i)^2 $\n",
        "- **RMSE**: $ \\sqrt{\\text{MSE}} $\n",
        "- **R²**: $ 1 - \\frac{\\sum (y_i - \\hat{y}_i)^2}{\\sum (y_i - \\bar{y})^2} $\n",
        "- **F-Statistic**: $ F = \\frac{\\text{SSR}/p}{\\text{SSE}/(n-p-1)} $, where SSR is the regression sum of squares and SSE is the error sum of squares.\n"
      ]
    },
    {
      "cell_type": "code",
      "execution_count": null,
      "id": "YodPs1ls6b9T",
      "metadata": {
        "colab": {
          "base_uri": "https://localhost:8080/",
          "height": 1000
        },
        "id": "YodPs1ls6b9T",
        "outputId": "14c39e1a-053e-4b3e-a625-de7b7f490d1c"
      },
      "outputs": [],
      "source": [
        "# TODO: Import necessary libraries\n",
        "import numpy as np\n",
        "import pandas as pd\n",
        "import matplotlib.pyplot as plt\n",
        "import seaborn as sns\n",
        "\n",
        "# TODO: Set Seaborn style and figure size\n",
        "\n",
        "\n",
        "# TODO: Define the mean squared error (MSE) function\n",
        "\n",
        "\n",
        "# TODO: Define the root mean squared error (RMSE) function\n",
        "\n",
        "\n",
        "# TODO: Define the R² score function\n",
        "\n",
        "\n",
        "# TODO: Define the F-statistic function for overall regression significance\n",
        "\n",
        "\n",
        "# TODO: Initialize a dictionary to store evaluation metrics\n",
        "\n",
        "\n",
        "# TODO: Loop through trained polynomial models and compute metrics\n",
        "\n",
        "\n",
        "# TODO: Print textual summary of results\n",
        "\n",
        "\n",
        "# TODO: Convert the summary dictionary into a DataFrame for visualization\n",
        "\n",
        "\n",
        "# TODO: Create subplots for visualizing MSE and R² across different polynomial degrees\n",
        "\n",
        "\n",
        "# TODO: Adjust layout and show the plots\n",
        "\n",
        "\n",
        "# TODO: Create and visualize an additional plot for the F-statistic\n"
      ]
    },
    {
      "cell_type": "markdown",
      "id": "KoLGfLLb6b9T",
      "metadata": {
        "id": "KoLGfLLb6b9T"
      },
      "source": [
        "# **D)**\n",
        "\n",
        "## Advanced Diagnostics <a id=\"diagnostics\"></a>\n",
        "\n",
        "### Cook’s Distance <a id=\"cook\"></a>\n",
        "Cook’s distance measures the influence of each data point on the fitted regression. Points with large Cook’s distance may be outliers or high-leverage points.\n"
      ]
    },
    {
      "cell_type": "code",
      "execution_count": null,
      "id": "hMvZGLAa6b9T",
      "metadata": {
        "colab": {
          "base_uri": "https://localhost:8080/",
          "height": 479
        },
        "id": "hMvZGLAa6b9T",
        "outputId": "13666d79-db45-4d50-ca5c-0138a1bd1748"
      },
      "outputs": [],
      "source": [
        "# TODO: Import necessary libraries\n",
        "\n",
        "def cooks_distance(X, y, y_pred, model):\n",
        "    \"\"\"\n",
        "    Calculate Cook's distance for each observation.\n",
        "    X: design matrix (already polynomial-transformed if needed), shape (n, p)\n",
        "    y: true labels, shape (n, )\n",
        "    y_pred: predicted labels, shape (n, )\n",
        "    model: fitted LinearRegression (with intercept)\n",
        "    \"\"\"\n",
        "\n",
        "    return cooks_d\n",
        "\n",
        "# TODO: Choose the best model on the validation set based on Val MSE\n",
        "\n",
        "\n",
        "# TODO: Refit the best model on the training set\n",
        "\n",
        "\n",
        "# TODO: Compute Cook's distance for the training set\n",
        "\n",
        "\n",
        "# TODO: Plot Cook's distance\n",
        "\n",
        "\n",
        "# TODO: Compute threshold for influential points\n",
        "\n",
        "\n",
        "# TODO: Identify and print influential points\n"
      ]
    },
    {
      "cell_type": "markdown",
      "id": "bBZmY9Wl6b9T",
      "metadata": {
        "id": "bBZmY9Wl6b9T"
      },
      "source": [
        "### Normality of Residuals (Shapiro–Wilk & Q–Q Plot) <a id=\"normality\"></a>\n",
        "A key assumption in ordinary least squares regression is that residuals are normally distributed. We can test this assumption using **Shapiro–Wilk** and visually check with a Q–Q plot."
      ]
    },
    {
      "cell_type": "code",
      "execution_count": null,
      "id": "kzy4mhQP6b9T",
      "metadata": {
        "colab": {
          "base_uri": "https://localhost:8080/",
          "height": 616
        },
        "id": "kzy4mhQP6b9T",
        "outputId": "9d378b23-80e2-42fe-9c21-232878731817"
      },
      "outputs": [],
      "source": [
        "# TODO: Import necessary libraries\n",
        "\n",
        "# TODO: Compute residuals for the best model\n",
        "\n",
        "\n",
        "# TODO: Perform the Shapiro–Wilk test on the residuals\n",
        "\n",
        "\n",
        "# TODO: Print the test statistic and p-value\n",
        "\n",
        "\n",
        "# TODO: Interpret the p-value and print the conclusion\n",
        "\n",
        "\n",
        "# TODO: Create a Q–Q plot of residuals\n"
      ]
    },
    {
      "cell_type": "markdown",
      "id": "NgaqjAts6b9T",
      "metadata": {
        "id": "NgaqjAts6b9T"
      },
      "source": [
        "### Partial F-Tests for Model Comparison <a id=\"partialftest\"></a>\n",
        "A **partial F-test** compares a simpler (nested) model with a more complex model. We can see if the extra terms in the complex model significantly improve the fit.\n",
        "\n",
        "For polynomial degrees, model with degree \\(d\\) is nested in model with degree \\(d+1\\) if we keep the same features. We can do a partial F-test by comparing SSE of these models."
      ]
    },
    {
      "cell_type": "code",
      "execution_count": null,
      "id": "Zd7TxiMV6b9T",
      "metadata": {
        "colab": {
          "base_uri": "https://localhost:8080/"
        },
        "id": "Zd7TxiMV6b9T",
        "outputId": "d8c46515-ac77-49c9-bffa-698323c362af"
      },
      "outputs": [],
      "source": [
        "# TODO: Import necessary libraries\n",
        "\n",
        "\n",
        "def partial_f_test(y_true, y_pred_reduced, y_pred_full, df_reduced, df_full):\n",
        "    \"\"\"\n",
        "    Compare a reduced model vs. a full model via partial F-test.\n",
        "    df_reduced: degrees of freedom of reduced model (n - p_reduced - 1)\n",
        "    df_full: degrees of freedom of full model (n - p_full - 1)\n",
        "    \"\"\"\n",
        "\n",
        "    return F_val\n",
        "\n",
        "\n",
        "for i in range(len(degrees) - 1):\n",
        "    d1 = degrees[i]\n",
        "    d2 = degrees[i+1]\n",
        "    print(f\"Comparing degree {d1} vs degree {d2} on the training set:\")\n",
        "\n",
        "    # TODO: Extract predictions for models with degrees d1 and d2\n",
        "    \n",
        "\n",
        "    # TODO: Compute degrees of freedom for both models\n",
        "    \n",
        "\n",
        "    # TODO: Compute F-value using partial_f_test function\n",
        "    \n",
        "\n",
        "    # TODO: Print the F-value and discuss how to interpret it\n",
        "    \n",
        "\n"
      ]
    },
    {
      "cell_type": "markdown",
      "id": "s8AQC_0u6b9T",
      "metadata": {
        "id": "s8AQC_0u6b9T"
      },
      "source": [
        "# **E)**\n",
        "\n",
        "## Discussion of Theoretical Concepts <a id=\"discussion\"></a>\n",
        "\n",
        "1. **Cochran’s Theorem & Variance of Noise**\n",
        "   - Cochran’s theorem explains how we can decompose ________ into explained (SSR) and unexplained (SSE) parts.\n",
        "   - The variance of noise is estimated by $\\sigma^2 = \\frac{SSE}{n-p-1}\\ $, which is important for ________.\n",
        "\n",
        "2. **Collinearity & Orthogonalization**\n",
        "   - Collinearity among predictors can lead to ________.\n",
        "   - One method to transform correlated predictors into an orthogonal set is ________.\n",
        "\n",
        "3. **F-Statistic (ANOVA) & Partial F-Tests**\n",
        "   - The overall F-test is used to check if ________.\n",
        "   - Partial F-tests compare ________, helping us determine ________.\n",
        "\n",
        "4. **Normality of Residuals**\n",
        "   - A key assumption in OLS regression is that residuals are ________.\n",
        "   - Two common methods to check this assumption are ________ and ________.\n",
        "\n",
        "5. **Cook’s Distance**\n",
        "   - Cook’s distance helps identify ________.\n",
        "   - A common threshold for determining influential points is ________.\n"
      ]
    },
    {
      "cell_type": "markdown",
      "id": "2c1ab2e6",
      "metadata": {},
      "source": [
        "# **F)**"
      ]
    },
    {
      "cell_type": "code",
      "execution_count": 7,
      "id": "726995f4",
      "metadata": {},
      "outputs": [],
      "source": [
        "# TODO"
      ]
    },
    {
      "cell_type": "markdown",
      "id": "04dec2c0",
      "metadata": {},
      "source": [
        "\n",
        "\n",
        "### **Further Reading**\n",
        "- [Cochran’s Theorem (Wikipedia)](https://en.wikipedia.org/wiki/Cochran%27s_theorem)\n",
        "- [ANOVA and F-tests (Wikipedia)](https://en.wikipedia.org/wiki/F-test)\n",
        "- [Cook’s Distance (Reference)](https://en.wikipedia.org/wiki/Cook%27s_distance)\n",
        "- [Shapiro–Wilk Test (Reference)](https://en.wikipedia.org/wiki/Shapiro%E2%80%93Wilk_test)"
      ]
    },
    {
      "cell_type": "markdown",
      "id": "e21bf390",
      "metadata": {},
      "source": []
    }
  ],
  "metadata": {
    "colab": {
      "provenance": []
    },
    "kernelspec": {
      "display_name": "base",
      "language": "python",
      "name": "python3"
    },
    "language_info": {
      "codemirror_mode": {
        "name": "ipython",
        "version": 3
      },
      "file_extension": ".py",
      "mimetype": "text/x-python",
      "name": "python",
      "nbconvert_exporter": "python",
      "pygments_lexer": "ipython3",
      "version": "3.11.5"
    }
  },
  "nbformat": 4,
  "nbformat_minor": 5
}
