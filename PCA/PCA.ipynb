{
 "cells": [
  {
   "cell_type": "code",
   "execution_count": 1,
   "id": "779633a8",
   "metadata": {},
   "outputs": [],
   "source": [
    "import pandas as pd\n",
    "import matplotlib.pyplot as plt\n",
    "import seaborn as sns\n",
    "import numpy as np"
   ]
  },
  {
   "cell_type": "markdown",
   "id": "eacd341a",
   "metadata": {},
   "source": [
    "# Pre-Processing"
   ]
  },
  {
   "cell_type": "code",
   "execution_count": 2,
   "id": "dea3b62a",
   "metadata": {},
   "outputs": [
    {
     "data": {
      "application/vnd.microsoft.datawrangler.viewer.v0+json": {
       "columns": [
        {
         "name": "index",
         "rawType": "int64",
         "type": "integer"
        },
        {
         "name": "Age",
         "rawType": "int64",
         "type": "integer"
        },
        {
         "name": "Sex",
         "rawType": "object",
         "type": "string"
        },
        {
         "name": "BloodPressure",
         "rawType": "int64",
         "type": "integer"
        },
        {
         "name": "GeneticRisk",
         "rawType": "float64",
         "type": "float"
        },
        {
         "name": "BMI",
         "rawType": "float64",
         "type": "float"
        },
        {
         "name": "PhysicalActivity",
         "rawType": "int64",
         "type": "integer"
        },
        {
         "name": "Married",
         "rawType": "object",
         "type": "string"
        },
        {
         "name": "Work",
         "rawType": "object",
         "type": "string"
        },
        {
         "name": "Smoker",
         "rawType": "object",
         "type": "string"
        },
        {
         "name": "Diabetes",
         "rawType": "int64",
         "type": "integer"
        }
       ],
       "conversionMethod": "pd.DataFrame",
       "ref": "1c3984bd-8c19-410b-80b6-500b97cbbf06",
       "rows": [
        [
         "0",
         "34",
         "Male",
         "84",
         "0.619",
         "24.7",
         "93",
         "Yes",
         "Self-employed",
         "Unknown",
         "0"
        ],
        [
         "1",
         "25",
         "Male",
         "74",
         "0.591",
         "22.5",
         "102",
         "No",
         "Public",
         "Unknown",
         "0"
        ],
        [
         "2",
         "50",
         "Male",
         "80",
         "0.178",
         "34.5",
         "98",
         "Yes",
         "Self-employed",
         "Unknown",
         "1"
        ],
        [
         "3",
         "27",
         "Female",
         "60",
         "0.206",
         "26.3",
         "82",
         "Yes",
         "Private",
         "Never",
         "0"
        ],
        [
         "4",
         "35",
         "Male",
         "84",
         "0.286",
         "35.0",
         "58",
         "Yes",
         "Private",
         "Smoker",
         "1"
        ],
        [
         "5",
         "31",
         "Female",
         "78",
         "1.224",
         "43.3",
         "59",
         "Yes",
         "Private",
         "Smoker",
         "1"
        ],
        [
         "6",
         "52",
         "Male",
         "86",
         "1.154",
         "33.3",
         "58",
         "Yes",
         "Self-employed",
         "Never",
         "1"
        ],
        [
         "7",
         "54",
         "Female",
         "78",
         "0.692",
         "35.2",
         "74",
         "No",
         "Private",
         "Former",
         "1"
        ],
        [
         "8",
         "41",
         "Female",
         "90",
         "0.451",
         "39.8",
         "67",
         "Yes",
         "Private",
         "Smoker",
         "1"
        ],
        [
         "9",
         "36",
         "Female",
         "82",
         "0.18",
         "30.8",
         "81",
         "Yes",
         "Private",
         "Smoker",
         "1"
        ],
        [
         "10",
         "22",
         "Male",
         "60",
         "0.26",
         "24.3",
         "98",
         "No",
         "Private",
         "Never",
         "0"
        ],
        [
         "11",
         "23",
         "Male",
         "58",
         "0.261",
         "21.6",
         "91",
         "No",
         "Public",
         "Former",
         "0"
        ],
        [
         "12",
         "24",
         "Female",
         "84",
         "0.52",
         "29.2",
         "107",
         "Yes",
         "Private",
         "Former",
         "0"
        ],
        [
         "13",
         "34",
         "Male",
         "68",
         "0.709",
         "27.9",
         "114",
         "No",
         "Private",
         "Never",
         "0"
        ],
        [
         "14",
         "28",
         "Male",
         "72",
         "0.658",
         "24.4",
         "105",
         "No",
         "Public",
         "Smoker",
         "0"
        ],
        [
         "15",
         "26",
         "Male",
         "72",
         "0.479",
         "43.6",
         "98",
         "No",
         "Public",
         "Former",
         "1"
        ],
        [
         "16",
         "28",
         "Female",
         "75",
         "0.434",
         "25.4",
         "92",
         "No",
         "Public",
         "Never",
         "0"
        ],
        [
         "17",
         "55",
         "Female",
         "72",
         "0.324",
         "24.6",
         "86",
         "No",
         "Self-employed",
         "Never",
         "0"
        ],
        [
         "18",
         "22",
         "Male",
         "80",
         "0.491",
         "24.9",
         "139",
         "No",
         "Public",
         "Unknown",
         "0"
        ],
        [
         "19",
         "56",
         "Female",
         "72",
         "1.39",
         "37.1",
         "64",
         "Yes",
         "Public",
         "Unknown",
         "1"
        ],
        [
         "20",
         "21",
         "Female",
         "62",
         "0.128",
         "23.0",
         "82",
         "Yes",
         "Private",
         "Former",
         "0"
        ],
        [
         "21",
         "54",
         "Female",
         "76",
         "0.121",
         "33.8",
         "63",
         "Yes",
         "Self-employed",
         "Smoker",
         "1"
        ],
        [
         "22",
         "23",
         "Female",
         "76",
         "0.278",
         "33.3",
         "73",
         "Yes",
         "Private",
         "Unknown",
         "1"
        ],
        [
         "23",
         "41",
         "Female",
         "70",
         "0.205",
         "31.1",
         "87",
         "Yes",
         "Self-employed",
         "Smoker",
         "1"
        ],
        [
         "24",
         "24",
         "Female",
         "88",
         "0.646",
         "44.5",
         "75",
         "Yes",
         "Self-employed",
         "Never",
         "1"
        ],
        [
         "25",
         "36",
         "Female",
         "70",
         "0.408",
         "36.4",
         "60",
         "Yes",
         "Self-employed",
         "Smoker",
         "1"
        ],
        [
         "26",
         "27",
         "Female",
         "72",
         "0.73",
         "26.7",
         "131",
         "No",
         "Public",
         "Former",
         "0"
        ],
        [
         "27",
         "42",
         "Female",
         "66",
         "0.272",
         "32.4",
         "53",
         "Yes",
         "Self-employed",
         "Never",
         "1"
        ],
        [
         "28",
         "21",
         "Male",
         "60",
         "0.947",
         "25.4",
         "99",
         "Yes",
         "Private",
         "Never",
         "0"
        ],
        [
         "29",
         "37",
         "Female",
         "65",
         "0.432",
         "28.0",
         "154",
         "No",
         "Private",
         "Smoker",
         "0"
        ],
        [
         "30",
         "21",
         "Female",
         "60",
         "1.072",
         "34.6",
         "68",
         "Yes",
         "Self-employed",
         "Smoker",
         "1"
        ],
        [
         "31",
         "22",
         "Female",
         "60",
         "0.509",
         "22.2",
         "177",
         "No",
         "Public",
         "Never",
         "0"
        ],
        [
         "32",
         "30",
         "Male",
         "56",
         "0.557",
         "22.4",
         "104",
         "No",
         "Public",
         "Never",
         "0"
        ],
        [
         "33",
         "46",
         "Male",
         "78",
         "0.412",
         "36.6",
         "75",
         "Yes",
         "Self-employed",
         "Former",
         "1"
        ],
        [
         "34",
         "22",
         "Male",
         "58",
         "0.219",
         "21.7",
         "83",
         "No",
         "Public",
         "Unknown",
         "0"
        ],
        [
         "35",
         "29",
         "Male",
         "70",
         "0.337",
         "33.0",
         "90",
         "Yes",
         "Private",
         "Former",
         "1"
        ],
        [
         "36",
         "65",
         "Female",
         "108",
         "0.305",
         "23.7",
         "96",
         "Yes",
         "Self-employed",
         "Former",
         "0"
        ],
        [
         "37",
         "38",
         "Female",
         "74",
         "0.22",
         "34.0",
         "83",
         "No",
         "Public",
         "Unknown",
         "1"
        ],
        [
         "38",
         "23",
         "Male",
         "62",
         "0.237",
         "29.7",
         "61",
         "Yes",
         "Self-employed",
         "Never",
         "0"
        ],
        [
         "39",
         "23",
         "Female",
         "56",
         "0.833",
         "18.1",
         "80",
         "No",
         "Public",
         "Never",
         "0"
        ],
        [
         "40",
         "33",
         "Female",
         "72",
         "1.222",
         "39.0",
         "69",
         "Yes",
         "Public",
         "Smoker",
         "1"
        ],
        [
         "41",
         "32",
         "Male",
         "70",
         "0.529",
         "34.6",
         "73",
         "No",
         "Private",
         "Unknown",
         "1"
        ],
        [
         "42",
         "33",
         "Male",
         "74",
         "0.447",
         "28.4",
         "64",
         "No",
         "Private",
         "Former",
         "1"
        ],
        [
         "43",
         "27",
         "Male",
         "72",
         "0.549",
         "32.4",
         "65",
         "Yes",
         "Private",
         "Former",
         "1"
        ],
        [
         "44",
         "29",
         "Male",
         "76",
         "0.875",
         "36.5",
         "43",
         "No",
         "Public",
         "Smoker",
         "1"
        ],
        [
         "45",
         "22",
         "Male",
         "74",
         "0.527",
         "24.3",
         "67",
         "No",
         "Public",
         "Former",
         "0"
        ],
        [
         "46",
         "29",
         "Female",
         "60",
         "0.296",
         "31.5",
         "76",
         "Yes",
         "Self-employed",
         "Former",
         "1"
        ],
        [
         "47",
         "41",
         "Female",
         "66",
         "0.261",
         "37.8",
         "47",
         "Yes",
         "Self-employed",
         "Smoker",
         "1"
        ],
        [
         "48",
         "32",
         "Female",
         "68",
         "0.464",
         "23.9",
         "85",
         "Yes",
         "Private",
         "Smoker",
         "0"
        ],
        [
         "49",
         "36",
         "Female",
         "66",
         "0.383",
         "30.4",
         "67",
         "Yes",
         "Self-employed",
         "Smoker",
         "1"
        ]
       ],
       "shape": {
        "columns": 10,
        "rows": 488
       }
      },
      "text/html": [
       "<div>\n",
       "<style scoped>\n",
       "    .dataframe tbody tr th:only-of-type {\n",
       "        vertical-align: middle;\n",
       "    }\n",
       "\n",
       "    .dataframe tbody tr th {\n",
       "        vertical-align: top;\n",
       "    }\n",
       "\n",
       "    .dataframe thead th {\n",
       "        text-align: right;\n",
       "    }\n",
       "</style>\n",
       "<table border=\"1\" class=\"dataframe\">\n",
       "  <thead>\n",
       "    <tr style=\"text-align: right;\">\n",
       "      <th></th>\n",
       "      <th>Age</th>\n",
       "      <th>Sex</th>\n",
       "      <th>BloodPressure</th>\n",
       "      <th>GeneticRisk</th>\n",
       "      <th>BMI</th>\n",
       "      <th>PhysicalActivity</th>\n",
       "      <th>Married</th>\n",
       "      <th>Work</th>\n",
       "      <th>Smoker</th>\n",
       "      <th>Diabetes</th>\n",
       "    </tr>\n",
       "  </thead>\n",
       "  <tbody>\n",
       "    <tr>\n",
       "      <th>0</th>\n",
       "      <td>34</td>\n",
       "      <td>Male</td>\n",
       "      <td>84</td>\n",
       "      <td>0.619</td>\n",
       "      <td>24.7</td>\n",
       "      <td>93</td>\n",
       "      <td>Yes</td>\n",
       "      <td>Self-employed</td>\n",
       "      <td>Unknown</td>\n",
       "      <td>0</td>\n",
       "    </tr>\n",
       "    <tr>\n",
       "      <th>1</th>\n",
       "      <td>25</td>\n",
       "      <td>Male</td>\n",
       "      <td>74</td>\n",
       "      <td>0.591</td>\n",
       "      <td>22.5</td>\n",
       "      <td>102</td>\n",
       "      <td>No</td>\n",
       "      <td>Public</td>\n",
       "      <td>Unknown</td>\n",
       "      <td>0</td>\n",
       "    </tr>\n",
       "    <tr>\n",
       "      <th>2</th>\n",
       "      <td>50</td>\n",
       "      <td>Male</td>\n",
       "      <td>80</td>\n",
       "      <td>0.178</td>\n",
       "      <td>34.5</td>\n",
       "      <td>98</td>\n",
       "      <td>Yes</td>\n",
       "      <td>Self-employed</td>\n",
       "      <td>Unknown</td>\n",
       "      <td>1</td>\n",
       "    </tr>\n",
       "    <tr>\n",
       "      <th>3</th>\n",
       "      <td>27</td>\n",
       "      <td>Female</td>\n",
       "      <td>60</td>\n",
       "      <td>0.206</td>\n",
       "      <td>26.3</td>\n",
       "      <td>82</td>\n",
       "      <td>Yes</td>\n",
       "      <td>Private</td>\n",
       "      <td>Never</td>\n",
       "      <td>0</td>\n",
       "    </tr>\n",
       "    <tr>\n",
       "      <th>4</th>\n",
       "      <td>35</td>\n",
       "      <td>Male</td>\n",
       "      <td>84</td>\n",
       "      <td>0.286</td>\n",
       "      <td>35.0</td>\n",
       "      <td>58</td>\n",
       "      <td>Yes</td>\n",
       "      <td>Private</td>\n",
       "      <td>Smoker</td>\n",
       "      <td>1</td>\n",
       "    </tr>\n",
       "    <tr>\n",
       "      <th>...</th>\n",
       "      <td>...</td>\n",
       "      <td>...</td>\n",
       "      <td>...</td>\n",
       "      <td>...</td>\n",
       "      <td>...</td>\n",
       "      <td>...</td>\n",
       "      <td>...</td>\n",
       "      <td>...</td>\n",
       "      <td>...</td>\n",
       "      <td>...</td>\n",
       "    </tr>\n",
       "    <tr>\n",
       "      <th>483</th>\n",
       "      <td>40</td>\n",
       "      <td>Female</td>\n",
       "      <td>88</td>\n",
       "      <td>0.403</td>\n",
       "      <td>34.5</td>\n",
       "      <td>72</td>\n",
       "      <td>Yes</td>\n",
       "      <td>Private</td>\n",
       "      <td>Smoker</td>\n",
       "      <td>1</td>\n",
       "    </tr>\n",
       "    <tr>\n",
       "      <th>484</th>\n",
       "      <td>58</td>\n",
       "      <td>Male</td>\n",
       "      <td>82</td>\n",
       "      <td>0.528</td>\n",
       "      <td>39.2</td>\n",
       "      <td>85</td>\n",
       "      <td>No</td>\n",
       "      <td>Public</td>\n",
       "      <td>Never</td>\n",
       "      <td>1</td>\n",
       "    </tr>\n",
       "    <tr>\n",
       "      <th>485</th>\n",
       "      <td>37</td>\n",
       "      <td>Female</td>\n",
       "      <td>84</td>\n",
       "      <td>0.696</td>\n",
       "      <td>24.5</td>\n",
       "      <td>128</td>\n",
       "      <td>No</td>\n",
       "      <td>Private</td>\n",
       "      <td>Never</td>\n",
       "      <td>0</td>\n",
       "    </tr>\n",
       "    <tr>\n",
       "      <th>486</th>\n",
       "      <td>29</td>\n",
       "      <td>Female</td>\n",
       "      <td>86</td>\n",
       "      <td>0.808</td>\n",
       "      <td>35.6</td>\n",
       "      <td>51</td>\n",
       "      <td>No</td>\n",
       "      <td>Private</td>\n",
       "      <td>Smoker</td>\n",
       "      <td>1</td>\n",
       "    </tr>\n",
       "    <tr>\n",
       "      <th>487</th>\n",
       "      <td>35</td>\n",
       "      <td>Female</td>\n",
       "      <td>90</td>\n",
       "      <td>0.314</td>\n",
       "      <td>36.5</td>\n",
       "      <td>75</td>\n",
       "      <td>No</td>\n",
       "      <td>Self-employed</td>\n",
       "      <td>Never</td>\n",
       "      <td>1</td>\n",
       "    </tr>\n",
       "  </tbody>\n",
       "</table>\n",
       "<p>488 rows × 10 columns</p>\n",
       "</div>"
      ],
      "text/plain": [
       "     Age     Sex  BloodPressure  GeneticRisk   BMI  PhysicalActivity Married  \\\n",
       "0     34    Male             84        0.619  24.7                93     Yes   \n",
       "1     25    Male             74        0.591  22.5               102      No   \n",
       "2     50    Male             80        0.178  34.5                98     Yes   \n",
       "3     27  Female             60        0.206  26.3                82     Yes   \n",
       "4     35    Male             84        0.286  35.0                58     Yes   \n",
       "..   ...     ...            ...          ...   ...               ...     ...   \n",
       "483   40  Female             88        0.403  34.5                72     Yes   \n",
       "484   58    Male             82        0.528  39.2                85      No   \n",
       "485   37  Female             84        0.696  24.5               128      No   \n",
       "486   29  Female             86        0.808  35.6                51      No   \n",
       "487   35  Female             90        0.314  36.5                75      No   \n",
       "\n",
       "              Work   Smoker  Diabetes  \n",
       "0    Self-employed  Unknown         0  \n",
       "1           Public  Unknown         0  \n",
       "2    Self-employed  Unknown         1  \n",
       "3          Private    Never         0  \n",
       "4          Private   Smoker         1  \n",
       "..             ...      ...       ...  \n",
       "483        Private   Smoker         1  \n",
       "484         Public    Never         1  \n",
       "485        Private    Never         0  \n",
       "486        Private   Smoker         1  \n",
       "487  Self-employed    Never         1  \n",
       "\n",
       "[488 rows x 10 columns]"
      ]
     },
     "execution_count": 2,
     "metadata": {},
     "output_type": "execute_result"
    }
   ],
   "source": [
    "df = pd.read_csv('./Diabetes.csv')\n",
    "df"
   ]
  },
  {
   "cell_type": "code",
   "execution_count": 3,
   "id": "d99ac10f",
   "metadata": {},
   "outputs": [
    {
     "data": {
      "application/vnd.microsoft.datawrangler.viewer.v0+json": {
       "columns": [
        {
         "name": "index",
         "rawType": "int64",
         "type": "integer"
        },
        {
         "name": "Age",
         "rawType": "int64",
         "type": "integer"
        },
        {
         "name": "Sex",
         "rawType": "object",
         "type": "string"
        },
        {
         "name": "BloodPressure",
         "rawType": "int64",
         "type": "integer"
        },
        {
         "name": "GeneticRisk",
         "rawType": "float64",
         "type": "float"
        },
        {
         "name": "BMI",
         "rawType": "float64",
         "type": "float"
        },
        {
         "name": "PhysicalActivity",
         "rawType": "int64",
         "type": "integer"
        },
        {
         "name": "Married",
         "rawType": "object",
         "type": "string"
        },
        {
         "name": "Work",
         "rawType": "object",
         "type": "string"
        },
        {
         "name": "Smoker",
         "rawType": "object",
         "type": "string"
        },
        {
         "name": "Diabetes",
         "rawType": "int64",
         "type": "integer"
        }
       ],
       "conversionMethod": "pd.DataFrame",
       "ref": "88c7b223-5c01-44d3-9c86-a4d81b5ee4b0",
       "rows": [
        [
         "0",
         "34",
         "Male",
         "84",
         "0.619",
         "24.7",
         "93",
         "Yes",
         "Self-employed",
         "Unknown",
         "0"
        ],
        [
         "1",
         "25",
         "Male",
         "74",
         "0.591",
         "22.5",
         "102",
         "No",
         "Public",
         "Unknown",
         "0"
        ],
        [
         "2",
         "50",
         "Male",
         "80",
         "0.178",
         "34.5",
         "98",
         "Yes",
         "Self-employed",
         "Unknown",
         "1"
        ],
        [
         "3",
         "27",
         "Female",
         "60",
         "0.206",
         "26.3",
         "82",
         "Yes",
         "Private",
         "Never",
         "0"
        ],
        [
         "4",
         "35",
         "Male",
         "84",
         "0.286",
         "35.0",
         "58",
         "Yes",
         "Private",
         "Smoker",
         "1"
        ]
       ],
       "shape": {
        "columns": 10,
        "rows": 5
       }
      },
      "text/html": [
       "<div>\n",
       "<style scoped>\n",
       "    .dataframe tbody tr th:only-of-type {\n",
       "        vertical-align: middle;\n",
       "    }\n",
       "\n",
       "    .dataframe tbody tr th {\n",
       "        vertical-align: top;\n",
       "    }\n",
       "\n",
       "    .dataframe thead th {\n",
       "        text-align: right;\n",
       "    }\n",
       "</style>\n",
       "<table border=\"1\" class=\"dataframe\">\n",
       "  <thead>\n",
       "    <tr style=\"text-align: right;\">\n",
       "      <th></th>\n",
       "      <th>Age</th>\n",
       "      <th>Sex</th>\n",
       "      <th>BloodPressure</th>\n",
       "      <th>GeneticRisk</th>\n",
       "      <th>BMI</th>\n",
       "      <th>PhysicalActivity</th>\n",
       "      <th>Married</th>\n",
       "      <th>Work</th>\n",
       "      <th>Smoker</th>\n",
       "      <th>Diabetes</th>\n",
       "    </tr>\n",
       "  </thead>\n",
       "  <tbody>\n",
       "    <tr>\n",
       "      <th>0</th>\n",
       "      <td>34</td>\n",
       "      <td>Male</td>\n",
       "      <td>84</td>\n",
       "      <td>0.619</td>\n",
       "      <td>24.7</td>\n",
       "      <td>93</td>\n",
       "      <td>Yes</td>\n",
       "      <td>Self-employed</td>\n",
       "      <td>Unknown</td>\n",
       "      <td>0</td>\n",
       "    </tr>\n",
       "    <tr>\n",
       "      <th>1</th>\n",
       "      <td>25</td>\n",
       "      <td>Male</td>\n",
       "      <td>74</td>\n",
       "      <td>0.591</td>\n",
       "      <td>22.5</td>\n",
       "      <td>102</td>\n",
       "      <td>No</td>\n",
       "      <td>Public</td>\n",
       "      <td>Unknown</td>\n",
       "      <td>0</td>\n",
       "    </tr>\n",
       "    <tr>\n",
       "      <th>2</th>\n",
       "      <td>50</td>\n",
       "      <td>Male</td>\n",
       "      <td>80</td>\n",
       "      <td>0.178</td>\n",
       "      <td>34.5</td>\n",
       "      <td>98</td>\n",
       "      <td>Yes</td>\n",
       "      <td>Self-employed</td>\n",
       "      <td>Unknown</td>\n",
       "      <td>1</td>\n",
       "    </tr>\n",
       "    <tr>\n",
       "      <th>3</th>\n",
       "      <td>27</td>\n",
       "      <td>Female</td>\n",
       "      <td>60</td>\n",
       "      <td>0.206</td>\n",
       "      <td>26.3</td>\n",
       "      <td>82</td>\n",
       "      <td>Yes</td>\n",
       "      <td>Private</td>\n",
       "      <td>Never</td>\n",
       "      <td>0</td>\n",
       "    </tr>\n",
       "    <tr>\n",
       "      <th>4</th>\n",
       "      <td>35</td>\n",
       "      <td>Male</td>\n",
       "      <td>84</td>\n",
       "      <td>0.286</td>\n",
       "      <td>35.0</td>\n",
       "      <td>58</td>\n",
       "      <td>Yes</td>\n",
       "      <td>Private</td>\n",
       "      <td>Smoker</td>\n",
       "      <td>1</td>\n",
       "    </tr>\n",
       "  </tbody>\n",
       "</table>\n",
       "</div>"
      ],
      "text/plain": [
       "   Age     Sex  BloodPressure  GeneticRisk   BMI  PhysicalActivity Married  \\\n",
       "0   34    Male             84        0.619  24.7                93     Yes   \n",
       "1   25    Male             74        0.591  22.5               102      No   \n",
       "2   50    Male             80        0.178  34.5                98     Yes   \n",
       "3   27  Female             60        0.206  26.3                82     Yes   \n",
       "4   35    Male             84        0.286  35.0                58     Yes   \n",
       "\n",
       "            Work   Smoker  Diabetes  \n",
       "0  Self-employed  Unknown         0  \n",
       "1         Public  Unknown         0  \n",
       "2  Self-employed  Unknown         1  \n",
       "3        Private    Never         0  \n",
       "4        Private   Smoker         1  "
      ]
     },
     "execution_count": 3,
     "metadata": {},
     "output_type": "execute_result"
    }
   ],
   "source": [
    "df.head()"
   ]
  },
  {
   "cell_type": "code",
   "execution_count": 4,
   "id": "186c1076",
   "metadata": {},
   "outputs": [
    {
     "name": "stdout",
     "output_type": "stream",
     "text": [
      "(488, 10)\n"
     ]
    }
   ],
   "source": [
    "print(df.shape)"
   ]
  },
  {
   "cell_type": "code",
   "execution_count": 9,
   "id": "04a7898c",
   "metadata": {},
   "outputs": [
    {
     "name": "stdout",
     "output_type": "stream",
     "text": [
      "Age                 0\n",
      "Sex                 0\n",
      "BloodPressure       0\n",
      "GeneticRisk         0\n",
      "BMI                 0\n",
      "PhysicalActivity    0\n",
      "Married             0\n",
      "Work                0\n",
      "Smoker              0\n",
      "Diabetes            0\n",
      "dtype: int64\n"
     ]
    }
   ],
   "source": [
    "# Check for null values\n",
    "print(df.isnull().sum())"
   ]
  },
  {
   "cell_type": "code",
   "execution_count": null,
   "id": "4226e0c3",
   "metadata": {},
   "outputs": [],
   "source": [
    "# Replace null values with appropriate values\n",
    "df['Age'].fillna(df['Age'].median(), inplace=True)\n",
    "df['Sex'].fillna(df['Sex'].mode()[0], inplace=True)\n",
    "df['BloodPressure'].fillna(df['BloodPressure'].mean(), inplace=True)\n",
    "df['GeneticRisk'].fillna(df['GeneticRisk'].mean(), inplace=True)\n",
    "df['BMI'].fillna(df['BMI'].mean(), inplace=True)\n",
    "df['PhysicalActivity'].fillna(df['PhysicalActivity'].mean(), inplace=True)\n",
    "df['Married'].fillna(df['Married'].mode()[0], inplace=True)\n",
    "df['Work'].fillna(df['Work'].mode()[0], inplace=True)\n",
    "df['Smoker'].fillna(df['Smoker'].mode()[0], inplace=True)\n",
    "df['Diabetes'].fillna(df['Diabetes'].mode()[0], inplace=True)"
   ]
  },
  {
   "cell_type": "code",
   "execution_count": 11,
   "id": "2e7855bf",
   "metadata": {},
   "outputs": [
    {
     "name": "stdout",
     "output_type": "stream",
     "text": [
      "Age                 0\n",
      "Sex                 0\n",
      "BloodPressure       0\n",
      "GeneticRisk         0\n",
      "BMI                 0\n",
      "PhysicalActivity    0\n",
      "Married             0\n",
      "Work                0\n",
      "Smoker              0\n",
      "Diabetes            0\n",
      "dtype: int64\n"
     ]
    }
   ],
   "source": [
    "# Verify no null values remain\n",
    "print(df.isnull().sum())"
   ]
  },
  {
   "cell_type": "markdown",
   "id": "70b0c6d0",
   "metadata": {},
   "source": [
    "# Relations Between Columns"
   ]
  },
  {
   "cell_type": "markdown",
   "id": "097fa2a9",
   "metadata": {},
   "source": [
    "### PhysicalActivity VS. Work"
   ]
  },
  {
   "cell_type": "code",
   "execution_count": 15,
   "id": "e7f97135",
   "metadata": {},
   "outputs": [
    {
     "data": {
      "text/plain": [
       "Text(0.5, 1.0, 'PhysicalActivity VS. Work')"
      ]
     },
     "execution_count": 15,
     "metadata": {},
     "output_type": "execute_result"
    },
    {
     "data": {
      "image/png": "[encoded data removed]",
      "text/plain": [
       "<Figure size 640x480 with 1 Axes>"
      ]
     },
     "metadata": {},
     "output_type": "display_data"
    }
   ],
   "source": [
    "sns.histplot(df,x='PhysicalActivity',hue='Work')\n",
    "plt.title('PhysicalActivity VS. Work')"
   ]
  },
  {
   "cell_type": "code",
   "execution_count": 8,
   "id": "9a04ace9",
   "metadata": {},
   "outputs": [
    {
     "data": {
      "text/plain": [
       "<Axes: xlabel='PhysicalActivity'>"
      ]
     },
     "execution_count": 8,
     "metadata": {},
     "output_type": "execute_result"
    },
    {
     "data": {
      "image/png": "[encoded data removed]",
      "text/plain": [
       "<Figure size 640x480 with 1 Axes>"
      ]
     },
     "metadata": {},
     "output_type": "display_data"
    }
   ],
   "source": [
    "sns.violinplot(df,x='PhysicalActivity',hue='Work')"
   ]
  },
  {
   "cell_type": "markdown",
   "id": "a7570585",
   "metadata": {},
   "source": [
    "### PhysicalActivity VS. Diabetes"
   ]
  },
  {
   "cell_type": "code",
   "execution_count": 16,
   "id": "16d70b33",
   "metadata": {},
   "outputs": [
    {
     "data": {
      "text/plain": [
       "Text(0.5, 1.0, 'PhysicalActivity VS. Diabetes')"
      ]
     },
     "execution_count": 16,
     "metadata": {},
     "output_type": "execute_result"
    },
    {
     "data": {
      "image/png": "[encoded data removed]",
      "text/plain": [
       "<Figure size 640x480 with 1 Axes>"
      ]
     },
     "metadata": {},
     "output_type": "display_data"
    }
   ],
   "source": [
    "sns.histplot(df,x='PhysicalActivity',hue='Diabetes')\n",
    "plt.title('PhysicalActivity VS. Diabetes')"
   ]
  },
  {
   "cell_type": "code",
   "execution_count": 7,
   "id": "0d94c91b",
   "metadata": {},
   "outputs": [
    {
     "data": {
      "text/plain": [
       "<Axes: xlabel='PhysicalActivity'>"
      ]
     },
     "execution_count": 7,
     "metadata": {},
     "output_type": "execute_result"
    },
    {
     "data": {
      "image/png": "[encoded data removed]",
      "text/plain": [
       "<Figure size 640x480 with 1 Axes>"
      ]
     },
     "metadata": {},
     "output_type": "display_data"
    }
   ],
   "source": [
    "sns.violinplot(df,x='PhysicalActivity',hue='Diabetes')"
   ]
  },
  {
   "cell_type": "markdown",
   "id": "6bc2b347",
   "metadata": {},
   "source": [
    "### BMI VS. Married"
   ]
  },
  {
   "cell_type": "code",
   "execution_count": 14,
   "id": "feb9210d",
   "metadata": {},
   "outputs": [
    {
     "data": {
      "image/png": "[encoded data removed]",
      "text/plain": [
       "<Figure size 640x480 with 1 Axes>"
      ]
     },
     "metadata": {},
     "output_type": "display_data"
    }
   ],
   "source": [
    "sns.histplot(df, x='BMI', hue='Married')\n",
    "plt.title('BMI Distribution VS. Married')\n",
    "plt.show()"
   ]
  },
  {
   "cell_type": "code",
   "execution_count": 17,
   "id": "067ef3c8",
   "metadata": {},
   "outputs": [
    {
     "data": {
      "text/plain": [
       "<Axes: xlabel='BMI'>"
      ]
     },
     "execution_count": 17,
     "metadata": {},
     "output_type": "execute_result"
    },
    {
     "data": {
      "image/png": "[encoded data removed]",
      "text/plain": [
       "<Figure size 640x480 with 1 Axes>"
      ]
     },
     "metadata": {},
     "output_type": "display_data"
    }
   ],
   "source": [
    "sns.violinplot(df, x='BMI', hue='Married')"
   ]
  },
  {
   "cell_type": "markdown",
   "id": "278a5ffd",
   "metadata": {},
   "source": [
    "### Smoking Situations for Men & Women"
   ]
  },
  {
   "cell_type": "code",
   "execution_count": 18,
   "id": "00a05832",
   "metadata": {},
   "outputs": [
    {
     "data": {
      "image/png": "[encoded data removed]",
      "text/plain": [
       "<Figure size 640x480 with 1 Axes>"
      ]
     },
     "metadata": {},
     "output_type": "display_data"
    }
   ],
   "source": [
    "sns.countplot(data=df, x='Smoker', hue='Sex')\n",
    "plt.title('Smoking Situations for Men and Women')\n",
    "plt.xlabel('Smoker')\n",
    "plt.ylabel('Count')\n",
    "plt.show()"
   ]
  }
 ],
 "metadata": {
  "kernelspec": {
   "display_name": "base",
   "language": "python",
   "name": "python3"
  },
  "language_info": {
   "codemirror_mode": {
    "name": "ipython",
    "version": 3
   },
   "file_extension": ".py",
   "mimetype": "text/x-python",
   "name": "python",
   "nbconvert_exporter": "python",
   "pygments_lexer": "ipython3",
   "version": "3.11.5"
  }
 },
 "nbformat": 4,
 "nbformat_minor": 5
}
