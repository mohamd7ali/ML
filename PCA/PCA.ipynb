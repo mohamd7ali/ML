{
 "cells": [
  {
   "cell_type": "code",
   "execution_count": null,
   "id": "779633a8",
   "metadata": {},
   "outputs": [],
   "source": [
    "import pandas as pd\n",
    "import matplotlib.pyplot as plt\n",
    "import seaborn as sns\n",
    "import numpy as np\n",
    "from sklearn.decomposition import PCA\n",
    "from sklearn.preprocessing import StandardScaler\n"
   ]
  },
  {
   "cell_type": "markdown",
   "id": "eacd341a",
   "metadata": {},
   "source": [
    "# Pre-Processing"
   ]
  },
  {
   "cell_type": "code",
   "execution_count": 2,
   "id": "dea3b62a",
   "metadata": {},
   "outputs": [
    {
     "data": {
      "application/vnd.microsoft.datawrangler.viewer.v0+json": {
       "columns": [
        {
         "name": "index",
         "rawType": "int64",
         "type": "integer"
        },
        {
         "name": "Age",
         "rawType": "int64",
         "type": "integer"
        },
        {
         "name": "Sex",
         "rawType": "object",
         "type": "string"
        },
        {
         "name": "BloodPressure",
         "rawType": "int64",
         "type": "integer"
        },
        {
         "name": "GeneticRisk",
         "rawType": "float64",
         "type": "float"
        },
        {
         "name": "BMI",
         "rawType": "float64",
         "type": "float"
        },
        {
         "name": "PhysicalActivity",
         "rawType": "int64",
         "type": "integer"
        },
        {
         "name": "Married",
         "rawType": "object",
         "type": "string"
        },
        {
         "name": "Work",
         "rawType": "object",
         "type": "string"
        },
        {
         "name": "Smoker",
         "rawType": "object",
         "type": "string"
        },
        {
         "name": "Diabetes",
         "rawType": "int64",
         "type": "integer"
        }
       ],
       "conversionMethod": "pd.DataFrame",
       "ref": "6f933ff3-f960-4b94-a814-378a0f1ec0a5",
       "rows": [
        [
         "0",
         "34",
         "Male",
         "84",
         "0.619",
         "24.7",
         "93",
         "Yes",
         "Self-employed",
         "Unknown",
         "0"
        ],
        [
         "1",
         "25",
         "Male",
         "74",
         "0.591",
         "22.5",
         "102",
         "No",
         "Public",
         "Unknown",
         "0"
        ],
        [
         "2",
         "50",
         "Male",
         "80",
         "0.178",
         "34.5",
         "98",
         "Yes",
         "Self-employed",
         "Unknown",
         "1"
        ],
        [
         "3",
         "27",
         "Female",
         "60",
         "0.206",
         "26.3",
         "82",
         "Yes",
         "Private",
         "Never",
         "0"
        ],
        [
         "4",
         "35",
         "Male",
         "84",
         "0.286",
         "35.0",
         "58",
         "Yes",
         "Private",
         "Smoker",
         "1"
        ],
        [
         "5",
         "31",
         "Female",
         "78",
         "1.224",
         "43.3",
         "59",
         "Yes",
         "Private",
         "Smoker",
         "1"
        ],
        [
         "6",
         "52",
         "Male",
         "86",
         "1.154",
         "33.3",
         "58",
         "Yes",
         "Self-employed",
         "Never",
         "1"
        ],
        [
         "7",
         "54",
         "Female",
         "78",
         "0.692",
         "35.2",
         "74",
         "No",
         "Private",
         "Former",
         "1"
        ],
        [
         "8",
         "41",
         "Female",
         "90",
         "0.451",
         "39.8",
         "67",
         "Yes",
         "Private",
         "Smoker",
         "1"
        ],
        [
         "9",
         "36",
         "Female",
         "82",
         "0.18",
         "30.8",
         "81",
         "Yes",
         "Private",
         "Smoker",
         "1"
        ],
        [
         "10",
         "22",
         "Male",
         "60",
         "0.26",
         "24.3",
         "98",
         "No",
         "Private",
         "Never",
         "0"
        ],
        [
         "11",
         "23",
         "Male",
         "58",
         "0.261",
         "21.6",
         "91",
         "No",
         "Public",
         "Former",
         "0"
        ],
        [
         "12",
         "24",
         "Female",
         "84",
         "0.52",
         "29.2",
         "107",
         "Yes",
         "Private",
         "Former",
         "0"
        ],
        [
         "13",
         "34",
         "Male",
         "68",
         "0.709",
         "27.9",
         "114",
         "No",
         "Private",
         "Never",
         "0"
        ],
        [
         "14",
         "28",
         "Male",
         "72",
         "0.658",
         "24.4",
         "105",
         "No",
         "Public",
         "Smoker",
         "0"
        ],
        [
         "15",
         "26",
         "Male",
         "72",
         "0.479",
         "43.6",
         "98",
         "No",
         "Public",
         "Former",
         "1"
        ],
        [
         "16",
         "28",
         "Female",
         "75",
         "0.434",
         "25.4",
         "92",
         "No",
         "Public",
         "Never",
         "0"
        ],
        [
         "17",
         "55",
         "Female",
         "72",
         "0.324",
         "24.6",
         "86",
         "No",
         "Self-employed",
         "Never",
         "0"
        ],
        [
         "18",
         "22",
         "Male",
         "80",
         "0.491",
         "24.9",
         "139",
         "No",
         "Public",
         "Unknown",
         "0"
        ],
        [
         "19",
         "56",
         "Female",
         "72",
         "1.39",
         "37.1",
         "64",
         "Yes",
         "Public",
         "Unknown",
         "1"
        ],
        [
         "20",
         "21",
         "Female",
         "62",
         "0.128",
         "23.0",
         "82",
         "Yes",
         "Private",
         "Former",
         "0"
        ],
        [
         "21",
         "54",
         "Female",
         "76",
         "0.121",
         "33.8",
         "63",
         "Yes",
         "Self-employed",
         "Smoker",
         "1"
        ],
        [
         "22",
         "23",
         "Female",
         "76",
         "0.278",
         "33.3",
         "73",
         "Yes",
         "Private",
         "Unknown",
         "1"
        ],
        [
         "23",
         "41",
         "Female",
         "70",
         "0.205",
         "31.1",
         "87",
         "Yes",
         "Self-employed",
         "Smoker",
         "1"
        ],
        [
         "24",
         "24",
         "Female",
         "88",
         "0.646",
         "44.5",
         "75",
         "Yes",
         "Self-employed",
         "Never",
         "1"
        ],
        [
         "25",
         "36",
         "Female",
         "70",
         "0.408",
         "36.4",
         "60",
         "Yes",
         "Self-employed",
         "Smoker",
         "1"
        ],
        [
         "26",
         "27",
         "Female",
         "72",
         "0.73",
         "26.7",
         "131",
         "No",
         "Public",
         "Former",
         "0"
        ],
        [
         "27",
         "42",
         "Female",
         "66",
         "0.272",
         "32.4",
         "53",
         "Yes",
         "Self-employed",
         "Never",
         "1"
        ],
        [
         "28",
         "21",
         "Male",
         "60",
         "0.947",
         "25.4",
         "99",
         "Yes",
         "Private",
         "Never",
         "0"
        ],
        [
         "29",
         "37",
         "Female",
         "65",
         "0.432",
         "28.0",
         "154",
         "No",
         "Private",
         "Smoker",
         "0"
        ],
        [
         "30",
         "21",
         "Female",
         "60",
         "1.072",
         "34.6",
         "68",
         "Yes",
         "Self-employed",
         "Smoker",
         "1"
        ],
        [
         "31",
         "22",
         "Female",
         "60",
         "0.509",
         "22.2",
         "177",
         "No",
         "Public",
         "Never",
         "0"
        ],
        [
         "32",
         "30",
         "Male",
         "56",
         "0.557",
         "22.4",
         "104",
         "No",
         "Public",
         "Never",
         "0"
        ],
        [
         "33",
         "46",
         "Male",
         "78",
         "0.412",
         "36.6",
         "75",
         "Yes",
         "Self-employed",
         "Former",
         "1"
        ],
        [
         "34",
         "22",
         "Male",
         "58",
         "0.219",
         "21.7",
         "83",
         "No",
         "Public",
         "Unknown",
         "0"
        ],
        [
         "35",
         "29",
         "Male",
         "70",
         "0.337",
         "33.0",
         "90",
         "Yes",
         "Private",
         "Former",
         "1"
        ],
        [
         "36",
         "65",
         "Female",
         "108",
         "0.305",
         "23.7",
         "96",
         "Yes",
         "Self-employed",
         "Former",
         "0"
        ],
        [
         "37",
         "38",
         "Female",
         "74",
         "0.22",
         "34.0",
         "83",
         "No",
         "Public",
         "Unknown",
         "1"
        ],
        [
         "38",
         "23",
         "Male",
         "62",
         "0.237",
         "29.7",
         "61",
         "Yes",
         "Self-employed",
         "Never",
         "0"
        ],
        [
         "39",
         "23",
         "Female",
         "56",
         "0.833",
         "18.1",
         "80",
         "No",
         "Public",
         "Never",
         "0"
        ],
        [
         "40",
         "33",
         "Female",
         "72",
         "1.222",
         "39.0",
         "69",
         "Yes",
         "Public",
         "Smoker",
         "1"
        ],
        [
         "41",
         "32",
         "Male",
         "70",
         "0.529",
         "34.6",
         "73",
         "No",
         "Private",
         "Unknown",
         "1"
        ],
        [
         "42",
         "33",
         "Male",
         "74",
         "0.447",
         "28.4",
         "64",
         "No",
         "Private",
         "Former",
         "1"
        ],
        [
         "43",
         "27",
         "Male",
         "72",
         "0.549",
         "32.4",
         "65",
         "Yes",
         "Private",
         "Former",
         "1"
        ],
        [
         "44",
         "29",
         "Male",
         "76",
         "0.875",
         "36.5",
         "43",
         "No",
         "Public",
         "Smoker",
         "1"
        ],
        [
         "45",
         "22",
         "Male",
         "74",
         "0.527",
         "24.3",
         "67",
         "No",
         "Public",
         "Former",
         "0"
        ],
        [
         "46",
         "29",
         "Female",
         "60",
         "0.296",
         "31.5",
         "76",
         "Yes",
         "Self-employed",
         "Former",
         "1"
        ],
        [
         "47",
         "41",
         "Female",
         "66",
         "0.261",
         "37.8",
         "47",
         "Yes",
         "Self-employed",
         "Smoker",
         "1"
        ],
        [
         "48",
         "32",
         "Female",
         "68",
         "0.464",
         "23.9",
         "85",
         "Yes",
         "Private",
         "Smoker",
         "0"
        ],
        [
         "49",
         "36",
         "Female",
         "66",
         "0.383",
         "30.4",
         "67",
         "Yes",
         "Self-employed",
         "Smoker",
         "1"
        ]
       ],
       "shape": {
        "columns": 10,
        "rows": 488
       }
      },
      "text/html": [
       "<div>\n",
       "<style scoped>\n",
       "    .dataframe tbody tr th:only-of-type {\n",
       "        vertical-align: middle;\n",
       "    }\n",
       "\n",
       "    .dataframe tbody tr th {\n",
       "        vertical-align: top;\n",
       "    }\n",
       "\n",
       "    .dataframe thead th {\n",
       "        text-align: right;\n",
       "    }\n",
       "</style>\n",
       "<table border=\"1\" class=\"dataframe\">\n",
       "  <thead>\n",
       "    <tr style=\"text-align: right;\">\n",
       "      <th></th>\n",
       "      <th>Age</th>\n",
       "      <th>Sex</th>\n",
       "      <th>BloodPressure</th>\n",
       "      <th>GeneticRisk</th>\n",
       "      <th>BMI</th>\n",
       "      <th>PhysicalActivity</th>\n",
       "      <th>Married</th>\n",
       "      <th>Work</th>\n",
       "      <th>Smoker</th>\n",
       "      <th>Diabetes</th>\n",
       "    </tr>\n",
       "  </thead>\n",
       "  <tbody>\n",
       "    <tr>\n",
       "      <th>0</th>\n",
       "      <td>34</td>\n",
       "      <td>Male</td>\n",
       "      <td>84</td>\n",
       "      <td>0.619</td>\n",
       "      <td>24.7</td>\n",
       "      <td>93</td>\n",
       "      <td>Yes</td>\n",
       "      <td>Self-employed</td>\n",
       "      <td>Unknown</td>\n",
       "      <td>0</td>\n",
       "    </tr>\n",
       "    <tr>\n",
       "      <th>1</th>\n",
       "      <td>25</td>\n",
       "      <td>Male</td>\n",
       "      <td>74</td>\n",
       "      <td>0.591</td>\n",
       "      <td>22.5</td>\n",
       "      <td>102</td>\n",
       "      <td>No</td>\n",
       "      <td>Public</td>\n",
       "      <td>Unknown</td>\n",
       "      <td>0</td>\n",
       "    </tr>\n",
       "    <tr>\n",
       "      <th>2</th>\n",
       "      <td>50</td>\n",
       "      <td>Male</td>\n",
       "      <td>80</td>\n",
       "      <td>0.178</td>\n",
       "      <td>34.5</td>\n",
       "      <td>98</td>\n",
       "      <td>Yes</td>\n",
       "      <td>Self-employed</td>\n",
       "      <td>Unknown</td>\n",
       "      <td>1</td>\n",
       "    </tr>\n",
       "    <tr>\n",
       "      <th>3</th>\n",
       "      <td>27</td>\n",
       "      <td>Female</td>\n",
       "      <td>60</td>\n",
       "      <td>0.206</td>\n",
       "      <td>26.3</td>\n",
       "      <td>82</td>\n",
       "      <td>Yes</td>\n",
       "      <td>Private</td>\n",
       "      <td>Never</td>\n",
       "      <td>0</td>\n",
       "    </tr>\n",
       "    <tr>\n",
       "      <th>4</th>\n",
       "      <td>35</td>\n",
       "      <td>Male</td>\n",
       "      <td>84</td>\n",
       "      <td>0.286</td>\n",
       "      <td>35.0</td>\n",
       "      <td>58</td>\n",
       "      <td>Yes</td>\n",
       "      <td>Private</td>\n",
       "      <td>Smoker</td>\n",
       "      <td>1</td>\n",
       "    </tr>\n",
       "    <tr>\n",
       "      <th>...</th>\n",
       "      <td>...</td>\n",
       "      <td>...</td>\n",
       "      <td>...</td>\n",
       "      <td>...</td>\n",
       "      <td>...</td>\n",
       "      <td>...</td>\n",
       "      <td>...</td>\n",
       "      <td>...</td>\n",
       "      <td>...</td>\n",
       "      <td>...</td>\n",
       "    </tr>\n",
       "    <tr>\n",
       "      <th>483</th>\n",
       "      <td>40</td>\n",
       "      <td>Female</td>\n",
       "      <td>88</td>\n",
       "      <td>0.403</td>\n",
       "      <td>34.5</td>\n",
       "      <td>72</td>\n",
       "      <td>Yes</td>\n",
       "      <td>Private</td>\n",
       "      <td>Smoker</td>\n",
       "      <td>1</td>\n",
       "    </tr>\n",
       "    <tr>\n",
       "      <th>484</th>\n",
       "      <td>58</td>\n",
       "      <td>Male</td>\n",
       "      <td>82</td>\n",
       "      <td>0.528</td>\n",
       "      <td>39.2</td>\n",
       "      <td>85</td>\n",
       "      <td>No</td>\n",
       "      <td>Public</td>\n",
       "      <td>Never</td>\n",
       "      <td>1</td>\n",
       "    </tr>\n",
       "    <tr>\n",
       "      <th>485</th>\n",
       "      <td>37</td>\n",
       "      <td>Female</td>\n",
       "      <td>84</td>\n",
       "      <td>0.696</td>\n",
       "      <td>24.5</td>\n",
       "      <td>128</td>\n",
       "      <td>No</td>\n",
       "      <td>Private</td>\n",
       "      <td>Never</td>\n",
       "      <td>0</td>\n",
       "    </tr>\n",
       "    <tr>\n",
       "      <th>486</th>\n",
       "      <td>29</td>\n",
       "      <td>Female</td>\n",
       "      <td>86</td>\n",
       "      <td>0.808</td>\n",
       "      <td>35.6</td>\n",
       "      <td>51</td>\n",
       "      <td>No</td>\n",
       "      <td>Private</td>\n",
       "      <td>Smoker</td>\n",
       "      <td>1</td>\n",
       "    </tr>\n",
       "    <tr>\n",
       "      <th>487</th>\n",
       "      <td>35</td>\n",
       "      <td>Female</td>\n",
       "      <td>90</td>\n",
       "      <td>0.314</td>\n",
       "      <td>36.5</td>\n",
       "      <td>75</td>\n",
       "      <td>No</td>\n",
       "      <td>Self-employed</td>\n",
       "      <td>Never</td>\n",
       "      <td>1</td>\n",
       "    </tr>\n",
       "  </tbody>\n",
       "</table>\n",
       "<p>488 rows × 10 columns</p>\n",
       "</div>"
      ],
      "text/plain": [
       "     Age     Sex  BloodPressure  GeneticRisk   BMI  PhysicalActivity Married  \\\n",
       "0     34    Male             84        0.619  24.7                93     Yes   \n",
       "1     25    Male             74        0.591  22.5               102      No   \n",
       "2     50    Male             80        0.178  34.5                98     Yes   \n",
       "3     27  Female             60        0.206  26.3                82     Yes   \n",
       "4     35    Male             84        0.286  35.0                58     Yes   \n",
       "..   ...     ...            ...          ...   ...               ...     ...   \n",
       "483   40  Female             88        0.403  34.5                72     Yes   \n",
       "484   58    Male             82        0.528  39.2                85      No   \n",
       "485   37  Female             84        0.696  24.5               128      No   \n",
       "486   29  Female             86        0.808  35.6                51      No   \n",
       "487   35  Female             90        0.314  36.5                75      No   \n",
       "\n",
       "              Work   Smoker  Diabetes  \n",
       "0    Self-employed  Unknown         0  \n",
       "1           Public  Unknown         0  \n",
       "2    Self-employed  Unknown         1  \n",
       "3          Private    Never         0  \n",
       "4          Private   Smoker         1  \n",
       "..             ...      ...       ...  \n",
       "483        Private   Smoker         1  \n",
       "484         Public    Never         1  \n",
       "485        Private    Never         0  \n",
       "486        Private   Smoker         1  \n",
       "487  Self-employed    Never         1  \n",
       "\n",
       "[488 rows x 10 columns]"
      ]
     },
     "execution_count": 2,
     "metadata": {},
     "output_type": "execute_result"
    }
   ],
   "source": [
    "df = pd.read_csv('./Diabetes.csv')\n",
    "df"
   ]
  },
  {
   "cell_type": "code",
   "execution_count": 3,
   "id": "d99ac10f",
   "metadata": {},
   "outputs": [
    {
     "data": {
      "application/vnd.microsoft.datawrangler.viewer.v0+json": {
       "columns": [
        {
         "name": "index",
         "rawType": "int64",
         "type": "integer"
        },
        {
         "name": "Age",
         "rawType": "int64",
         "type": "integer"
        },
        {
         "name": "Sex",
         "rawType": "object",
         "type": "string"
        },
        {
         "name": "BloodPressure",
         "rawType": "int64",
         "type": "integer"
        },
        {
         "name": "GeneticRisk",
         "rawType": "float64",
         "type": "float"
        },
        {
         "name": "BMI",
         "rawType": "float64",
         "type": "float"
        },
        {
         "name": "PhysicalActivity",
         "rawType": "int64",
         "type": "integer"
        },
        {
         "name": "Married",
         "rawType": "object",
         "type": "string"
        },
        {
         "name": "Work",
         "rawType": "object",
         "type": "string"
        },
        {
         "name": "Smoker",
         "rawType": "object",
         "type": "string"
        },
        {
         "name": "Diabetes",
         "rawType": "int64",
         "type": "integer"
        }
       ],
       "conversionMethod": "pd.DataFrame",
       "ref": "c67e3869-8dd5-414b-8be3-5154bbd0198c",
       "rows": [
        [
         "0",
         "34",
         "Male",
         "84",
         "0.619",
         "24.7",
         "93",
         "Yes",
         "Self-employed",
         "Unknown",
         "0"
        ],
        [
         "1",
         "25",
         "Male",
         "74",
         "0.591",
         "22.5",
         "102",
         "No",
         "Public",
         "Unknown",
         "0"
        ],
        [
         "2",
         "50",
         "Male",
         "80",
         "0.178",
         "34.5",
         "98",
         "Yes",
         "Self-employed",
         "Unknown",
         "1"
        ],
        [
         "3",
         "27",
         "Female",
         "60",
         "0.206",
         "26.3",
         "82",
         "Yes",
         "Private",
         "Never",
         "0"
        ],
        [
         "4",
         "35",
         "Male",
         "84",
         "0.286",
         "35.0",
         "58",
         "Yes",
         "Private",
         "Smoker",
         "1"
        ]
       ],
       "shape": {
        "columns": 10,
        "rows": 5
       }
      },
      "text/html": [
       "<div>\n",
       "<style scoped>\n",
       "    .dataframe tbody tr th:only-of-type {\n",
       "        vertical-align: middle;\n",
       "    }\n",
       "\n",
       "    .dataframe tbody tr th {\n",
       "        vertical-align: top;\n",
       "    }\n",
       "\n",
       "    .dataframe thead th {\n",
       "        text-align: right;\n",
       "    }\n",
       "</style>\n",
       "<table border=\"1\" class=\"dataframe\">\n",
       "  <thead>\n",
       "    <tr style=\"text-align: right;\">\n",
       "      <th></th>\n",
       "      <th>Age</th>\n",
       "      <th>Sex</th>\n",
       "      <th>BloodPressure</th>\n",
       "      <th>GeneticRisk</th>\n",
       "      <th>BMI</th>\n",
       "      <th>PhysicalActivity</th>\n",
       "      <th>Married</th>\n",
       "      <th>Work</th>\n",
       "      <th>Smoker</th>\n",
       "      <th>Diabetes</th>\n",
       "    </tr>\n",
       "  </thead>\n",
       "  <tbody>\n",
       "    <tr>\n",
       "      <th>0</th>\n",
       "      <td>34</td>\n",
       "      <td>Male</td>\n",
       "      <td>84</td>\n",
       "      <td>0.619</td>\n",
       "      <td>24.7</td>\n",
       "      <td>93</td>\n",
       "      <td>Yes</td>\n",
       "      <td>Self-employed</td>\n",
       "      <td>Unknown</td>\n",
       "      <td>0</td>\n",
       "    </tr>\n",
       "    <tr>\n",
       "      <th>1</th>\n",
       "      <td>25</td>\n",
       "      <td>Male</td>\n",
       "      <td>74</td>\n",
       "      <td>0.591</td>\n",
       "      <td>22.5</td>\n",
       "      <td>102</td>\n",
       "      <td>No</td>\n",
       "      <td>Public</td>\n",
       "      <td>Unknown</td>\n",
       "      <td>0</td>\n",
       "    </tr>\n",
       "    <tr>\n",
       "      <th>2</th>\n",
       "      <td>50</td>\n",
       "      <td>Male</td>\n",
       "      <td>80</td>\n",
       "      <td>0.178</td>\n",
       "      <td>34.5</td>\n",
       "      <td>98</td>\n",
       "      <td>Yes</td>\n",
       "      <td>Self-employed</td>\n",
       "      <td>Unknown</td>\n",
       "      <td>1</td>\n",
       "    </tr>\n",
       "    <tr>\n",
       "      <th>3</th>\n",
       "      <td>27</td>\n",
       "      <td>Female</td>\n",
       "      <td>60</td>\n",
       "      <td>0.206</td>\n",
       "      <td>26.3</td>\n",
       "      <td>82</td>\n",
       "      <td>Yes</td>\n",
       "      <td>Private</td>\n",
       "      <td>Never</td>\n",
       "      <td>0</td>\n",
       "    </tr>\n",
       "    <tr>\n",
       "      <th>4</th>\n",
       "      <td>35</td>\n",
       "      <td>Male</td>\n",
       "      <td>84</td>\n",
       "      <td>0.286</td>\n",
       "      <td>35.0</td>\n",
       "      <td>58</td>\n",
       "      <td>Yes</td>\n",
       "      <td>Private</td>\n",
       "      <td>Smoker</td>\n",
       "      <td>1</td>\n",
       "    </tr>\n",
       "  </tbody>\n",
       "</table>\n",
       "</div>"
      ],
      "text/plain": [
       "   Age     Sex  BloodPressure  GeneticRisk   BMI  PhysicalActivity Married  \\\n",
       "0   34    Male             84        0.619  24.7                93     Yes   \n",
       "1   25    Male             74        0.591  22.5               102      No   \n",
       "2   50    Male             80        0.178  34.5                98     Yes   \n",
       "3   27  Female             60        0.206  26.3                82     Yes   \n",
       "4   35    Male             84        0.286  35.0                58     Yes   \n",
       "\n",
       "            Work   Smoker  Diabetes  \n",
       "0  Self-employed  Unknown         0  \n",
       "1         Public  Unknown         0  \n",
       "2  Self-employed  Unknown         1  \n",
       "3        Private    Never         0  \n",
       "4        Private   Smoker         1  "
      ]
     },
     "execution_count": 3,
     "metadata": {},
     "output_type": "execute_result"
    }
   ],
   "source": [
    "df.head()"
   ]
  },
  {
   "cell_type": "code",
   "execution_count": 4,
   "id": "186c1076",
   "metadata": {},
   "outputs": [
    {
     "name": "stdout",
     "output_type": "stream",
     "text": [
      "(488, 10)\n"
     ]
    }
   ],
   "source": [
    "print(df.shape)"
   ]
  },
  {
   "cell_type": "code",
   "execution_count": 5,
   "id": "b9acaa51",
   "metadata": {},
   "outputs": [
    {
     "data": {
      "application/vnd.microsoft.datawrangler.viewer.v0+json": {
       "columns": [
        {
         "name": "index",
         "rawType": "object",
         "type": "string"
        },
        {
         "name": "Age",
         "rawType": "float64",
         "type": "float"
        },
        {
         "name": "BloodPressure",
         "rawType": "float64",
         "type": "float"
        },
        {
         "name": "GeneticRisk",
         "rawType": "float64",
         "type": "float"
        },
        {
         "name": "BMI",
         "rawType": "float64",
         "type": "float"
        },
        {
         "name": "PhysicalActivity",
         "rawType": "float64",
         "type": "float"
        },
        {
         "name": "Diabetes",
         "rawType": "float64",
         "type": "float"
        }
       ],
       "conversionMethod": "pd.DataFrame",
       "ref": "3622bbac-ccda-4149-b340-91b95900caff",
       "rows": [
        [
         "count",
         "488.0",
         "488.0",
         "488.0",
         "488.0",
         "488.0",
         "488.0"
        ],
        [
         "mean",
         "33.752049180327866",
         "72.79508196721312",
         "0.48363319672131144",
         "30.19467213114754",
         "84.26024590163935",
         "0.5061475409836066"
        ],
        [
         "std",
         "11.327584215977426",
         "12.889477123884756",
         "0.32120679574197647",
         "6.669992588025425",
         "25.22286489053991",
         "0.5004752512964701"
        ],
        [
         "min",
         "21.0",
         "30.0",
         "0.078",
         "15.3",
         "19.0",
         "0.0"
        ],
        [
         "25%",
         "24.0",
         "64.0",
         "0.254",
         "24.9",
         "66.0",
         "0.0"
        ],
        [
         "50%",
         "30.5",
         "72.0",
         "0.407",
         "30.5",
         "80.0",
         "1.0"
        ],
        [
         "75%",
         "41.0",
         "80.0",
         "0.63725",
         "34.625",
         "99.0",
         "1.0"
        ],
        [
         "max",
         "81.0",
         "114.0",
         "2.42",
         "57.1",
         "177.0",
         "1.0"
        ]
       ],
       "shape": {
        "columns": 6,
        "rows": 8
       }
      },
      "text/html": [
       "<div>\n",
       "<style scoped>\n",
       "    .dataframe tbody tr th:only-of-type {\n",
       "        vertical-align: middle;\n",
       "    }\n",
       "\n",
       "    .dataframe tbody tr th {\n",
       "        vertical-align: top;\n",
       "    }\n",
       "\n",
       "    .dataframe thead th {\n",
       "        text-align: right;\n",
       "    }\n",
       "</style>\n",
       "<table border=\"1\" class=\"dataframe\">\n",
       "  <thead>\n",
       "    <tr style=\"text-align: right;\">\n",
       "      <th></th>\n",
       "      <th>Age</th>\n",
       "      <th>BloodPressure</th>\n",
       "      <th>GeneticRisk</th>\n",
       "      <th>BMI</th>\n",
       "      <th>PhysicalActivity</th>\n",
       "      <th>Diabetes</th>\n",
       "    </tr>\n",
       "  </thead>\n",
       "  <tbody>\n",
       "    <tr>\n",
       "      <th>count</th>\n",
       "      <td>488.000000</td>\n",
       "      <td>488.000000</td>\n",
       "      <td>488.000000</td>\n",
       "      <td>488.000000</td>\n",
       "      <td>488.000000</td>\n",
       "      <td>488.000000</td>\n",
       "    </tr>\n",
       "    <tr>\n",
       "      <th>mean</th>\n",
       "      <td>33.752049</td>\n",
       "      <td>72.795082</td>\n",
       "      <td>0.483633</td>\n",
       "      <td>30.194672</td>\n",
       "      <td>84.260246</td>\n",
       "      <td>0.506148</td>\n",
       "    </tr>\n",
       "    <tr>\n",
       "      <th>std</th>\n",
       "      <td>11.327584</td>\n",
       "      <td>12.889477</td>\n",
       "      <td>0.321207</td>\n",
       "      <td>6.669993</td>\n",
       "      <td>25.222865</td>\n",
       "      <td>0.500475</td>\n",
       "    </tr>\n",
       "    <tr>\n",
       "      <th>min</th>\n",
       "      <td>21.000000</td>\n",
       "      <td>30.000000</td>\n",
       "      <td>0.078000</td>\n",
       "      <td>15.300000</td>\n",
       "      <td>19.000000</td>\n",
       "      <td>0.000000</td>\n",
       "    </tr>\n",
       "    <tr>\n",
       "      <th>25%</th>\n",
       "      <td>24.000000</td>\n",
       "      <td>64.000000</td>\n",
       "      <td>0.254000</td>\n",
       "      <td>24.900000</td>\n",
       "      <td>66.000000</td>\n",
       "      <td>0.000000</td>\n",
       "    </tr>\n",
       "    <tr>\n",
       "      <th>50%</th>\n",
       "      <td>30.500000</td>\n",
       "      <td>72.000000</td>\n",
       "      <td>0.407000</td>\n",
       "      <td>30.500000</td>\n",
       "      <td>80.000000</td>\n",
       "      <td>1.000000</td>\n",
       "    </tr>\n",
       "    <tr>\n",
       "      <th>75%</th>\n",
       "      <td>41.000000</td>\n",
       "      <td>80.000000</td>\n",
       "      <td>0.637250</td>\n",
       "      <td>34.625000</td>\n",
       "      <td>99.000000</td>\n",
       "      <td>1.000000</td>\n",
       "    </tr>\n",
       "    <tr>\n",
       "      <th>max</th>\n",
       "      <td>81.000000</td>\n",
       "      <td>114.000000</td>\n",
       "      <td>2.420000</td>\n",
       "      <td>57.100000</td>\n",
       "      <td>177.000000</td>\n",
       "      <td>1.000000</td>\n",
       "    </tr>\n",
       "  </tbody>\n",
       "</table>\n",
       "</div>"
      ],
      "text/plain": [
       "              Age  BloodPressure  GeneticRisk         BMI  PhysicalActivity  \\\n",
       "count  488.000000     488.000000   488.000000  488.000000        488.000000   \n",
       "mean    33.752049      72.795082     0.483633   30.194672         84.260246   \n",
       "std     11.327584      12.889477     0.321207    6.669993         25.222865   \n",
       "min     21.000000      30.000000     0.078000   15.300000         19.000000   \n",
       "25%     24.000000      64.000000     0.254000   24.900000         66.000000   \n",
       "50%     30.500000      72.000000     0.407000   30.500000         80.000000   \n",
       "75%     41.000000      80.000000     0.637250   34.625000         99.000000   \n",
       "max     81.000000     114.000000     2.420000   57.100000        177.000000   \n",
       "\n",
       "         Diabetes  \n",
       "count  488.000000  \n",
       "mean     0.506148  \n",
       "std      0.500475  \n",
       "min      0.000000  \n",
       "25%      0.000000  \n",
       "50%      1.000000  \n",
       "75%      1.000000  \n",
       "max      1.000000  "
      ]
     },
     "execution_count": 5,
     "metadata": {},
     "output_type": "execute_result"
    }
   ],
   "source": [
    "df.describe()"
   ]
  },
  {
   "cell_type": "code",
   "execution_count": 6,
   "id": "04a7898c",
   "metadata": {},
   "outputs": [
    {
     "name": "stdout",
     "output_type": "stream",
     "text": [
      "Age                 0\n",
      "Sex                 0\n",
      "BloodPressure       0\n",
      "GeneticRisk         0\n",
      "BMI                 0\n",
      "PhysicalActivity    0\n",
      "Married             0\n",
      "Work                0\n",
      "Smoker              0\n",
      "Diabetes            0\n",
      "dtype: int64\n"
     ]
    }
   ],
   "source": [
    "# Check for null values\n",
    "print(df.isnull().sum())"
   ]
  },
  {
   "cell_type": "code",
   "execution_count": null,
   "id": "4226e0c3",
   "metadata": {},
   "outputs": [],
   "source": [
    "# Replace null values with appropriate values\n",
    "df['Age'].fillna(df['Age'].median(), inplace=True)\n",
    "df['Sex'].fillna(df['Sex'].mode()[0], inplace=True)\n",
    "df['BloodPressure'].fillna(df['BloodPressure'].mean(), inplace=True)\n",
    "df['GeneticRisk'].fillna(df['GeneticRisk'].mean(), inplace=True)\n",
    "df['BMI'].fillna(df['BMI'].mean(), inplace=True)\n",
    "df['PhysicalActivity'].fillna(df['PhysicalActivity'].mean(), inplace=True)\n",
    "df['Married'].fillna(df['Married'].mode()[0], inplace=True)\n",
    "df['Work'].fillna(df['Work'].mode()[0], inplace=True)\n",
    "df['Smoker'].fillna(df['Smoker'].mode()[0], inplace=True)\n",
    "df['Diabetes'].fillna(df['Diabetes'].mode()[0], inplace=True)"
   ]
  },
  {
   "cell_type": "code",
   "execution_count": 11,
   "id": "2e7855bf",
   "metadata": {},
   "outputs": [
    {
     "name": "stdout",
     "output_type": "stream",
     "text": [
      "Age                 0\n",
      "Sex                 0\n",
      "BloodPressure       0\n",
      "GeneticRisk         0\n",
      "BMI                 0\n",
      "PhysicalActivity    0\n",
      "Married             0\n",
      "Work                0\n",
      "Smoker              0\n",
      "Diabetes            0\n",
      "dtype: int64\n"
     ]
    }
   ],
   "source": [
    "# Verify no null values remain\n",
    "print(df.isnull().sum())"
   ]
  },
  {
   "cell_type": "markdown",
   "id": "70b0c6d0",
   "metadata": {},
   "source": [
    "# Relations Between Columns"
   ]
  },
  {
   "cell_type": "markdown",
   "id": "097fa2a9",
   "metadata": {},
   "source": [
    "### PhysicalActivity VS. Work"
   ]
  },
  {
   "cell_type": "code",
   "execution_count": 15,
   "id": "e7f97135",
   "metadata": {},
   "outputs": [
    {
     "data": {
      "text/plain": [
       "Text(0.5, 1.0, 'PhysicalActivity VS. Work')"
      ]
     },
     "execution_count": 15,
     "metadata": {},
     "output_type": "execute_result"
    },
    {
     "data": {
      "image/png": "[encoded data removed]",
      "text/plain": [
       "<Figure size 640x480 with 1 Axes>"
      ]
     },
     "metadata": {},
     "output_type": "display_data"
    }
   ],
   "source": [
    "sns.histplot(df,x='PhysicalActivity',hue='Work')\n",
    "plt.title('PhysicalActivity VS. Work')"
   ]
  },
  {
   "cell_type": "code",
   "execution_count": 8,
   "id": "9a04ace9",
   "metadata": {},
   "outputs": [
    {
     "data": {
      "text/plain": [
       "<Axes: xlabel='PhysicalActivity'>"
      ]
     },
     "execution_count": 8,
     "metadata": {},
     "output_type": "execute_result"
    },
    {
     "data": {
      "image/png": "[encoded data removed]",
      "text/plain": [
       "<Figure size 640x480 with 1 Axes>"
      ]
     },
     "metadata": {},
     "output_type": "display_data"
    }
   ],
   "source": [
    "sns.violinplot(df,x='PhysicalActivity',hue='Work')"
   ]
  },
  {
   "cell_type": "markdown",
   "id": "a7570585",
   "metadata": {},
   "source": [
    "### PhysicalActivity VS. Diabetes"
   ]
  },
  {
   "cell_type": "code",
   "execution_count": 16,
   "id": "16d70b33",
   "metadata": {},
   "outputs": [
    {
     "data": {
      "text/plain": [
       "Text(0.5, 1.0, 'PhysicalActivity VS. Diabetes')"
      ]
     },
     "execution_count": 16,
     "metadata": {},
     "output_type": "execute_result"
    },
    {
     "data": {
      "image/png": "[encoded data removed]",
      "text/plain": [
       "<Figure size 640x480 with 1 Axes>"
      ]
     },
     "metadata": {},
     "output_type": "display_data"
    }
   ],
   "source": [
    "sns.histplot(df,x='PhysicalActivity',hue='Diabetes')\n",
    "plt.title('PhysicalActivity VS. Diabetes')"
   ]
  },
  {
   "cell_type": "code",
   "execution_count": 7,
   "id": "0d94c91b",
   "metadata": {},
   "outputs": [
    {
     "data": {
      "text/plain": [
       "<Axes: xlabel='PhysicalActivity'>"
      ]
     },
     "execution_count": 7,
     "metadata": {},
     "output_type": "execute_result"
    },
    {
     "data": {
      "image/png": "[encoded data removed]",
      "text/plain": [
       "<Figure size 640x480 with 1 Axes>"
      ]
     },
     "metadata": {},
     "output_type": "display_data"
    }
   ],
   "source": [
    "sns.violinplot(df,x='PhysicalActivity',hue='Diabetes')"
   ]
  },
  {
   "cell_type": "markdown",
   "id": "6bc2b347",
   "metadata": {},
   "source": [
    "### BMI VS. Married"
   ]
  },
  {
   "cell_type": "code",
   "execution_count": 14,
   "id": "feb9210d",
   "metadata": {},
   "outputs": [
    {
     "data": {
      "image/png": "[encoded data removed]",
      "text/plain": [
       "<Figure size 640x480 with 1 Axes>"
      ]
     },
     "metadata": {},
     "output_type": "display_data"
    }
   ],
   "source": [
    "sns.histplot(df, x='BMI', hue='Married')\n",
    "plt.title('BMI Distribution VS. Married')\n",
    "plt.show()"
   ]
  },
  {
   "cell_type": "code",
   "execution_count": 17,
   "id": "067ef3c8",
   "metadata": {},
   "outputs": [
    {
     "data": {
      "text/plain": [
       "<Axes: xlabel='BMI'>"
      ]
     },
     "execution_count": 17,
     "metadata": {},
     "output_type": "execute_result"
    },
    {
     "data": {
      "image/png": "[encoded data removed]",
      "text/plain": [
       "<Figure size 640x480 with 1 Axes>"
      ]
     },
     "metadata": {},
     "output_type": "display_data"
    }
   ],
   "source": [
    "sns.violinplot(df, x='BMI', hue='Married')"
   ]
  },
  {
   "cell_type": "markdown",
   "id": "278a5ffd",
   "metadata": {},
   "source": [
    "### Smoking Situations for Men & Women"
   ]
  },
  {
   "cell_type": "code",
   "execution_count": 18,
   "id": "00a05832",
   "metadata": {},
   "outputs": [
    {
     "data": {
      "image/png": "[encoded data removed]",
      "text/plain": [
       "<Figure size 640x480 with 1 Axes>"
      ]
     },
     "metadata": {},
     "output_type": "display_data"
    }
   ],
   "source": [
    "sns.countplot(data=df, x='Smoker', hue='Sex')\n",
    "plt.title('Smoking Situations for Men and Women')\n",
    "plt.xlabel('Smoker')\n",
    "plt.ylabel('Count')\n",
    "plt.show()"
   ]
  },
  {
   "cell_type": "markdown",
   "id": "2888e2be",
   "metadata": {},
   "source": [
    "# Standardization "
   ]
  },
  {
   "cell_type": "markdown",
   "id": "202665ca",
   "metadata": {},
   "source": [
    "Yes, this dataset likely needs standardization as we plan to apply machine learning algorithms that are sensitive to the scale of the data, such as Principal Component Analysis (PCA).\n",
    "\n",
    "Standardization ensures that all features contribute equally to the model by scaling them to have a mean of 0 and a standard deviation of 1.\n",
    "\n",
    "We Need Standardization because of:\n",
    "- **Different Scales**: Features like Age, BMI, and BloodPressure might have different ranges, which can bias the results of algorithms that rely on distance metrics.\n",
    "\n",
    "- **PCA**: PCA is sensitive to the magnitude of the features because it maximizes variance. Without standardization, features with larger scales will dominate the principal components.\n",
    "\n",
    "Only numerical columns are standardized, as categorical columns like Sex, Married, and Smoker do not require scaling."
   ]
  },
  {
   "cell_type": "code",
   "execution_count": null,
   "id": "0cd8d3ec",
   "metadata": {},
   "outputs": [],
   "source": [
    "# Select numerical columns for standardization\n",
    "numerical_columns = ['Age', 'BloodPressure', 'GeneticRisk', 'BMI', 'PhysicalActivity']\n",
    "\n",
    "# Initialize the scaler\n",
    "scaler = StandardScaler()\n",
    "\n",
    "# Apply standardization\n",
    "# df[numerical_columns] = scaler.fit_transform(df[numerical_columns])\n",
    "df_scaled = scaler.fit_transform(df[numerical_columns])"
   ]
  },
  {
   "cell_type": "code",
   "execution_count": 7,
   "id": "b6e4bec8",
   "metadata": {},
   "outputs": [
    {
     "data": {
      "text/plain": [
       "array([[ 0.02191158,  0.87019947,  0.4218644 , -0.82463519,  0.34685681],\n",
       "       [-0.77342442,  0.09357668,  0.33460369, -1.1548091 ,  0.70404207],\n",
       "       [ 1.43584224,  0.55955035, -0.95249176,  0.64613953,  0.54529307],\n",
       "       ...,\n",
       "       [ 0.28702358,  0.87019947,  0.66183135, -0.854651  ,  1.7359106 ],\n",
       "       [-0.41994175,  1.02552403,  1.01087419,  0.81122648, -1.32000772],\n",
       "       [ 0.11028225,  1.33617314, -0.52865404,  0.94629763, -0.3675137 ]])"
      ]
     },
     "execution_count": 7,
     "metadata": {},
     "output_type": "execute_result"
    }
   ],
   "source": [
    "df_scaled"
   ]
  },
  {
   "cell_type": "code",
   "execution_count": 8,
   "id": "7a223472",
   "metadata": {},
   "outputs": [
    {
     "data": {
      "application/vnd.microsoft.datawrangler.viewer.v0+json": {
       "columns": [
        {
         "name": "index",
         "rawType": "int64",
         "type": "integer"
        },
        {
         "name": "Age",
         "rawType": "float64",
         "type": "float"
        },
        {
         "name": "BloodPressure",
         "rawType": "float64",
         "type": "float"
        },
        {
         "name": "GeneticRisk",
         "rawType": "float64",
         "type": "float"
        },
        {
         "name": "BMI",
         "rawType": "float64",
         "type": "float"
        },
        {
         "name": "PhysicalActivity",
         "rawType": "float64",
         "type": "float"
        }
       ],
       "conversionMethod": "pd.DataFrame",
       "ref": "4437d57c-610b-46d6-a467-7e15f7d09875",
       "rows": [
        [
         "0",
         "0.021911579205346747",
         "0.8701994695442667",
         "0.42186440042326284",
         "-0.8246351870285628",
         "0.34685681377787975"
        ],
        [
         "1",
         "-0.7734244197192961",
         "0.09357668033870266",
         "0.33460369155114145",
         "-1.1548091024435938",
         "0.7040420719519593"
        ],
        [
         "2",
         "1.4358422439602674",
         "0.5595503538620411",
         "-0.952491764312648",
         "0.6461395270929402",
         "0.545293068319035"
        ],
        [
         "3",
         "-0.5966830866249311",
         "-0.993695224549087",
         "-0.8652310554405268",
         "-0.584508703090358",
         "-0.08970294621266185"
        ],
        [
         "4",
         "0.11028224575252929",
         "0.8701994695442667",
         "-0.615914744377323",
         "0.7211790533236291",
         "-1.0421969680102072"
        ],
        [
         "5",
         "-0.24320042043620088",
         "0.4042257960209283",
         "2.3073190028387414",
         "1.9668351887530646",
         "-1.0025097171019761"
        ],
        [
         "6",
         "1.6125835770546324",
         "1.0255240273853794",
         "2.089167230658438",
         "0.4660446641392863",
         "-1.0421969680102072"
        ],
        [
         "7",
         "1.7893249101489976",
         "0.4042257960209283",
         "0.6493655342684361",
         "0.7511948638159051",
         "-0.4072009534785103"
        ],
        [
         "8",
         "0.6405062450356245",
         "1.3361731430676052",
         "-0.10169985280946503",
         "1.4415585051382422",
         "-0.6850117098361277"
        ],
        [
         "9",
         "0.19865291229971183",
         "0.7148749117031539",
         "-0.9462588565360679",
         "0.09084703298584228",
         "-0.12939019712089292"
        ],
        [
         "10",
         "-1.0385364193608437",
         "-0.993695224549087",
         "-0.696942545472864",
         "-0.8846668080131136",
         "0.545293068319035"
        ],
        [
         "11",
         "-0.9501657528136612",
         "-1.1490197823901998",
         "-0.693826091584574",
         "-1.2898802496588337",
         "0.26748231196141764"
        ],
        [
         "12",
         "-0.8617950862664786",
         "0.8701994695442667",
         "0.11333546548254825",
         "-0.14927945095236247",
         "0.9024783264931145"
        ],
        [
         "13",
         "0.021911579205346747",
         "-0.37239699318463576",
         "0.702345250369367",
         "-0.3443822191521538",
         "1.180289082850732"
        ],
        [
         "14",
         "-0.5083124200777485",
         "-0.06174787750241014",
         "0.5434061020665748",
         "-0.8696589027669762",
         "0.8231038246766524"
        ],
        [
         "15",
         "-0.6850537531721136",
         "-0.06174787750241014",
         "-0.014439143937343801",
         "2.0118589044914788",
         "0.545293068319035"
        ],
        [
         "16",
         "-0.5083124200777485",
         "0.17123895925925905",
         "-0.1546795689103959",
         "-0.7195798503055983",
         "0.3071695628696487"
        ],
        [
         "17",
         "1.87769557669618",
         "-0.06174787750241014",
         "-0.4974894966223011",
         "-0.8396430922747002",
         "0.06904605742026237"
        ],
        [
         "18",
         "-1.0385364193608437",
         "0.5595503538620411",
         "0.022958302722136798",
         "-0.7946193765362872",
         "2.1724703555565084"
        ],
        [
         "19",
         "1.9660662432433627",
         "-0.06174787750241014",
         "2.824650348294889",
         "1.0363450634925226",
         "-0.8040734625608209"
        ],
        [
         "20",
         "-1.1269070859080264",
         "-0.8383706667079742",
         "-1.1083144587271503",
         "-1.079769576212905",
         "-0.08970294621266185"
        ],
        [
         "21",
         "1.7893249101489976",
         "0.24890123817981546",
         "-1.1301296359451807",
         "0.5410841903699752",
         "-0.8437607134690519"
        ],
        [
         "22",
         "-0.9501657528136612",
         "0.24890123817981546",
         "-0.6408463754836432",
         "0.4660446641392863",
         "-0.4468882043867414"
        ],
        [
         "23",
         "0.6405062450356245",
         "-0.21707243534352294",
         "-0.8683475093288169",
         "0.13587074872425572",
         "0.10873330832849343"
        ],
        [
         "24",
         "-0.8617950862664786",
         "1.1808485852264923",
         "0.5060086554070942",
         "2.1469300517067187",
         "-0.36751370257027927"
        ],
        [
         "25",
         "0.19865291229971183",
         "-0.21707243534352294",
         "-0.2357073700059372",
         "0.9312897267695578",
         "-0.9628224661937451"
        ],
        [
         "26",
         "-0.5966830866249311",
         "-0.06174787750241014",
         "0.7677907820234581",
         "-0.524477082105807",
         "1.85497234829066"
        ],
        [
         "27",
         "0.7288769115828071",
         "-0.5277215510257486",
         "-0.6595450988133835",
         "0.3309735169240465",
         "-1.2406332225513625"
        ],
        [
         "28",
         "-1.1269070859080264",
         "-0.993695224549087",
         "1.4440612757823983",
         "-0.7195798503055983",
         "0.5849803192272661"
        ],
        [
         "29",
         "0.2870235788468944",
         "-0.605383829946305",
         "-0.16091247668697597",
         "-0.3293743139060158",
         "2.7677791191799743"
        ],
        [
         "30",
         "-1.1269070859080264",
         "-0.993695224549087",
         "1.8336180118186545",
         "0.6611474323390781",
         "-0.6453244589278967"
        ],
        [
         "31",
         "-1.0385364193608437",
         "-0.993695224549087",
         "0.0790544727113577",
         "-1.1998328181820073",
         "3.6805858900692887"
        ],
        [
         "32",
         "-0.3315710869833834",
         "-1.3043443402313126",
         "0.2286442593492801",
         "-1.1698170076897318",
         "0.7834165737684214"
        ],
        [
         "33",
         "1.0823595777715371",
         "0.4042257960209283",
         "-0.223241554452777",
         "0.9613055372618339",
         "-0.36751370257027927"
        ],
        [
         "34",
         "-1.0385364193608437",
         "-1.1490197823901998",
         "-0.8247171548927561",
         "-1.2748723444126961",
         "-0.0500156953044308"
        ],
        [
         "35",
         "-0.41994175353056595",
         "-0.21707243534352294",
         "-0.4569755960745304",
         "0.4210209484008734",
         "0.2277950610531866"
        ],
        [
         "36",
         "2.7614022421680056",
         "2.7340941636376206",
         "-0.556702120499812",
         "-0.9747142394899405",
         "0.46591856650257296"
        ],
        [
         "37",
         "0.3753942453940769",
         "0.09357668033870266",
         "-0.8216007010044661",
         "0.5711000008622512",
         "-0.0500156953044308"
        ],
        [
         "38",
         "-0.9501657528136612",
         "-0.8383706667079742",
         "-0.7686209849035353",
         "-0.07423992472167355",
         "-0.923135215285514"
        ],
        [
         "39",
         "-0.9501657528136612",
         "-1.3043443402313126",
         "1.0887855325173328",
         "-1.8151569332736561",
         "-0.16907744802912397"
        ],
        [
         "40",
         "-0.0664590873418358",
         "-0.06174787750241014",
         "2.3010860950621614",
         "1.3214952631691403",
         "-0.6056372080196656"
        ],
        [
         "41",
         "-0.15482975388901832",
         "-0.21707243534352294",
         "0.1413835504771587",
         "0.6611474323390781",
         "-0.4468882043867414"
        ],
        [
         "42",
         "-0.0664590873418358",
         "0.09357668033870266",
         "-0.11416566836262523",
         "-0.26934269292146484",
         "-0.8040734625608209"
        ],
        [
         "43",
         "-0.5966830866249311",
         "-0.06174787750241014",
         "0.20371262824295971",
         "0.3309735169240465",
         "-0.7643862116525898"
        ],
        [
         "44",
         "-0.41994175353056595",
         "0.24890123817981546",
         "1.219676595825515",
         "0.9462976320156958",
         "-1.6375057316336732"
        ],
        [
         "45",
         "-1.0385364193608437",
         "0.09357668033870266",
         "0.1351506427005786",
         "-0.8846668080131136",
         "-0.6850117098361277"
        ],
        [
         "46",
         "-0.41994175353056595",
         "-0.993695224549087",
         "-0.5847502054944225",
         "0.19590236970880665",
         "-0.3278264516620482"
        ],
        [
         "47",
         "0.6405062450356245",
         "-0.5277215510257486",
         "-0.693826091584574",
         "1.1414004002154865",
         "-1.4787567280007488"
        ],
        [
         "48",
         "-0.15482975388901832",
         "-0.37239699318463576",
         "-0.06118595226169438",
         "-0.9446984289976651",
         "0.029358806512031314"
        ],
        [
         "49",
         "0.19865291229971183",
         "-0.5277215510257486",
         "-0.3136187172131883",
         "0.030815412001290822",
         "-0.6850117098361277"
        ]
       ],
       "shape": {
        "columns": 5,
        "rows": 488
       }
      },
      "text/html": [
       "<div>\n",
       "<style scoped>\n",
       "    .dataframe tbody tr th:only-of-type {\n",
       "        vertical-align: middle;\n",
       "    }\n",
       "\n",
       "    .dataframe tbody tr th {\n",
       "        vertical-align: top;\n",
       "    }\n",
       "\n",
       "    .dataframe thead th {\n",
       "        text-align: right;\n",
       "    }\n",
       "</style>\n",
       "<table border=\"1\" class=\"dataframe\">\n",
       "  <thead>\n",
       "    <tr style=\"text-align: right;\">\n",
       "      <th></th>\n",
       "      <th>Age</th>\n",
       "      <th>BloodPressure</th>\n",
       "      <th>GeneticRisk</th>\n",
       "      <th>BMI</th>\n",
       "      <th>PhysicalActivity</th>\n",
       "    </tr>\n",
       "  </thead>\n",
       "  <tbody>\n",
       "    <tr>\n",
       "      <th>0</th>\n",
       "      <td>0.021912</td>\n",
       "      <td>0.870199</td>\n",
       "      <td>0.421864</td>\n",
       "      <td>-0.824635</td>\n",
       "      <td>0.346857</td>\n",
       "    </tr>\n",
       "    <tr>\n",
       "      <th>1</th>\n",
       "      <td>-0.773424</td>\n",
       "      <td>0.093577</td>\n",
       "      <td>0.334604</td>\n",
       "      <td>-1.154809</td>\n",
       "      <td>0.704042</td>\n",
       "    </tr>\n",
       "    <tr>\n",
       "      <th>2</th>\n",
       "      <td>1.435842</td>\n",
       "      <td>0.559550</td>\n",
       "      <td>-0.952492</td>\n",
       "      <td>0.646140</td>\n",
       "      <td>0.545293</td>\n",
       "    </tr>\n",
       "    <tr>\n",
       "      <th>3</th>\n",
       "      <td>-0.596683</td>\n",
       "      <td>-0.993695</td>\n",
       "      <td>-0.865231</td>\n",
       "      <td>-0.584509</td>\n",
       "      <td>-0.089703</td>\n",
       "    </tr>\n",
       "    <tr>\n",
       "      <th>4</th>\n",
       "      <td>0.110282</td>\n",
       "      <td>0.870199</td>\n",
       "      <td>-0.615915</td>\n",
       "      <td>0.721179</td>\n",
       "      <td>-1.042197</td>\n",
       "    </tr>\n",
       "    <tr>\n",
       "      <th>...</th>\n",
       "      <td>...</td>\n",
       "      <td>...</td>\n",
       "      <td>...</td>\n",
       "      <td>...</td>\n",
       "      <td>...</td>\n",
       "    </tr>\n",
       "    <tr>\n",
       "      <th>483</th>\n",
       "      <td>0.552136</td>\n",
       "      <td>1.180849</td>\n",
       "      <td>-0.251290</td>\n",
       "      <td>0.646140</td>\n",
       "      <td>-0.486575</td>\n",
       "    </tr>\n",
       "    <tr>\n",
       "      <th>484</th>\n",
       "      <td>2.142808</td>\n",
       "      <td>0.714875</td>\n",
       "      <td>0.138267</td>\n",
       "      <td>1.351511</td>\n",
       "      <td>0.029359</td>\n",
       "    </tr>\n",
       "    <tr>\n",
       "      <th>485</th>\n",
       "      <td>0.287024</td>\n",
       "      <td>0.870199</td>\n",
       "      <td>0.661831</td>\n",
       "      <td>-0.854651</td>\n",
       "      <td>1.735911</td>\n",
       "    </tr>\n",
       "    <tr>\n",
       "      <th>486</th>\n",
       "      <td>-0.419942</td>\n",
       "      <td>1.025524</td>\n",
       "      <td>1.010874</td>\n",
       "      <td>0.811226</td>\n",
       "      <td>-1.320008</td>\n",
       "    </tr>\n",
       "    <tr>\n",
       "      <th>487</th>\n",
       "      <td>0.110282</td>\n",
       "      <td>1.336173</td>\n",
       "      <td>-0.528654</td>\n",
       "      <td>0.946298</td>\n",
       "      <td>-0.367514</td>\n",
       "    </tr>\n",
       "  </tbody>\n",
       "</table>\n",
       "<p>488 rows × 5 columns</p>\n",
       "</div>"
      ],
      "text/plain": [
       "          Age  BloodPressure  GeneticRisk       BMI  PhysicalActivity\n",
       "0    0.021912       0.870199     0.421864 -0.824635          0.346857\n",
       "1   -0.773424       0.093577     0.334604 -1.154809          0.704042\n",
       "2    1.435842       0.559550    -0.952492  0.646140          0.545293\n",
       "3   -0.596683      -0.993695    -0.865231 -0.584509         -0.089703\n",
       "4    0.110282       0.870199    -0.615915  0.721179         -1.042197\n",
       "..        ...            ...          ...       ...               ...\n",
       "483  0.552136       1.180849    -0.251290  0.646140         -0.486575\n",
       "484  2.142808       0.714875     0.138267  1.351511          0.029359\n",
       "485  0.287024       0.870199     0.661831 -0.854651          1.735911\n",
       "486 -0.419942       1.025524     1.010874  0.811226         -1.320008\n",
       "487  0.110282       1.336173    -0.528654  0.946298         -0.367514\n",
       "\n",
       "[488 rows x 5 columns]"
      ]
     },
     "execution_count": 8,
     "metadata": {},
     "output_type": "execute_result"
    }
   ],
   "source": [
    "pd.DataFrame(df_scaled, columns = ['Age', 'BloodPressure','GeneticRisk','BMI','PhysicalActivity'])"
   ]
  },
  {
   "cell_type": "code",
   "execution_count": 9,
   "id": "97fffb94",
   "metadata": {},
   "outputs": [
    {
     "data": {
      "application/vnd.microsoft.datawrangler.viewer.v0+json": {
       "columns": [
        {
         "name": "index",
         "rawType": "object",
         "type": "string"
        },
        {
         "name": "Age",
         "rawType": "float64",
         "type": "float"
        },
        {
         "name": "BloodPressure",
         "rawType": "float64",
         "type": "float"
        },
        {
         "name": "GeneticRisk",
         "rawType": "float64",
         "type": "float"
        },
        {
         "name": "BMI",
         "rawType": "float64",
         "type": "float"
        },
        {
         "name": "PhysicalActivity",
         "rawType": "float64",
         "type": "float"
        }
       ],
       "conversionMethod": "pd.DataFrame",
       "ref": "dfb86ea8-16fd-4f0d-8de2-bc322e74ca77",
       "rows": [
        [
         "count",
         "488.0",
         "488.0",
         "488.0",
         "488.0",
         "488.0"
        ],
        [
         "mean",
         "2.5480528434019985e-16",
         "-5.423712480955682e-16",
         "9.464196275493137e-17",
         "-9.10018872643571e-17",
         "-2.766457372836456e-16"
        ],
        [
         "std",
         "1.0010261675352694",
         "1.0010261675352692",
         "1.0010261675352696",
         "1.0010261675352696",
         "1.0010261675352694"
        ],
        [
         "min",
         "-1.1269070859080264",
         "-3.323563592165779",
         "-1.2641371531416528",
         "-2.235378280165514",
         "-2.5899997534312185"
        ],
        [
         "25%",
         "-0.8617950862664786",
         "-0.6830461088668613",
         "-0.7156412688026044",
         "-0.7946193765362872",
         "-0.7246989607443588"
        ],
        [
         "50%",
         "-0.28738575370979214",
         "-0.06174787750241014",
         "-0.23882382389422724",
         "0.045823317247428816",
         "-0.16907744802912397"
        ],
        [
         "75%",
         "0.6405062450356245",
         "0.5595503538620411",
         "0.47873968388455623",
         "0.6648994086506126",
         "0.5849803192272661"
        ],
        [
         "max",
         "4.175332906922926",
         "3.200067837160959",
         "6.034597853233638",
         "4.037926112720079",
         "3.6805858900692887"
        ]
       ],
       "shape": {
        "columns": 5,
        "rows": 8
       }
      },
      "text/html": [
       "<div>\n",
       "<style scoped>\n",
       "    .dataframe tbody tr th:only-of-type {\n",
       "        vertical-align: middle;\n",
       "    }\n",
       "\n",
       "    .dataframe tbody tr th {\n",
       "        vertical-align: top;\n",
       "    }\n",
       "\n",
       "    .dataframe thead th {\n",
       "        text-align: right;\n",
       "    }\n",
       "</style>\n",
       "<table border=\"1\" class=\"dataframe\">\n",
       "  <thead>\n",
       "    <tr style=\"text-align: right;\">\n",
       "      <th></th>\n",
       "      <th>Age</th>\n",
       "      <th>BloodPressure</th>\n",
       "      <th>GeneticRisk</th>\n",
       "      <th>BMI</th>\n",
       "      <th>PhysicalActivity</th>\n",
       "    </tr>\n",
       "  </thead>\n",
       "  <tbody>\n",
       "    <tr>\n",
       "      <th>count</th>\n",
       "      <td>4.880000e+02</td>\n",
       "      <td>4.880000e+02</td>\n",
       "      <td>4.880000e+02</td>\n",
       "      <td>4.880000e+02</td>\n",
       "      <td>4.880000e+02</td>\n",
       "    </tr>\n",
       "    <tr>\n",
       "      <th>mean</th>\n",
       "      <td>2.548053e-16</td>\n",
       "      <td>-5.423712e-16</td>\n",
       "      <td>9.464196e-17</td>\n",
       "      <td>-9.100189e-17</td>\n",
       "      <td>-2.766457e-16</td>\n",
       "    </tr>\n",
       "    <tr>\n",
       "      <th>std</th>\n",
       "      <td>1.001026e+00</td>\n",
       "      <td>1.001026e+00</td>\n",
       "      <td>1.001026e+00</td>\n",
       "      <td>1.001026e+00</td>\n",
       "      <td>1.001026e+00</td>\n",
       "    </tr>\n",
       "    <tr>\n",
       "      <th>min</th>\n",
       "      <td>-1.126907e+00</td>\n",
       "      <td>-3.323564e+00</td>\n",
       "      <td>-1.264137e+00</td>\n",
       "      <td>-2.235378e+00</td>\n",
       "      <td>-2.590000e+00</td>\n",
       "    </tr>\n",
       "    <tr>\n",
       "      <th>25%</th>\n",
       "      <td>-8.617951e-01</td>\n",
       "      <td>-6.830461e-01</td>\n",
       "      <td>-7.156413e-01</td>\n",
       "      <td>-7.946194e-01</td>\n",
       "      <td>-7.246990e-01</td>\n",
       "    </tr>\n",
       "    <tr>\n",
       "      <th>50%</th>\n",
       "      <td>-2.873858e-01</td>\n",
       "      <td>-6.174788e-02</td>\n",
       "      <td>-2.388238e-01</td>\n",
       "      <td>4.582332e-02</td>\n",
       "      <td>-1.690774e-01</td>\n",
       "    </tr>\n",
       "    <tr>\n",
       "      <th>75%</th>\n",
       "      <td>6.405062e-01</td>\n",
       "      <td>5.595504e-01</td>\n",
       "      <td>4.787397e-01</td>\n",
       "      <td>6.648994e-01</td>\n",
       "      <td>5.849803e-01</td>\n",
       "    </tr>\n",
       "    <tr>\n",
       "      <th>max</th>\n",
       "      <td>4.175333e+00</td>\n",
       "      <td>3.200068e+00</td>\n",
       "      <td>6.034598e+00</td>\n",
       "      <td>4.037926e+00</td>\n",
       "      <td>3.680586e+00</td>\n",
       "    </tr>\n",
       "  </tbody>\n",
       "</table>\n",
       "</div>"
      ],
      "text/plain": [
       "                Age  BloodPressure   GeneticRisk           BMI  \\\n",
       "count  4.880000e+02   4.880000e+02  4.880000e+02  4.880000e+02   \n",
       "mean   2.548053e-16  -5.423712e-16  9.464196e-17 -9.100189e-17   \n",
       "std    1.001026e+00   1.001026e+00  1.001026e+00  1.001026e+00   \n",
       "min   -1.126907e+00  -3.323564e+00 -1.264137e+00 -2.235378e+00   \n",
       "25%   -8.617951e-01  -6.830461e-01 -7.156413e-01 -7.946194e-01   \n",
       "50%   -2.873858e-01  -6.174788e-02 -2.388238e-01  4.582332e-02   \n",
       "75%    6.405062e-01   5.595504e-01  4.787397e-01  6.648994e-01   \n",
       "max    4.175333e+00   3.200068e+00  6.034598e+00  4.037926e+00   \n",
       "\n",
       "       PhysicalActivity  \n",
       "count      4.880000e+02  \n",
       "mean      -2.766457e-16  \n",
       "std        1.001026e+00  \n",
       "min       -2.590000e+00  \n",
       "25%       -7.246990e-01  \n",
       "50%       -1.690774e-01  \n",
       "75%        5.849803e-01  \n",
       "max        3.680586e+00  "
      ]
     },
     "execution_count": 9,
     "metadata": {},
     "output_type": "execute_result"
    }
   ],
   "source": [
    "pd.DataFrame(df_scaled, columns = ['Age', 'BloodPressure','GeneticRisk','BMI','PhysicalActivity']).describe()"
   ]
  },
  {
   "cell_type": "markdown",
   "id": "b86249f1",
   "metadata": {},
   "source": [
    "# Apply the PCA"
   ]
  },
  {
   "cell_type": "code",
   "execution_count": null,
   "id": "ab0b5569",
   "metadata": {},
   "outputs": [
    {
     "data": {
      "image/png": "[encoded data removed]",
      "text/plain": [
       "<Figure size 640x480 with 1 Axes>"
      ]
     },
     "metadata": {},
     "output_type": "display_data"
    }
   ],
   "source": [
    "# Apply PCA\n",
    "pca = PCA(n_components=5)\n",
    "pca.fit(df_scaled)\n",
    "\n",
    "# Plot explained variance\n",
    "import matplotlib.pyplot as plt\n",
    "plt.plot(range(1, len(pca.explained_variance_ratio_) + 1), np.cumsum(pca.explained_variance_ratio_), marker='o')\n",
    "plt.xlabel('Number of Components')\n",
    "plt.ylabel('Cumulative Explained Variance')\n",
    "plt.title('PCA Explained Variance after Scaling')\n",
    "plt.show()\n"
   ]
  },
  {
   "cell_type": "code",
   "execution_count": 11,
   "id": "38a0e996",
   "metadata": {},
   "outputs": [
    {
     "name": "stdout",
     "output_type": "stream",
     "text": [
      "Number of components to retain 90% variance: 4\n"
     ]
    }
   ],
   "source": [
    "# Cov Matrix\n",
    "cov_matrix = np.cov(df_scaled, rowvar=False)  \n",
    "\n",
    "# EigenValue & Vector\n",
    "eigenvalues, eigenvectors = np.linalg.eig(cov_matrix)\n",
    "\n",
    "# Sort EigenValue & Vector\n",
    "sorted_indices = np.argsort(eigenvalues)[::-1]\n",
    "sorted_eigenvalues = eigenvalues[sorted_indices]\n",
    "sorted_eigenvectors = eigenvectors[:, sorted_indices]\n",
    "\n",
    "# Variance\n",
    "explained_variance_ratio = sorted_eigenvalues / np.sum(sorted_eigenvalues)\n",
    "cumulative_explained_variance = np.cumsum(explained_variance_ratio)\n",
    "\n",
    "k = np.argmax(cumulative_explained_variance >= 0.90) + 1\n",
    "print(f\"Number of components to retain 90% variance: {k}\")"
   ]
  },
  {
   "cell_type": "code",
   "execution_count": 12,
   "id": "8a37abfe",
   "metadata": {},
   "outputs": [
    {
     "name": "stdout",
     "output_type": "stream",
     "text": [
      "\n",
      "Reduced data shape: (488, 4)\n",
      "\n",
      "Reduced data (first 5 samples):\n",
      "[[-0.16651806  0.73713042  0.83058353 -0.09580268]\n",
      " [-1.21998644  0.13657767  0.80726908 -0.15051314]\n",
      " [ 0.69777077  1.44213811 -0.52126768  0.09910921]\n",
      " [-1.18338587 -0.39186844 -0.91013523  0.21652775]\n",
      " [ 1.15092087  0.22508229 -0.9037284  -0.64829921]]\n",
      "\n",
      "Explained variance ratio: [0.36247018 0.23283915 0.18214908 0.12753542]\n",
      "\n",
      "Cumulative explained variance: [0.36247018 0.59530933 0.77745841 0.90499382]\n"
     ]
    }
   ],
   "source": [
    "top_k_eigenvectors = sorted_eigenvectors[:, :k]\n",
    "reduced_data = np.dot(df_scaled, top_k_eigenvectors)\n",
    "\n",
    "print(\"\\nReduced data shape:\", reduced_data.shape)\n",
    "print(\"\\nReduced data (first 5 samples):\")\n",
    "print(reduced_data[:5])\n",
    "\n",
    "print(\"\\nExplained variance ratio:\", explained_variance_ratio[:k])\n",
    "print(\"\\nCumulative explained variance:\", cumulative_explained_variance[:k])"
   ]
  },
  {
   "cell_type": "markdown",
   "id": "9efbbabb",
   "metadata": {},
   "source": [
    "So, We use the first 4 principal components as it retains 90% variance."
   ]
  },
  {
   "cell_type": "code",
   "execution_count": 14,
   "id": "976c8395",
   "metadata": {},
   "outputs": [
    {
     "data": {
      "text/html": [
       "<style>#sk-container-id-1 {\n",
       "  /* Definition of color scheme common for light and dark mode */\n",
       "  --sklearn-color-text: black;\n",
       "  --sklearn-color-line: gray;\n",
       "  /* Definition of color scheme for unfitted estimators */\n",
       "  --sklearn-color-unfitted-level-0: #fff5e6;\n",
       "  --sklearn-color-unfitted-level-1: #f6e4d2;\n",
       "  --sklearn-color-unfitted-level-2: #ffe0b3;\n",
       "  --sklearn-color-unfitted-level-3: chocolate;\n",
       "  /* Definition of color scheme for fitted estimators */\n",
       "  --sklearn-color-fitted-level-0: #f0f8ff;\n",
       "  --sklearn-color-fitted-level-1: #d4ebff;\n",
       "  --sklearn-color-fitted-level-2: #b3dbfd;\n",
       "  --sklearn-color-fitted-level-3: cornflowerblue;\n",
       "\n",
       "  /* Specific color for light theme */\n",
       "  --sklearn-color-text-on-default-background: var(--sg-text-color, var(--theme-code-foreground, var(--jp-content-font-color1, black)));\n",
       "  --sklearn-color-background: var(--sg-background-color, var(--theme-background, var(--jp-layout-color0, white)));\n",
       "  --sklearn-color-border-box: var(--sg-text-color, var(--theme-code-foreground, var(--jp-content-font-color1, black)));\n",
       "  --sklearn-color-icon: #696969;\n",
       "\n",
       "  @media (prefers-color-scheme: dark) {\n",
       "    /* Redefinition of color scheme for dark theme */\n",
       "    --sklearn-color-text-on-default-background: var(--sg-text-color, var(--theme-code-foreground, var(--jp-content-font-color1, white)));\n",
       "    --sklearn-color-background: var(--sg-background-color, var(--theme-background, var(--jp-layout-color0, #111)));\n",
       "    --sklearn-color-border-box: var(--sg-text-color, var(--theme-code-foreground, var(--jp-content-font-color1, white)));\n",
       "    --sklearn-color-icon: #878787;\n",
       "  }\n",
       "}\n",
       "\n",
       "#sk-container-id-1 {\n",
       "  color: var(--sklearn-color-text);\n",
       "}\n",
       "\n",
       "#sk-container-id-1 pre {\n",
       "  padding: 0;\n",
       "}\n",
       "\n",
       "#sk-container-id-1 input.sk-hidden--visually {\n",
       "  border: 0;\n",
       "  clip: rect(1px 1px 1px 1px);\n",
       "  clip: rect(1px, 1px, 1px, 1px);\n",
       "  height: 1px;\n",
       "  margin: -1px;\n",
       "  overflow: hidden;\n",
       "  padding: 0;\n",
       "  position: absolute;\n",
       "  width: 1px;\n",
       "}\n",
       "\n",
       "#sk-container-id-1 div.sk-dashed-wrapped {\n",
       "  border: 1px dashed var(--sklearn-color-line);\n",
       "  margin: 0 0.4em 0.5em 0.4em;\n",
       "  box-sizing: border-box;\n",
       "  padding-bottom: 0.4em;\n",
       "  background-color: var(--sklearn-color-background);\n",
       "}\n",
       "\n",
       "#sk-container-id-1 div.sk-container {\n",
       "  /* jupyter's `normalize.less` sets `[hidden] { display: none; }`\n",
       "     but bootstrap.min.css set `[hidden] { display: none !important; }`\n",
       "     so we also need the `!important` here to be able to override the\n",
       "     default hidden behavior on the sphinx rendered scikit-learn.org.\n",
       "     See: https://github.com/scikit-learn/scikit-learn/issues/21755 */\n",
       "  display: inline-block !important;\n",
       "  position: relative;\n",
       "}\n",
       "\n",
       "#sk-container-id-1 div.sk-text-repr-fallback {\n",
       "  display: none;\n",
       "}\n",
       "\n",
       "div.sk-parallel-item,\n",
       "div.sk-serial,\n",
       "div.sk-item {\n",
       "  /* draw centered vertical line to link estimators */\n",
       "  background-image: linear-gradient(var(--sklearn-color-text-on-default-background), var(--sklearn-color-text-on-default-background));\n",
       "  background-size: 2px 100%;\n",
       "  background-repeat: no-repeat;\n",
       "  background-position: center center;\n",
       "}\n",
       "\n",
       "/* Parallel-specific style estimator block */\n",
       "\n",
       "#sk-container-id-1 div.sk-parallel-item::after {\n",
       "  content: \"\";\n",
       "  width: 100%;\n",
       "  border-bottom: 2px solid var(--sklearn-color-text-on-default-background);\n",
       "  flex-grow: 1;\n",
       "}\n",
       "\n",
       "#sk-container-id-1 div.sk-parallel {\n",
       "  display: flex;\n",
       "  align-items: stretch;\n",
       "  justify-content: center;\n",
       "  background-color: var(--sklearn-color-background);\n",
       "  position: relative;\n",
       "}\n",
       "\n",
       "#sk-container-id-1 div.sk-parallel-item {\n",
       "  display: flex;\n",
       "  flex-direction: column;\n",
       "}\n",
       "\n",
       "#sk-container-id-1 div.sk-parallel-item:first-child::after {\n",
       "  align-self: flex-end;\n",
       "  width: 50%;\n",
       "}\n",
       "\n",
       "#sk-container-id-1 div.sk-parallel-item:last-child::after {\n",
       "  align-self: flex-start;\n",
       "  width: 50%;\n",
       "}\n",
       "\n",
       "#sk-container-id-1 div.sk-parallel-item:only-child::after {\n",
       "  width: 0;\n",
       "}\n",
       "\n",
       "/* Serial-specific style estimator block */\n",
       "\n",
       "#sk-container-id-1 div.sk-serial {\n",
       "  display: flex;\n",
       "  flex-direction: column;\n",
       "  align-items: center;\n",
       "  background-color: var(--sklearn-color-background);\n",
       "  padding-right: 1em;\n",
       "  padding-left: 1em;\n",
       "}\n",
       "\n",
       "\n",
       "/* Toggleable style: style used for estimator/Pipeline/ColumnTransformer box that is\n",
       "clickable and can be expanded/collapsed.\n",
       "- Pipeline and ColumnTransformer use this feature and define the default style\n",
       "- Estimators will overwrite some part of the style using the `sk-estimator` class\n",
       "*/\n",
       "\n",
       "/* Pipeline and ColumnTransformer style (default) */\n",
       "\n",
       "#sk-container-id-1 div.sk-toggleable {\n",
       "  /* Default theme specific background. It is overwritten whether we have a\n",
       "  specific estimator or a Pipeline/ColumnTransformer */\n",
       "  background-color: var(--sklearn-color-background);\n",
       "}\n",
       "\n",
       "/* Toggleable label */\n",
       "#sk-container-id-1 label.sk-toggleable__label {\n",
       "  cursor: pointer;\n",
       "  display: block;\n",
       "  width: 100%;\n",
       "  margin-bottom: 0;\n",
       "  padding: 0.5em;\n",
       "  box-sizing: border-box;\n",
       "  text-align: center;\n",
       "}\n",
       "\n",
       "#sk-container-id-1 label.sk-toggleable__label-arrow:before {\n",
       "  /* Arrow on the left of the label */\n",
       "  content: \"▸\";\n",
       "  float: left;\n",
       "  margin-right: 0.25em;\n",
       "  color: var(--sklearn-color-icon);\n",
       "}\n",
       "\n",
       "#sk-container-id-1 label.sk-toggleable__label-arrow:hover:before {\n",
       "  color: var(--sklearn-color-text);\n",
       "}\n",
       "\n",
       "/* Toggleable content - dropdown */\n",
       "\n",
       "#sk-container-id-1 div.sk-toggleable__content {\n",
       "  max-height: 0;\n",
       "  max-width: 0;\n",
       "  overflow: hidden;\n",
       "  text-align: left;\n",
       "  /* unfitted */\n",
       "  background-color: var(--sklearn-color-unfitted-level-0);\n",
       "}\n",
       "\n",
       "#sk-container-id-1 div.sk-toggleable__content.fitted {\n",
       "  /* fitted */\n",
       "  background-color: var(--sklearn-color-fitted-level-0);\n",
       "}\n",
       "\n",
       "#sk-container-id-1 div.sk-toggleable__content pre {\n",
       "  margin: 0.2em;\n",
       "  border-radius: 0.25em;\n",
       "  color: var(--sklearn-color-text);\n",
       "  /* unfitted */\n",
       "  background-color: var(--sklearn-color-unfitted-level-0);\n",
       "}\n",
       "\n",
       "#sk-container-id-1 div.sk-toggleable__content.fitted pre {\n",
       "  /* unfitted */\n",
       "  background-color: var(--sklearn-color-fitted-level-0);\n",
       "}\n",
       "\n",
       "#sk-container-id-1 input.sk-toggleable__control:checked~div.sk-toggleable__content {\n",
       "  /* Expand drop-down */\n",
       "  max-height: 200px;\n",
       "  max-width: 100%;\n",
       "  overflow: auto;\n",
       "}\n",
       "\n",
       "#sk-container-id-1 input.sk-toggleable__control:checked~label.sk-toggleable__label-arrow:before {\n",
       "  content: \"▾\";\n",
       "}\n",
       "\n",
       "/* Pipeline/ColumnTransformer-specific style */\n",
       "\n",
       "#sk-container-id-1 div.sk-label input.sk-toggleable__control:checked~label.sk-toggleable__label {\n",
       "  color: var(--sklearn-color-text);\n",
       "  background-color: var(--sklearn-color-unfitted-level-2);\n",
       "}\n",
       "\n",
       "#sk-container-id-1 div.sk-label.fitted input.sk-toggleable__control:checked~label.sk-toggleable__label {\n",
       "  background-color: var(--sklearn-color-fitted-level-2);\n",
       "}\n",
       "\n",
       "/* Estimator-specific style */\n",
       "\n",
       "/* Colorize estimator box */\n",
       "#sk-container-id-1 div.sk-estimator input.sk-toggleable__control:checked~label.sk-toggleable__label {\n",
       "  /* unfitted */\n",
       "  background-color: var(--sklearn-color-unfitted-level-2);\n",
       "}\n",
       "\n",
       "#sk-container-id-1 div.sk-estimator.fitted input.sk-toggleable__control:checked~label.sk-toggleable__label {\n",
       "  /* fitted */\n",
       "  background-color: var(--sklearn-color-fitted-level-2);\n",
       "}\n",
       "\n",
       "#sk-container-id-1 div.sk-label label.sk-toggleable__label,\n",
       "#sk-container-id-1 div.sk-label label {\n",
       "  /* The background is the default theme color */\n",
       "  color: var(--sklearn-color-text-on-default-background);\n",
       "}\n",
       "\n",
       "/* On hover, darken the color of the background */\n",
       "#sk-container-id-1 div.sk-label:hover label.sk-toggleable__label {\n",
       "  color: var(--sklearn-color-text);\n",
       "  background-color: var(--sklearn-color-unfitted-level-2);\n",
       "}\n",
       "\n",
       "/* Label box, darken color on hover, fitted */\n",
       "#sk-container-id-1 div.sk-label.fitted:hover label.sk-toggleable__label.fitted {\n",
       "  color: var(--sklearn-color-text);\n",
       "  background-color: var(--sklearn-color-fitted-level-2);\n",
       "}\n",
       "\n",
       "/* Estimator label */\n",
       "\n",
       "#sk-container-id-1 div.sk-label label {\n",
       "  font-family: monospace;\n",
       "  font-weight: bold;\n",
       "  display: inline-block;\n",
       "  line-height: 1.2em;\n",
       "}\n",
       "\n",
       "#sk-container-id-1 div.sk-label-container {\n",
       "  text-align: center;\n",
       "}\n",
       "\n",
       "/* Estimator-specific */\n",
       "#sk-container-id-1 div.sk-estimator {\n",
       "  font-family: monospace;\n",
       "  border: 1px dotted var(--sklearn-color-border-box);\n",
       "  border-radius: 0.25em;\n",
       "  box-sizing: border-box;\n",
       "  margin-bottom: 0.5em;\n",
       "  /* unfitted */\n",
       "  background-color: var(--sklearn-color-unfitted-level-0);\n",
       "}\n",
       "\n",
       "#sk-container-id-1 div.sk-estimator.fitted {\n",
       "  /* fitted */\n",
       "  background-color: var(--sklearn-color-fitted-level-0);\n",
       "}\n",
       "\n",
       "/* on hover */\n",
       "#sk-container-id-1 div.sk-estimator:hover {\n",
       "  /* unfitted */\n",
       "  background-color: var(--sklearn-color-unfitted-level-2);\n",
       "}\n",
       "\n",
       "#sk-container-id-1 div.sk-estimator.fitted:hover {\n",
       "  /* fitted */\n",
       "  background-color: var(--sklearn-color-fitted-level-2);\n",
       "}\n",
       "\n",
       "/* Specification for estimator info (e.g. \"i\" and \"?\") */\n",
       "\n",
       "/* Common style for \"i\" and \"?\" */\n",
       "\n",
       ".sk-estimator-doc-link,\n",
       "a:link.sk-estimator-doc-link,\n",
       "a:visited.sk-estimator-doc-link {\n",
       "  float: right;\n",
       "  font-size: smaller;\n",
       "  line-height: 1em;\n",
       "  font-family: monospace;\n",
       "  background-color: var(--sklearn-color-background);\n",
       "  border-radius: 1em;\n",
       "  height: 1em;\n",
       "  width: 1em;\n",
       "  text-decoration: none !important;\n",
       "  margin-left: 1ex;\n",
       "  /* unfitted */\n",
       "  border: var(--sklearn-color-unfitted-level-1) 1pt solid;\n",
       "  color: var(--sklearn-color-unfitted-level-1);\n",
       "}\n",
       "\n",
       ".sk-estimator-doc-link.fitted,\n",
       "a:link.sk-estimator-doc-link.fitted,\n",
       "a:visited.sk-estimator-doc-link.fitted {\n",
       "  /* fitted */\n",
       "  border: var(--sklearn-color-fitted-level-1) 1pt solid;\n",
       "  color: var(--sklearn-color-fitted-level-1);\n",
       "}\n",
       "\n",
       "/* On hover */\n",
       "div.sk-estimator:hover .sk-estimator-doc-link:hover,\n",
       ".sk-estimator-doc-link:hover,\n",
       "div.sk-label-container:hover .sk-estimator-doc-link:hover,\n",
       ".sk-estimator-doc-link:hover {\n",
       "  /* unfitted */\n",
       "  background-color: var(--sklearn-color-unfitted-level-3);\n",
       "  color: var(--sklearn-color-background);\n",
       "  text-decoration: none;\n",
       "}\n",
       "\n",
       "div.sk-estimator.fitted:hover .sk-estimator-doc-link.fitted:hover,\n",
       ".sk-estimator-doc-link.fitted:hover,\n",
       "div.sk-label-container:hover .sk-estimator-doc-link.fitted:hover,\n",
       ".sk-estimator-doc-link.fitted:hover {\n",
       "  /* fitted */\n",
       "  background-color: var(--sklearn-color-fitted-level-3);\n",
       "  color: var(--sklearn-color-background);\n",
       "  text-decoration: none;\n",
       "}\n",
       "\n",
       "/* Span, style for the box shown on hovering the info icon */\n",
       ".sk-estimator-doc-link span {\n",
       "  display: none;\n",
       "  z-index: 9999;\n",
       "  position: relative;\n",
       "  font-weight: normal;\n",
       "  right: .2ex;\n",
       "  padding: .5ex;\n",
       "  margin: .5ex;\n",
       "  width: min-content;\n",
       "  min-width: 20ex;\n",
       "  max-width: 50ex;\n",
       "  color: var(--sklearn-color-text);\n",
       "  box-shadow: 2pt 2pt 4pt #999;\n",
       "  /* unfitted */\n",
       "  background: var(--sklearn-color-unfitted-level-0);\n",
       "  border: .5pt solid var(--sklearn-color-unfitted-level-3);\n",
       "}\n",
       "\n",
       ".sk-estimator-doc-link.fitted span {\n",
       "  /* fitted */\n",
       "  background: var(--sklearn-color-fitted-level-0);\n",
       "  border: var(--sklearn-color-fitted-level-3);\n",
       "}\n",
       "\n",
       ".sk-estimator-doc-link:hover span {\n",
       "  display: block;\n",
       "}\n",
       "\n",
       "/* \"?\"-specific style due to the `<a>` HTML tag */\n",
       "\n",
       "#sk-container-id-1 a.estimator_doc_link {\n",
       "  float: right;\n",
       "  font-size: 1rem;\n",
       "  line-height: 1em;\n",
       "  font-family: monospace;\n",
       "  background-color: var(--sklearn-color-background);\n",
       "  border-radius: 1rem;\n",
       "  height: 1rem;\n",
       "  width: 1rem;\n",
       "  text-decoration: none;\n",
       "  /* unfitted */\n",
       "  color: var(--sklearn-color-unfitted-level-1);\n",
       "  border: var(--sklearn-color-unfitted-level-1) 1pt solid;\n",
       "}\n",
       "\n",
       "#sk-container-id-1 a.estimator_doc_link.fitted {\n",
       "  /* fitted */\n",
       "  border: var(--sklearn-color-fitted-level-1) 1pt solid;\n",
       "  color: var(--sklearn-color-fitted-level-1);\n",
       "}\n",
       "\n",
       "/* On hover */\n",
       "#sk-container-id-1 a.estimator_doc_link:hover {\n",
       "  /* unfitted */\n",
       "  background-color: var(--sklearn-color-unfitted-level-3);\n",
       "  color: var(--sklearn-color-background);\n",
       "  text-decoration: none;\n",
       "}\n",
       "\n",
       "#sk-container-id-1 a.estimator_doc_link.fitted:hover {\n",
       "  /* fitted */\n",
       "  background-color: var(--sklearn-color-fitted-level-3);\n",
       "}\n",
       "</style><div id=\"sk-container-id-1\" class=\"sk-top-container\"><div class=\"sk-text-repr-fallback\"><pre>PCA(n_components=4)</pre><b>In a Jupyter environment, please rerun this cell to show the HTML representation or trust the notebook. <br />On GitHub, the HTML representation is unable to render, please try loading this page with nbviewer.org.</b></div><div class=\"sk-container\" hidden><div class=\"sk-item\"><div class=\"sk-estimator  sk-toggleable\"><input class=\"sk-toggleable__control sk-hidden--visually\" id=\"sk-estimator-id-1\" type=\"checkbox\" checked><label for=\"sk-estimator-id-1\" class=\"sk-toggleable__label  sk-toggleable__label-arrow \">&nbsp;&nbsp;PCA<a class=\"sk-estimator-doc-link \" rel=\"noreferrer\" target=\"_blank\" href=\"https://scikit-learn.org/1.5/modules/generated/sklearn.decomposition.PCA.html\">?<span>Documentation for PCA</span></a><span class=\"sk-estimator-doc-link \">i<span>Not fitted</span></span></label><div class=\"sk-toggleable__content \"><pre>PCA(n_components=4)</pre></div> </div></div></div></div>"
      ],
      "text/plain": [
       "PCA(n_components=4)"
      ]
     },
     "execution_count": 14,
     "metadata": {},
     "output_type": "execute_result"
    }
   ],
   "source": [
    "PCA_obj = PCA(n_components = 4)\n",
    "PCA_obj"
   ]
  },
  {
   "cell_type": "markdown",
   "id": "76c1c092",
   "metadata": {},
   "source": [
    "# Display Results after applying the PCA"
   ]
  },
  {
   "cell_type": "code",
   "execution_count": 21,
   "id": "db9cc9bf",
   "metadata": {},
   "outputs": [
    {
     "data": {
      "text/plain": [
       "array([[-0.16651806,  0.73713042,  0.83058353, -0.09580268],\n",
       "       [-1.21998644,  0.13657767,  0.80726908, -0.15051314],\n",
       "       [ 0.69777077,  1.44213811, -0.52126768,  0.09910921],\n",
       "       ...,\n",
       "       [-0.69151593,  1.2785098 ,  1.69313988, -0.09615182],\n",
       "       [ 1.60935478, -0.73951173,  0.36011807, -0.73611603],\n",
       "       [ 1.14920753,  0.63515778, -0.42704211, -1.09588429]])"
      ]
     },
     "execution_count": 21,
     "metadata": {},
     "output_type": "execute_result"
    }
   ],
   "source": [
    "principal_components = PCA_obj.fit_transform(df_scaled)\n",
    "principal_components"
   ]
  },
  {
   "cell_type": "code",
   "execution_count": null,
   "id": "c5e3f43e",
   "metadata": {},
   "outputs": [
    {
     "data": {
      "image/png": "[encoded data removed]",
      "text/plain": [
       "<Figure size 800x600 with 1 Axes>"
      ]
     },
     "metadata": {},
     "output_type": "display_data"
    }
   ],
   "source": [
    "# Convert the transformed data to a DataFrame and add the Diabetes label\n",
    "principal_df = pd.DataFrame(data=principal_components, columns=['Principal Component 1', 'Principal Component 2', 'Principal Component 3', 'Principal Component 4'])\n",
    "principal_df['Diabetes'] = df['Diabetes']\n",
    "\n",
    "# Define a custom color palette: 0 -> blue, 1 -> red\n",
    "custom_palette = {0: 'blue', 1: 'red'}\n",
    "\n",
    "# Plot the scatterplot\n",
    "plt.figure(figsize=(8, 6))\n",
    "sns.scatterplot(data=principal_df, x='Principal Component 1', y='Principal Component 2', hue='Diabetes', palette=custom_palette)\n",
    "plt.title('Scatter Plot of Principal Components (1 & 2) by Diabetes Status')\n",
    "plt.xlabel('Principal Component 1')\n",
    "plt.ylabel('Principal Component 2')\n",
    "plt.legend(title='Diabetes')\n",
    "plt.show()"
   ]
  }
 ],
 "metadata": {
  "kernelspec": {
   "display_name": "base",
   "language": "python",
   "name": "python3"
  },
  "language_info": {
   "codemirror_mode": {
    "name": "ipython",
    "version": 3
   },
   "file_extension": ".py",
   "mimetype": "text/x-python",
   "name": "python",
   "nbconvert_exporter": "python",
   "pygments_lexer": "ipython3",
   "version": "3.11.5"
  }
 },
 "nbformat": 4,
 "nbformat_minor": 5
}
