{
  "cells": [
    {
      "cell_type": "markdown",
      "metadata": {
        "id": "JId_8ySmlv3B"
      },
      "source": [
        "# **Import Libraries**"
      ]
    },
    {
      "cell_type": "code",
      "execution_count": 2,
      "metadata": {
        "id": "rbD5asKFl0ta"
      },
      "outputs": [],
      "source": [
        "from __future__ import print_function\n",
        "\n",
        "import sklearn\n",
        "import scipy\n",
        "import pandas as pd\n",
        "import numpy as np\n",
        "import seaborn as sns\n",
        "import IPython\n",
        "import matplotlib\n",
        "import os\n",
        "import cv2\n",
        "\n",
        "from sklearn.datasets import load_iris\n",
        "from sklearn.pipeline import make_pipeline\n",
        "from sklearn.model_selection import train_test_split, cross_val_score, ShuffleSplit\n",
        "from sklearn.linear_model import LinearRegression\n",
        "from sklearn.preprocessing import LabelEncoder, StandardScaler\n",
        "from sklearn.metrics import mean_squared_error, r2_score, accuracy_score\n",
        "from sklearn.discriminant_analysis import LinearDiscriminantAnalysis\n",
        "from sklearn.feature_selection import SequentialFeatureSelector\n",
        "from sklearn.decomposition import PCA\n",
        "from scipy.linalg import pinv\n",
        "from matplotlib import pyplot as plt\n",
        "from matplotlib.cm import viridis\n",
        "from matplotlib.colors import Normalize"
      ]
    },
    {
      "cell_type": "markdown",
      "metadata": {
        "id": "62g_msMkrhNV"
      },
      "source": [
        "---\n",
        "# **LDA Class**"
      ]
    },
    {
      "cell_type": "markdown",
      "metadata": {
        "id": "Kv0ixMFoYBMF"
      },
      "source": [
        "- Class Classifier"
      ]
    },
    {
      "cell_type": "code",
      "execution_count": 3,
      "metadata": {
        "id": "bDA1ee53riKR"
      },
      "outputs": [],
      "source": [
        "class Classifier:\n",
        "    def predict(self, X):\n",
        "        raise NotImplementedError(\"Predict method must be implemented in subclasses.\")\n",
        "\n",
        "    def score(self, X, y):\n",
        "        raise NotImplementedError(\"Score method must be implemented in subclasses.\")"
      ]
    },
    {
      "cell_type": "markdown",
      "metadata": {
        "id": "Orb0Di1OYHoG"
      },
      "source": [
        "- Class LDA"
      ]
    },
    {
      "cell_type": "code",
      "execution_count": 4,
      "metadata": {
        "id": "pTpqGM0RwjLL"
      },
      "outputs": [],
      "source": [
        "class LDA(Classifier):\n",
        "    def __init__(self):\n",
        "        self.class_means = None\n",
        "        self.covariance_matrix = None\n",
        "\n",
        "    def train(self, x_train, y_train):\n",
        "        # class means\n",
        "        self.class_means = np.array([np.mean(x_train[y_train == c], axis=0) for c in np.unique(y_train)])\n",
        "\n",
        "        # covariance matrix\n",
        "        self.covariance_matrix = np.cov(x_train, rowvar=False)\n",
        "\n",
        "    def predict(self, x_test):\n",
        "        if self.class_means is None or self.covariance_matrix is None:\n",
        "            raise RuntimeError(\"The model hasn't been trained.\")\n",
        "\n",
        "        # discriminant function for each class\n",
        "        discriminant_values = np.array(\n",
        "            [np.sum(np.dot((x_test - mean), pinv(self.covariance_matrix)) * (x_test - mean), axis=1) for mean in self.class_means])\n",
        "\n",
        "        # Predict the class with the minimum discriminant value\n",
        "        predictions = np.argmin(discriminant_values, axis=0)\n",
        "\n",
        "        return predictions\n",
        "\n",
        "    def score(self, x_test, y_test):\n",
        "        predictions = self.predict(x_test)\n",
        "        accuracy = accuracy_score(y_test, predictions)\n",
        "        return accuracy"
      ]
    },
    {
      "cell_type": "markdown",
      "metadata": {
        "id": "rK09HuoXxP9l"
      },
      "source": [
        "---\n",
        "\n",
        "# **Face Images**"
      ]
    },
    {
      "cell_type": "markdown",
      "metadata": {
        "id": "pK1-fH8d9MMY"
      },
      "source": [
        "## eigenface & PCA\n",
        "\n",
        "\n"
      ]
    },
    {
      "cell_type": "markdown",
      "metadata": {
        "id": "eO8bn4f191LZ"
      },
      "source": [
        "### `Eigenface: A Machine Learning Technique for Dimensionality Reduction`\n",
        "\n",
        "**Eigenface** is a machine learning technique used for **dimensionality reduction** and has applications in areas such as **face recognition**, **speech recognition**, and **image processing**. It is based on **Principal Component Analysis (PCA)**, which is a statistical method for reducing the number of variables (dimensions) in data while retaining the most important information.\n",
        "\n",
        "In face recognition, the Eigenface method is applied to reduce the dimensionality of facial image data. This dimensionality reduction allows for **faster and more efficient recognition**.\n",
        "\n",
        "In PCA, the data is represented as an `N × M` data matrix, where `N` is the number of samples and `M` is the number of features. The goal of PCA is to generate a new `N × K` matrix where `K < M`, meaning the data is projected into a lower-dimensional subspace that retains the **maximum variance**.\n",
        "\n",
        "Eigenface is a specific application of PCA tailored for **image data**, particularly facial images. In this method, images are represented as an `N × M` matrix, where `N` is the number of pixels and `M` is the number of color channels (often grayscale, so `M = 1`).\n",
        "\n",
        "The **eigenvectors** of the **covariance matrix** of this data represent the **principal components**, which are ordered by the amount of variance they explain. The first few principal components explain most of the variance. These are referred to as **Eigenfaces** in this context. \n",
        "\n",
        "Each Eigenface represents a key facial feature pattern:\n",
        "- The **first Eigenface** may capture general attributes like the overall shape or size of the face.\n",
        "- The **second Eigenface** might encode variations like the relative positions of the eyes and nose.\n",
        "\n",
        "\n",
        "### `Steps of the Eigenface Method`\n",
        "\n",
        "1. **Data Collection**  \n",
        "   A dataset of facial images is collected. All images must be of the same size and, ideally, aligned to a standard position.\n",
        "\n",
        "2. **Preprocessing**  \n",
        "   Each image is flattened into a vector of pixel values. The **average face** is computed and subtracted from each image to **center** the data around the origin.\n",
        "\n",
        "3. **Generating Eigenfaces (PCA)**\n",
        "   - All preprocessed face vectors are stacked into a matrix.\n",
        "   - The **covariance matrix** of the data is computed.\n",
        "   - **Eigenvectors** and **eigenvalues** of the covariance matrix are calculated.\n",
        "   - The eigenvectors are sorted in descending order based on their corresponding eigenvalues.\n",
        "   - The top `k` eigenvectors (those that explain the most variance) are selected to form the **Eigenfaces**.\n",
        "\n",
        "4. **Projection (Feature Representation)**  \n",
        "   Each facial image is projected into the subspace spanned by the selected Eigenfaces. This is done by computing the **dot product** between the image vector and each Eigenface vector.\n",
        "\n",
        "5. **Recognition**  \n",
        "   To recognize or classify a face:\n",
        "   - The input image is also projected into the same subspace.\n",
        "   - The projected vector is compared to the projected vectors of known faces in the dataset.\n",
        "   - The known face with the **closest projection** (e.g., by Euclidean distance) is considered the match.\n",
        "\n",
        "\n",
        "### `Advantages and Disadvantages of the Eigenface Method`\n",
        "\n",
        "**Advantages**:\n",
        "- **Dimensionality Reduction**: Efficiently reduces the size of the data while preserving the most important features.\n",
        "- **Resilience to Lighting Conditions**: Can tolerate variations in lighting, small facial expressions, and slight misalignments.\n",
        "\n",
        "**Disadvantages**:\n",
        "- **Sensitive to Pose Variations**: Performance degrades with changes in face orientation or large expressions.\n",
        "- **Requires Controlled Training Data**: Works best when training images are well-aligned and captured under similar conditions.\n"
      ]
    },
    {
      "cell_type": "markdown",
      "metadata": {
        "id": "J8TVgKE4VBOw"
      },
      "source": [
        "---\n",
        "\n",
        "## import Data & Generate Train and Test Matrix"
      ]
    },
    {
      "cell_type": "code",
      "execution_count": 14,
      "metadata": {
        "colab": {
          "base_uri": "https://localhost:8080/",
          "height": 246
        },
        "id": "eZtJNB7kvA4i",
        "outputId": "371eacfb-bf4c-4e44-c766-b9d8169e10d4"
      },
      "outputs": [
        {
          "name": "stdout",
          "output_type": "stream",
          "text": [
            "X_train shape: (200, 2304)\n",
            "X_test shape: (200, 2304)\n",
            "y_train shape: (200,)\n",
            "y_test shape: (200,)\n"
          ]
        }
      ],
      "source": [
        "# import the dataset\n",
        "dataset_path = \"./ORL\"\n",
        "\n",
        "# Initialization\n",
        "images = []\n",
        "labels = []\n",
        "\n",
        "for person_folder in os.listdir(dataset_path):\n",
        "    person_path = os.path.join(dataset_path, person_folder)\n",
        "\n",
        "    for image_name in os.listdir(person_path):\n",
        "        image_path = os.path.join(person_path, image_name)\n",
        "\n",
        "        # Read images\n",
        "        img = cv2.imread(image_path, cv2.IMREAD_GRAYSCALE)\n",
        "\n",
        "        if img is not None:\n",
        "            img_flat = img.flatten()\n",
        "\n",
        "            # Append the flattened image to the images list\n",
        "            images.append(img_flat)\n",
        "\n",
        "            # Create a label for the image\n",
        "            label = int(person_folder[1:])\n",
        "            labels.append(label)\n",
        "\n",
        "# numpy arrays\n",
        "X = np.array(images)\n",
        "y = np.array(labels)\n",
        "\n",
        "# encode labels as integers\n",
        "label_encoder = LabelEncoder()\n",
        "y = label_encoder.fit_transform(y)\n",
        "\n",
        "# Split the data\n",
        "X_train, X_test, y_train, y_test = train_test_split(X, y,\n",
        "                                                    test_size=0.5, random_state=42)\n",
        "\n",
        "X_train = X_train.reshape((200, -1))\n",
        "X_test = X_test.reshape((200, -1))\n",
        "\n",
        "# Print\n",
        "print(\"X_train shape:\", X_train.shape)\n",
        "print(\"X_test shape:\", X_test.shape)\n",
        "print(\"y_train shape:\", y_train.shape)\n",
        "print(\"y_test shape:\", y_test.shape)"
      ]
    },
    {
      "cell_type": "code",
      "execution_count": 15,
      "metadata": {
        "id": "ExnjaRMKEIFX"
      },
      "outputs": [
        {
          "name": "stdout",
          "output_type": "stream",
          "text": [
            "Explained Variance Ratio: 0.94419764083565\n"
          ]
        }
      ],
      "source": [
        "# number of components for PCA\n",
        "n_components = 45  \n",
        "\n",
        "# Initialize PCA \n",
        "pca = PCA(n_components=n_components)\n",
        "\n",
        "X_train_pca = pca.fit_transform(X_train)\n",
        "X_test_pca = pca.transform(X_test)\n",
        "\n",
        "# Print the explained variance ratio \n",
        "print(\"Explained Variance Ratio:\", sum(pca.explained_variance_ratio_))"
      ]
    },
    {
      "cell_type": "code",
      "execution_count": 16,
      "metadata": {
        "id": "L_P42XZrELKr"
      },
      "outputs": [
        {
          "name": "stdout",
          "output_type": "stream",
          "text": [
            "X_train_pca shape: (200, 45)\n",
            "X_test_pca shape: (200, 45)\n",
            "y_train shape: (200,)\n",
            "y_test shape: (200,)\n"
          ]
        }
      ],
      "source": [
        "# print\n",
        "print(\"X_train_pca shape:\", X_train_pca.shape)\n",
        "print(\"X_test_pca shape:\", X_test_pca.shape)\n",
        "print(\"y_train shape:\", y_train.shape)\n",
        "print(\"y_test shape:\", y_test.shape)"
      ]
    },
    {
      "cell_type": "markdown",
      "metadata": {
        "id": "yin8AVIYEdUj"
      },
      "source": [
        "### Designed LDA"
      ]
    },
    {
      "cell_type": "code",
      "execution_count": 17,
      "metadata": {
        "id": "7hAr0S57Ec9w"
      },
      "outputs": [
        {
          "name": "stdout",
          "output_type": "stream",
          "text": [
            "Accuracy of Designed LDA: 85.0\n"
          ]
        }
      ],
      "source": [
        "# model\n",
        "lda_model = LDA()\n",
        "lda_model.train(X_train_pca, y_train)\n",
        "\n",
        "# accuracy\n",
        "accuracy = lda_model.score(X_test_pca, y_test)\n",
        "print(\"Accuracy of Designed LDA:\", accuracy*100)"
      ]
    },
    {
      "cell_type": "markdown",
      "metadata": {
        "id": "gIcPeAeFEZjk"
      },
      "source": [
        "### python LDA function"
      ]
    },
    {
      "cell_type": "code",
      "execution_count": 18,
      "metadata": {
        "id": "WYTA86Y0ENQu"
      },
      "outputs": [
        {
          "name": "stdout",
          "output_type": "stream",
          "text": [
            "Accuracy of python LDA function: 94.5\n"
          ]
        }
      ],
      "source": [
        "# Initialize the LDA classifier\n",
        "lda = LinearDiscriminantAnalysis()\n",
        "\n",
        "lda.fit(X_train_pca, y_train)\n",
        "y_pred = lda.predict(X_test_pca)\n",
        "\n",
        "# accuracy \n",
        "accuracy = accuracy_score(y_test, y_pred)\n",
        "print(\"Accuracy of python LDA function:\", accuracy*100)"
      ]
    },
    {
      "cell_type": "markdown",
      "metadata": {},
      "source": [
        "Utilizing the built-in Python function led to an approximate 10% improvement in the final results."
      ]
    },
    {
      "cell_type": "markdown",
      "metadata": {},
      "source": [
        "---"
      ]
    },
    {
      "cell_type": "markdown",
      "metadata": {},
      "source": [
        "- Different Dimension of PCA"
      ]
    },
    {
      "cell_type": "code",
      "execution_count": 31,
      "metadata": {},
      "outputs": [
        {
          "name": "stdout",
          "output_type": "stream",
          "text": [
            "In PCA dimension of 10\n",
            "Explained Variance Ratio: 0.7543506064198497\n",
            "Accuracy of designed LDA: 77.5\n",
            "----------------------------------------\n",
            "In PCA dimension of 20\n",
            "Explained Variance Ratio: 0.8604663136729186\n",
            "Accuracy of designed LDA: 84.0\n",
            "----------------------------------------\n",
            "In PCA dimension of 30\n",
            "Explained Variance Ratio: 0.9085164236050149\n",
            "Accuracy of designed LDA: 83.0\n",
            "----------------------------------------\n",
            "In PCA dimension of 40\n",
            "Explained Variance Ratio: 0.9347556040088126\n",
            "Accuracy of designed LDA: 84.0\n",
            "----------------------------------------\n",
            "In PCA dimension of 50\n",
            "Explained Variance Ratio: 0.9520474260002919\n",
            "Accuracy of designed LDA: 87.5\n",
            "----------------------------------------\n",
            "In PCA dimension of 60\n",
            "Explained Variance Ratio: 0.9643395549045505\n",
            "Accuracy of designed LDA: 87.0\n",
            "----------------------------------------\n",
            "In PCA dimension of 70\n",
            "Explained Variance Ratio: 0.9732558755284203\n",
            "Accuracy of designed LDA: 85.5\n",
            "----------------------------------------\n",
            "In PCA dimension of 80\n",
            "Explained Variance Ratio: 0.9796317960900415\n",
            "Accuracy of designed LDA: 86.5\n",
            "----------------------------------------\n",
            "In PCA dimension of 90\n",
            "Explained Variance Ratio: 0.984521044618203\n",
            "Accuracy of designed LDA: 85.5\n",
            "----------------------------------------\n",
            "In PCA dimension of 100\n",
            "Explained Variance Ratio: 0.9882556533850197\n",
            "Accuracy of designed LDA: 86.0\n",
            "----------------------------------------\n",
            "In PCA dimension of 140\n",
            "Explained Variance Ratio: 0.9963980215718722\n",
            "Accuracy of designed LDA: 87.0\n",
            "----------------------------------------\n",
            "In PCA dimension of 180\n",
            "Explained Variance Ratio: 0.999443611392742\n",
            "Accuracy of designed LDA: 87.0\n",
            "----------------------------------------\n"
          ]
        }
      ],
      "source": [
        "# Different PCA dimension\n",
        "PCA_dimension = [10, 20, 30, 40, 50, 60, 70, 80, 90, 100, 140, 180] \n",
        "\n",
        "for n_components in PCA_dimension:\n",
        "    pca = PCA(n_components=n_components)\n",
        "\n",
        "    X_train_pca = pca.fit_transform(X_train)\n",
        "    X_test_pca = pca.transform(X_test)\n",
        "\n",
        "    print(f\"In PCA dimension of {n_components}\")\n",
        "    # explained variance ratio \n",
        "    print(\"Explained Variance Ratio:\",\n",
        "          sum(pca.explained_variance_ratio_))\n",
        "\n",
        "    # model\n",
        "    lda_model = LDA()\n",
        "    lda_model.train(X_train_pca, y_train)\n",
        "\n",
        "    # accuracy\n",
        "    accuracy = lda_model.score(X_test_pca, y_test)\n",
        "    print(\"Accuracy of designed LDA:\", accuracy*100)\n",
        "    print(\"-\" * 40)"
      ]
    },
    {
      "cell_type": "code",
      "execution_count": 32,
      "metadata": {},
      "outputs": [
        {
          "name": "stdout",
          "output_type": "stream",
          "text": [
            "In PCA dimension of 10\n",
            "Explained Variance Ratio: 0.7543506140575749\n",
            "Accuracy of python LDA function: 83.5\n",
            "----------------------------------------\n",
            "In PCA dimension of 20\n",
            "Explained Variance Ratio: 0.8604868661366226\n",
            "Accuracy of python LDA function: 91.0\n",
            "----------------------------------------\n",
            "In PCA dimension of 30\n",
            "Explained Variance Ratio: 0.90851605037637\n",
            "Accuracy of python LDA function: 93.0\n",
            "----------------------------------------\n",
            "In PCA dimension of 40\n",
            "Explained Variance Ratio: 0.9347909238011107\n",
            "Accuracy of python LDA function: 93.5\n",
            "----------------------------------------\n",
            "In PCA dimension of 50\n",
            "Explained Variance Ratio: 0.9520689246716644\n",
            "Accuracy of python LDA function: 95.5\n",
            "----------------------------------------\n",
            "In PCA dimension of 60\n",
            "Explained Variance Ratio: 0.9643907320413422\n",
            "Accuracy of python LDA function: 95.5\n",
            "----------------------------------------\n",
            "In PCA dimension of 70\n",
            "Explained Variance Ratio: 0.9731837589760751\n",
            "Accuracy of python LDA function: 95.5\n",
            "----------------------------------------\n",
            "In PCA dimension of 80\n",
            "Explained Variance Ratio: 0.9796349519280282\n",
            "Accuracy of python LDA function: 95.5\n",
            "----------------------------------------\n",
            "In PCA dimension of 90\n",
            "Explained Variance Ratio: 0.9845277863493789\n",
            "Accuracy of python LDA function: 95.0\n",
            "----------------------------------------\n",
            "In PCA dimension of 100\n",
            "Explained Variance Ratio: 0.988273953254645\n",
            "Accuracy of python LDA function: 94.5\n",
            "----------------------------------------\n",
            "In PCA dimension of 140\n",
            "Explained Variance Ratio: 0.9963921482277885\n",
            "Accuracy of python LDA function: 92.5\n",
            "----------------------------------------\n",
            "In PCA dimension of 180\n",
            "Explained Variance Ratio: 0.999443611392742\n",
            "Accuracy of python LDA function: 71.0\n",
            "----------------------------------------\n"
          ]
        }
      ],
      "source": [
        "# # Different PCA dimension\n",
        "n_components_list = [10, 20, 30, 40, 50, 60, 70, 80, 90, 100, 140, 180] \n",
        "\n",
        "for n_components in n_components_list:\n",
        "    pca = PCA(n_components=n_components)\n",
        "\n",
        "    X_train_pca = pca.fit_transform(X_train)\n",
        "    X_test_pca = pca.transform(X_test)\n",
        "\n",
        "    print(f\"In PCA dimension of {n_components}\")\n",
        "    # explained variance ratio\n",
        "    print(\"Explained Variance Ratio:\",\n",
        "          sum(pca.explained_variance_ratio_))\n",
        "\n",
        "    # LDA model\n",
        "    lda_model = LinearDiscriminantAnalysis()\n",
        "    lda_model.fit(X_train_pca, y_train)\n",
        "\n",
        "    y_pred = lda_model.predict(X_test_pca)\n",
        "\n",
        "    # accuracy \n",
        "    accuracy = accuracy_score(y_test, y_pred)\n",
        "    print(\"Accuracy of python LDA function:\", accuracy*100)\n",
        "    print(\"-\" * 40)\n"
      ]
    },
    {
      "cell_type": "markdown",
      "metadata": {},
      "source": [
        "---"
      ]
    },
    {
      "cell_type": "markdown",
      "metadata": {},
      "source": [
        "### **The Impact of Dimensionality Changes in PCA**\n",
        "\n",
        "Varying the number of dimensions in **Principal Component Analysis (PCA)** can lead to different outcomes. In general, **dimensionality reduction** can enhance the performance of machine learning models. This improvement is mainly due to the fact that reducing the number of features simplifies the model, reduces its complexity, and increases computational efficiency.\n",
        "\n",
        "By reducing the number of dimensions:\n",
        "- The **volume of data decreases**, leading to **faster training** and **faster inference**.\n",
        "- This is particularly advantageous when the model requires substantial time or computational resources.\n",
        "- Models with fewer dimensions are often **more interpretable**, which is valuable in situations where understanding the results is important.\n",
        "\n",
        "However, **excessive reduction in dimensions** may result in **reduced model accuracy**, since it can lead to the **loss of important information**. In PCA, reducing dimensions also reduces the **variance** in the data. Variance measures how much the data is spread out, so a decrease in variance indicates that data points become more similar or closer to each other.\n",
        "\n",
        "In general, dimensionality changes in PCA can have the following effects:\n",
        "\n",
        "- **Increasing the number of dimensions** can preserve more useful information in the data. This is especially beneficial when the dataset is complex and important patterns are hidden in higher dimensions. However, it can also cause the model to **overfit** by learning from noise or irrelevant details in the data.\n",
        "\n",
        "- **Reducing the number of dimensions** simplifies the model and improves its efficiency.\n",
        "\n",
        "- **Excessive dimensionality reduction** can lead to a **loss of critical information**, thereby reducing the model's accuracy.\n",
        "\n",
        "- **Reduction in variance** signifies that the data points are becoming **more closely clustered** in the feature space.\n",
        "\n",
        "---"
      ]
    },
    {
      "cell_type": "markdown",
      "metadata": {},
      "source": [
        "### **When to Stop Dimensionality Reduction in PCA**\n",
        "\n",
        "Determining the optimal number of components in **Principal Component Analysis (PCA)** is a crucial step. Several methods can be used to decide when to stop reducing dimensions:\n",
        "\n",
        "#### 1. **Explained Variance**:\n",
        "One of the most common techniques is to use the **explained variance ratio** to guide the selection of the number of principal components. This method involves examining the **cumulative explained variance** as more components are included.\n",
        "\n",
        "A common approach is to choose the smallest number of components that together account for a sufficient percentage of the total variance—typically **95%** or **99%**. This ensures that most of the essential information in the original data is retained while reducing the dimensionality.\n",
        "\n",
        "> 📊 *Plotting the cumulative explained variance curve can help visually identify the \"elbow point,\" where adding more components results in only marginal gains in explained variance.*\n",
        "\n"
      ]
    },
    {
      "cell_type": "code",
      "execution_count": 33,
      "metadata": {},
      "outputs": [
        {
          "data": {
            "image/png": "[encoded data removed]",
            "text/plain": [
              "<Figure size 800x600 with 1 Axes>"
            ]
          },
          "metadata": {},
          "output_type": "display_data"
        }
      ],
      "source": [
        "pca = PCA(n_components=200)\n",
        "pca.fit(X_train)\n",
        "\n",
        "plt.figure(figsize=(8,6))\n",
        "\n",
        "plt.plot(np.cumsum(pca.explained_variance_ratio_), color='b')\n",
        "plt.xlabel('Number of Components')\n",
        "plt.ylabel('Cumulative Explained Variance')\n",
        "\n",
        "plt.tight_layout()\n",
        "plt.show()"
      ]
    },
    {
      "cell_type": "markdown",
      "metadata": {},
      "source": [
        "#### 2. **Cross-Validation**:\n",
        "\n",
        "**Cross-validation** can be used to evaluate model performance across different numbers of principal components. By testing the model with various component counts and validating the results on different subsets of the data, it helps in identifying the number of components that generalize well.\n",
        "\n",
        "This approach reduces the risk of **overfitting** to specific characteristics of the training data and ensures that the dimensionality reduction does not negatively affect the model’s predictive performance.\n",
        "\n",
        "> ✅ *Cross-validation is particularly useful when PCA is used as a preprocessing step before applying supervised learning algorithms.*\n"
      ]
    },
    {
      "cell_type": "code",
      "execution_count": 42,
      "metadata": {},
      "outputs": [
        {
          "name": "stderr",
          "output_type": "stream",
          "text": [
            "C:\\Users\\PCROOM\\AppData\\Roaming\\Python\\Python311\\site-packages\\sklearn\\model_selection\\_split.py:737: UserWarning: The least populated class in y has only 2 members, which is less than n_splits=6.\n",
            "  warnings.warn(\n",
            "C:\\Users\\PCROOM\\AppData\\Roaming\\Python\\Python311\\site-packages\\sklearn\\model_selection\\_split.py:737: UserWarning: The least populated class in y has only 2 members, which is less than n_splits=6.\n",
            "  warnings.warn(\n",
            "C:\\Users\\PCROOM\\AppData\\Roaming\\Python\\Python311\\site-packages\\sklearn\\model_selection\\_split.py:737: UserWarning: The least populated class in y has only 2 members, which is less than n_splits=6.\n",
            "  warnings.warn(\n",
            "C:\\Users\\PCROOM\\AppData\\Roaming\\Python\\Python311\\site-packages\\sklearn\\model_selection\\_split.py:737: UserWarning: The least populated class in y has only 2 members, which is less than n_splits=6.\n",
            "  warnings.warn(\n",
            "C:\\Users\\PCROOM\\AppData\\Roaming\\Python\\Python311\\site-packages\\sklearn\\model_selection\\_split.py:737: UserWarning: The least populated class in y has only 2 members, which is less than n_splits=6.\n",
            "  warnings.warn(\n",
            "C:\\Users\\PCROOM\\AppData\\Roaming\\Python\\Python311\\site-packages\\sklearn\\model_selection\\_split.py:737: UserWarning: The least populated class in y has only 2 members, which is less than n_splits=6.\n",
            "  warnings.warn(\n",
            "C:\\Users\\PCROOM\\AppData\\Roaming\\Python\\Python311\\site-packages\\sklearn\\model_selection\\_split.py:737: UserWarning: The least populated class in y has only 2 members, which is less than n_splits=6.\n",
            "  warnings.warn(\n",
            "C:\\Users\\PCROOM\\AppData\\Roaming\\Python\\Python311\\site-packages\\sklearn\\model_selection\\_split.py:737: UserWarning: The least populated class in y has only 2 members, which is less than n_splits=6.\n",
            "  warnings.warn(\n",
            "C:\\Users\\PCROOM\\AppData\\Roaming\\Python\\Python311\\site-packages\\sklearn\\model_selection\\_split.py:737: UserWarning: The least populated class in y has only 2 members, which is less than n_splits=6.\n",
            "  warnings.warn(\n",
            "C:\\Users\\PCROOM\\AppData\\Roaming\\Python\\Python311\\site-packages\\sklearn\\model_selection\\_split.py:737: UserWarning: The least populated class in y has only 2 members, which is less than n_splits=6.\n",
            "  warnings.warn(\n",
            "C:\\Users\\PCROOM\\AppData\\Roaming\\Python\\Python311\\site-packages\\sklearn\\model_selection\\_split.py:737: UserWarning: The least populated class in y has only 2 members, which is less than n_splits=6.\n",
            "  warnings.warn(\n",
            "C:\\Users\\PCROOM\\AppData\\Roaming\\Python\\Python311\\site-packages\\sklearn\\model_selection\\_split.py:737: UserWarning: The least populated class in y has only 2 members, which is less than n_splits=6.\n",
            "  warnings.warn(\n",
            "C:\\Users\\PCROOM\\AppData\\Roaming\\Python\\Python311\\site-packages\\sklearn\\model_selection\\_split.py:737: UserWarning: The least populated class in y has only 2 members, which is less than n_splits=6.\n",
            "  warnings.warn(\n",
            "C:\\Users\\PCROOM\\AppData\\Roaming\\Python\\Python311\\site-packages\\sklearn\\model_selection\\_split.py:737: UserWarning: The least populated class in y has only 2 members, which is less than n_splits=6.\n",
            "  warnings.warn(\n",
            "C:\\Users\\PCROOM\\AppData\\Roaming\\Python\\Python311\\site-packages\\sklearn\\model_selection\\_split.py:737: UserWarning: The least populated class in y has only 2 members, which is less than n_splits=6.\n",
            "  warnings.warn(\n",
            "C:\\Users\\PCROOM\\AppData\\Roaming\\Python\\Python311\\site-packages\\sklearn\\model_selection\\_split.py:737: UserWarning: The least populated class in y has only 2 members, which is less than n_splits=6.\n",
            "  warnings.warn(\n",
            "C:\\Users\\PCROOM\\AppData\\Roaming\\Python\\Python311\\site-packages\\sklearn\\model_selection\\_split.py:737: UserWarning: The least populated class in y has only 2 members, which is less than n_splits=6.\n",
            "  warnings.warn(\n",
            "C:\\Users\\PCROOM\\AppData\\Roaming\\Python\\Python311\\site-packages\\sklearn\\model_selection\\_split.py:737: UserWarning: The least populated class in y has only 2 members, which is less than n_splits=6.\n",
            "  warnings.warn(\n",
            "C:\\Users\\PCROOM\\AppData\\Roaming\\Python\\Python311\\site-packages\\sklearn\\model_selection\\_split.py:737: UserWarning: The least populated class in y has only 2 members, which is less than n_splits=6.\n",
            "  warnings.warn(\n",
            "C:\\Users\\PCROOM\\AppData\\Roaming\\Python\\Python311\\site-packages\\sklearn\\model_selection\\_split.py:737: UserWarning: The least populated class in y has only 2 members, which is less than n_splits=6.\n",
            "  warnings.warn(\n",
            "C:\\Users\\PCROOM\\AppData\\Roaming\\Python\\Python311\\site-packages\\sklearn\\model_selection\\_split.py:737: UserWarning: The least populated class in y has only 2 members, which is less than n_splits=6.\n",
            "  warnings.warn(\n",
            "C:\\Users\\PCROOM\\AppData\\Roaming\\Python\\Python311\\site-packages\\sklearn\\model_selection\\_split.py:737: UserWarning: The least populated class in y has only 2 members, which is less than n_splits=6.\n",
            "  warnings.warn(\n",
            "C:\\Users\\PCROOM\\AppData\\Roaming\\Python\\Python311\\site-packages\\sklearn\\model_selection\\_split.py:737: UserWarning: The least populated class in y has only 2 members, which is less than n_splits=6.\n",
            "  warnings.warn(\n",
            "C:\\Users\\PCROOM\\AppData\\Roaming\\Python\\Python311\\site-packages\\sklearn\\model_selection\\_split.py:737: UserWarning: The least populated class in y has only 2 members, which is less than n_splits=6.\n",
            "  warnings.warn(\n",
            "C:\\Users\\PCROOM\\AppData\\Roaming\\Python\\Python311\\site-packages\\sklearn\\model_selection\\_split.py:737: UserWarning: The least populated class in y has only 2 members, which is less than n_splits=6.\n",
            "  warnings.warn(\n",
            "C:\\Users\\PCROOM\\AppData\\Roaming\\Python\\Python311\\site-packages\\sklearn\\model_selection\\_split.py:737: UserWarning: The least populated class in y has only 2 members, which is less than n_splits=6.\n",
            "  warnings.warn(\n",
            "C:\\Users\\PCROOM\\AppData\\Roaming\\Python\\Python311\\site-packages\\sklearn\\model_selection\\_split.py:737: UserWarning: The least populated class in y has only 2 members, which is less than n_splits=6.\n",
            "  warnings.warn(\n",
            "C:\\Users\\PCROOM\\AppData\\Roaming\\Python\\Python311\\site-packages\\sklearn\\model_selection\\_split.py:737: UserWarning: The least populated class in y has only 2 members, which is less than n_splits=6.\n",
            "  warnings.warn(\n",
            "C:\\Users\\PCROOM\\AppData\\Roaming\\Python\\Python311\\site-packages\\sklearn\\model_selection\\_split.py:737: UserWarning: The least populated class in y has only 2 members, which is less than n_splits=6.\n",
            "  warnings.warn(\n",
            "C:\\Users\\PCROOM\\AppData\\Roaming\\Python\\Python311\\site-packages\\sklearn\\model_selection\\_split.py:737: UserWarning: The least populated class in y has only 2 members, which is less than n_splits=6.\n",
            "  warnings.warn(\n",
            "C:\\Users\\PCROOM\\AppData\\Roaming\\Python\\Python311\\site-packages\\sklearn\\model_selection\\_split.py:737: UserWarning: The least populated class in y has only 2 members, which is less than n_splits=6.\n",
            "  warnings.warn(\n",
            "C:\\Users\\PCROOM\\AppData\\Roaming\\Python\\Python311\\site-packages\\sklearn\\model_selection\\_split.py:737: UserWarning: The least populated class in y has only 2 members, which is less than n_splits=6.\n",
            "  warnings.warn(\n",
            "C:\\Users\\PCROOM\\AppData\\Roaming\\Python\\Python311\\site-packages\\sklearn\\model_selection\\_split.py:737: UserWarning: The least populated class in y has only 2 members, which is less than n_splits=6.\n",
            "  warnings.warn(\n",
            "C:\\Users\\PCROOM\\AppData\\Roaming\\Python\\Python311\\site-packages\\sklearn\\model_selection\\_split.py:737: UserWarning: The least populated class in y has only 2 members, which is less than n_splits=6.\n",
            "  warnings.warn(\n",
            "C:\\Users\\PCROOM\\AppData\\Roaming\\Python\\Python311\\site-packages\\sklearn\\model_selection\\_split.py:737: UserWarning: The least populated class in y has only 2 members, which is less than n_splits=6.\n",
            "  warnings.warn(\n",
            "C:\\Users\\PCROOM\\AppData\\Roaming\\Python\\Python311\\site-packages\\sklearn\\model_selection\\_split.py:737: UserWarning: The least populated class in y has only 2 members, which is less than n_splits=6.\n",
            "  warnings.warn(\n",
            "C:\\Users\\PCROOM\\AppData\\Roaming\\Python\\Python311\\site-packages\\sklearn\\model_selection\\_split.py:737: UserWarning: The least populated class in y has only 2 members, which is less than n_splits=6.\n",
            "  warnings.warn(\n",
            "C:\\Users\\PCROOM\\AppData\\Roaming\\Python\\Python311\\site-packages\\sklearn\\model_selection\\_split.py:737: UserWarning: The least populated class in y has only 2 members, which is less than n_splits=6.\n",
            "  warnings.warn(\n",
            "C:\\Users\\PCROOM\\AppData\\Roaming\\Python\\Python311\\site-packages\\sklearn\\model_selection\\_split.py:737: UserWarning: The least populated class in y has only 2 members, which is less than n_splits=6.\n",
            "  warnings.warn(\n",
            "C:\\Users\\PCROOM\\AppData\\Roaming\\Python\\Python311\\site-packages\\sklearn\\model_selection\\_split.py:737: UserWarning: The least populated class in y has only 2 members, which is less than n_splits=6.\n",
            "  warnings.warn(\n",
            "C:\\Users\\PCROOM\\AppData\\Roaming\\Python\\Python311\\site-packages\\sklearn\\model_selection\\_split.py:737: UserWarning: The least populated class in y has only 2 members, which is less than n_splits=6.\n",
            "  warnings.warn(\n",
            "C:\\Users\\PCROOM\\AppData\\Roaming\\Python\\Python311\\site-packages\\sklearn\\model_selection\\_split.py:737: UserWarning: The least populated class in y has only 2 members, which is less than n_splits=6.\n",
            "  warnings.warn(\n",
            "C:\\Users\\PCROOM\\AppData\\Roaming\\Python\\Python311\\site-packages\\sklearn\\model_selection\\_split.py:737: UserWarning: The least populated class in y has only 2 members, which is less than n_splits=6.\n",
            "  warnings.warn(\n",
            "C:\\Users\\PCROOM\\AppData\\Roaming\\Python\\Python311\\site-packages\\sklearn\\model_selection\\_split.py:737: UserWarning: The least populated class in y has only 2 members, which is less than n_splits=6.\n",
            "  warnings.warn(\n",
            "C:\\Users\\PCROOM\\AppData\\Roaming\\Python\\Python311\\site-packages\\sklearn\\model_selection\\_split.py:737: UserWarning: The least populated class in y has only 2 members, which is less than n_splits=6.\n",
            "  warnings.warn(\n",
            "C:\\Users\\PCROOM\\AppData\\Roaming\\Python\\Python311\\site-packages\\sklearn\\model_selection\\_split.py:737: UserWarning: The least populated class in y has only 2 members, which is less than n_splits=6.\n",
            "  warnings.warn(\n",
            "C:\\Users\\PCROOM\\AppData\\Roaming\\Python\\Python311\\site-packages\\sklearn\\model_selection\\_split.py:737: UserWarning: The least populated class in y has only 2 members, which is less than n_splits=6.\n",
            "  warnings.warn(\n",
            "C:\\Users\\PCROOM\\AppData\\Roaming\\Python\\Python311\\site-packages\\sklearn\\model_selection\\_split.py:737: UserWarning: The least populated class in y has only 2 members, which is less than n_splits=6.\n",
            "  warnings.warn(\n",
            "C:\\Users\\PCROOM\\AppData\\Roaming\\Python\\Python311\\site-packages\\sklearn\\model_selection\\_split.py:737: UserWarning: The least populated class in y has only 2 members, which is less than n_splits=6.\n",
            "  warnings.warn(\n",
            "C:\\Users\\PCROOM\\AppData\\Roaming\\Python\\Python311\\site-packages\\sklearn\\model_selection\\_split.py:737: UserWarning: The least populated class in y has only 2 members, which is less than n_splits=6.\n",
            "  warnings.warn(\n",
            "C:\\Users\\PCROOM\\AppData\\Roaming\\Python\\Python311\\site-packages\\sklearn\\model_selection\\_split.py:737: UserWarning: The least populated class in y has only 2 members, which is less than n_splits=6.\n",
            "  warnings.warn(\n",
            "C:\\Users\\PCROOM\\AppData\\Roaming\\Python\\Python311\\site-packages\\sklearn\\model_selection\\_split.py:737: UserWarning: The least populated class in y has only 2 members, which is less than n_splits=6.\n",
            "  warnings.warn(\n",
            "C:\\Users\\PCROOM\\AppData\\Roaming\\Python\\Python311\\site-packages\\sklearn\\model_selection\\_split.py:737: UserWarning: The least populated class in y has only 2 members, which is less than n_splits=6.\n",
            "  warnings.warn(\n",
            "C:\\Users\\PCROOM\\AppData\\Roaming\\Python\\Python311\\site-packages\\sklearn\\model_selection\\_split.py:737: UserWarning: The least populated class in y has only 2 members, which is less than n_splits=6.\n",
            "  warnings.warn(\n",
            "C:\\Users\\PCROOM\\AppData\\Roaming\\Python\\Python311\\site-packages\\sklearn\\model_selection\\_split.py:737: UserWarning: The least populated class in y has only 2 members, which is less than n_splits=6.\n",
            "  warnings.warn(\n",
            "C:\\Users\\PCROOM\\AppData\\Roaming\\Python\\Python311\\site-packages\\sklearn\\model_selection\\_split.py:737: UserWarning: The least populated class in y has only 2 members, which is less than n_splits=6.\n",
            "  warnings.warn(\n",
            "C:\\Users\\PCROOM\\AppData\\Roaming\\Python\\Python311\\site-packages\\sklearn\\model_selection\\_split.py:737: UserWarning: The least populated class in y has only 2 members, which is less than n_splits=6.\n",
            "  warnings.warn(\n",
            "C:\\Users\\PCROOM\\AppData\\Roaming\\Python\\Python311\\site-packages\\sklearn\\model_selection\\_split.py:737: UserWarning: The least populated class in y has only 2 members, which is less than n_splits=6.\n",
            "  warnings.warn(\n",
            "C:\\Users\\PCROOM\\AppData\\Roaming\\Python\\Python311\\site-packages\\sklearn\\model_selection\\_split.py:737: UserWarning: The least populated class in y has only 2 members, which is less than n_splits=6.\n",
            "  warnings.warn(\n",
            "C:\\Users\\PCROOM\\AppData\\Roaming\\Python\\Python311\\site-packages\\sklearn\\model_selection\\_split.py:737: UserWarning: The least populated class in y has only 2 members, which is less than n_splits=6.\n",
            "  warnings.warn(\n",
            "C:\\Users\\PCROOM\\AppData\\Roaming\\Python\\Python311\\site-packages\\sklearn\\model_selection\\_split.py:737: UserWarning: The least populated class in y has only 2 members, which is less than n_splits=6.\n",
            "  warnings.warn(\n",
            "C:\\Users\\PCROOM\\AppData\\Roaming\\Python\\Python311\\site-packages\\sklearn\\model_selection\\_split.py:737: UserWarning: The least populated class in y has only 2 members, which is less than n_splits=6.\n",
            "  warnings.warn(\n",
            "C:\\Users\\PCROOM\\AppData\\Roaming\\Python\\Python311\\site-packages\\sklearn\\model_selection\\_split.py:737: UserWarning: The least populated class in y has only 2 members, which is less than n_splits=6.\n",
            "  warnings.warn(\n",
            "C:\\Users\\PCROOM\\AppData\\Roaming\\Python\\Python311\\site-packages\\sklearn\\model_selection\\_split.py:737: UserWarning: The least populated class in y has only 2 members, which is less than n_splits=6.\n",
            "  warnings.warn(\n",
            "C:\\Users\\PCROOM\\AppData\\Roaming\\Python\\Python311\\site-packages\\sklearn\\model_selection\\_split.py:737: UserWarning: The least populated class in y has only 2 members, which is less than n_splits=6.\n",
            "  warnings.warn(\n",
            "C:\\Users\\PCROOM\\AppData\\Roaming\\Python\\Python311\\site-packages\\sklearn\\model_selection\\_split.py:737: UserWarning: The least populated class in y has only 2 members, which is less than n_splits=6.\n",
            "  warnings.warn(\n",
            "C:\\Users\\PCROOM\\AppData\\Roaming\\Python\\Python311\\site-packages\\sklearn\\model_selection\\_split.py:737: UserWarning: The least populated class in y has only 2 members, which is less than n_splits=6.\n",
            "  warnings.warn(\n",
            "C:\\Users\\PCROOM\\AppData\\Roaming\\Python\\Python311\\site-packages\\sklearn\\model_selection\\_split.py:737: UserWarning: The least populated class in y has only 2 members, which is less than n_splits=6.\n",
            "  warnings.warn(\n",
            "C:\\Users\\PCROOM\\AppData\\Roaming\\Python\\Python311\\site-packages\\sklearn\\model_selection\\_split.py:737: UserWarning: The least populated class in y has only 2 members, which is less than n_splits=6.\n",
            "  warnings.warn(\n",
            "C:\\Users\\PCROOM\\AppData\\Roaming\\Python\\Python311\\site-packages\\sklearn\\model_selection\\_split.py:737: UserWarning: The least populated class in y has only 2 members, which is less than n_splits=6.\n",
            "  warnings.warn(\n",
            "C:\\Users\\PCROOM\\AppData\\Roaming\\Python\\Python311\\site-packages\\sklearn\\model_selection\\_split.py:737: UserWarning: The least populated class in y has only 2 members, which is less than n_splits=6.\n",
            "  warnings.warn(\n",
            "C:\\Users\\PCROOM\\AppData\\Roaming\\Python\\Python311\\site-packages\\sklearn\\model_selection\\_split.py:737: UserWarning: The least populated class in y has only 2 members, which is less than n_splits=6.\n",
            "  warnings.warn(\n",
            "C:\\Users\\PCROOM\\AppData\\Roaming\\Python\\Python311\\site-packages\\sklearn\\model_selection\\_split.py:737: UserWarning: The least populated class in y has only 2 members, which is less than n_splits=6.\n",
            "  warnings.warn(\n",
            "C:\\Users\\PCROOM\\AppData\\Roaming\\Python\\Python311\\site-packages\\sklearn\\model_selection\\_split.py:737: UserWarning: The least populated class in y has only 2 members, which is less than n_splits=6.\n",
            "  warnings.warn(\n",
            "C:\\Users\\PCROOM\\AppData\\Roaming\\Python\\Python311\\site-packages\\sklearn\\model_selection\\_split.py:737: UserWarning: The least populated class in y has only 2 members, which is less than n_splits=6.\n",
            "  warnings.warn(\n",
            "C:\\Users\\PCROOM\\AppData\\Roaming\\Python\\Python311\\site-packages\\sklearn\\model_selection\\_split.py:737: UserWarning: The least populated class in y has only 2 members, which is less than n_splits=6.\n",
            "  warnings.warn(\n",
            "C:\\Users\\PCROOM\\AppData\\Roaming\\Python\\Python311\\site-packages\\sklearn\\model_selection\\_split.py:737: UserWarning: The least populated class in y has only 2 members, which is less than n_splits=6.\n",
            "  warnings.warn(\n",
            "C:\\Users\\PCROOM\\AppData\\Roaming\\Python\\Python311\\site-packages\\sklearn\\model_selection\\_split.py:737: UserWarning: The least populated class in y has only 2 members, which is less than n_splits=6.\n",
            "  warnings.warn(\n",
            "C:\\Users\\PCROOM\\AppData\\Roaming\\Python\\Python311\\site-packages\\sklearn\\model_selection\\_split.py:737: UserWarning: The least populated class in y has only 2 members, which is less than n_splits=6.\n",
            "  warnings.warn(\n",
            "C:\\Users\\PCROOM\\AppData\\Roaming\\Python\\Python311\\site-packages\\sklearn\\model_selection\\_split.py:737: UserWarning: The least populated class in y has only 2 members, which is less than n_splits=6.\n",
            "  warnings.warn(\n",
            "C:\\Users\\PCROOM\\AppData\\Roaming\\Python\\Python311\\site-packages\\sklearn\\model_selection\\_split.py:737: UserWarning: The least populated class in y has only 2 members, which is less than n_splits=6.\n",
            "  warnings.warn(\n",
            "C:\\Users\\PCROOM\\AppData\\Roaming\\Python\\Python311\\site-packages\\sklearn\\model_selection\\_split.py:737: UserWarning: The least populated class in y has only 2 members, which is less than n_splits=6.\n",
            "  warnings.warn(\n",
            "C:\\Users\\PCROOM\\AppData\\Roaming\\Python\\Python311\\site-packages\\sklearn\\model_selection\\_split.py:737: UserWarning: The least populated class in y has only 2 members, which is less than n_splits=6.\n",
            "  warnings.warn(\n",
            "C:\\Users\\PCROOM\\AppData\\Roaming\\Python\\Python311\\site-packages\\sklearn\\model_selection\\_split.py:737: UserWarning: The least populated class in y has only 2 members, which is less than n_splits=6.\n",
            "  warnings.warn(\n",
            "C:\\Users\\PCROOM\\AppData\\Roaming\\Python\\Python311\\site-packages\\sklearn\\model_selection\\_split.py:737: UserWarning: The least populated class in y has only 2 members, which is less than n_splits=6.\n",
            "  warnings.warn(\n",
            "C:\\Users\\PCROOM\\AppData\\Roaming\\Python\\Python311\\site-packages\\sklearn\\model_selection\\_split.py:737: UserWarning: The least populated class in y has only 2 members, which is less than n_splits=6.\n",
            "  warnings.warn(\n",
            "C:\\Users\\PCROOM\\AppData\\Roaming\\Python\\Python311\\site-packages\\sklearn\\model_selection\\_split.py:737: UserWarning: The least populated class in y has only 2 members, which is less than n_splits=6.\n",
            "  warnings.warn(\n",
            "C:\\Users\\PCROOM\\AppData\\Roaming\\Python\\Python311\\site-packages\\sklearn\\model_selection\\_split.py:737: UserWarning: The least populated class in y has only 2 members, which is less than n_splits=6.\n",
            "  warnings.warn(\n",
            "C:\\Users\\PCROOM\\AppData\\Roaming\\Python\\Python311\\site-packages\\sklearn\\model_selection\\_split.py:737: UserWarning: The least populated class in y has only 2 members, which is less than n_splits=6.\n",
            "  warnings.warn(\n",
            "C:\\Users\\PCROOM\\AppData\\Roaming\\Python\\Python311\\site-packages\\sklearn\\model_selection\\_split.py:737: UserWarning: The least populated class in y has only 2 members, which is less than n_splits=6.\n",
            "  warnings.warn(\n",
            "C:\\Users\\PCROOM\\AppData\\Roaming\\Python\\Python311\\site-packages\\sklearn\\model_selection\\_split.py:737: UserWarning: The least populated class in y has only 2 members, which is less than n_splits=6.\n",
            "  warnings.warn(\n",
            "C:\\Users\\PCROOM\\AppData\\Roaming\\Python\\Python311\\site-packages\\sklearn\\model_selection\\_split.py:737: UserWarning: The least populated class in y has only 2 members, which is less than n_splits=6.\n",
            "  warnings.warn(\n",
            "C:\\Users\\PCROOM\\AppData\\Roaming\\Python\\Python311\\site-packages\\sklearn\\model_selection\\_split.py:737: UserWarning: The least populated class in y has only 2 members, which is less than n_splits=6.\n",
            "  warnings.warn(\n",
            "C:\\Users\\PCROOM\\AppData\\Roaming\\Python\\Python311\\site-packages\\sklearn\\model_selection\\_split.py:737: UserWarning: The least populated class in y has only 2 members, which is less than n_splits=6.\n",
            "  warnings.warn(\n",
            "C:\\Users\\PCROOM\\AppData\\Roaming\\Python\\Python311\\site-packages\\sklearn\\model_selection\\_split.py:737: UserWarning: The least populated class in y has only 2 members, which is less than n_splits=6.\n",
            "  warnings.warn(\n",
            "C:\\Users\\PCROOM\\AppData\\Roaming\\Python\\Python311\\site-packages\\sklearn\\model_selection\\_split.py:737: UserWarning: The least populated class in y has only 2 members, which is less than n_splits=6.\n",
            "  warnings.warn(\n",
            "C:\\Users\\PCROOM\\AppData\\Roaming\\Python\\Python311\\site-packages\\sklearn\\model_selection\\_split.py:737: UserWarning: The least populated class in y has only 2 members, which is less than n_splits=6.\n",
            "  warnings.warn(\n",
            "C:\\Users\\PCROOM\\AppData\\Roaming\\Python\\Python311\\site-packages\\sklearn\\model_selection\\_split.py:737: UserWarning: The least populated class in y has only 2 members, which is less than n_splits=6.\n",
            "  warnings.warn(\n",
            "C:\\Users\\PCROOM\\AppData\\Roaming\\Python\\Python311\\site-packages\\sklearn\\model_selection\\_split.py:737: UserWarning: The least populated class in y has only 2 members, which is less than n_splits=6.\n",
            "  warnings.warn(\n",
            "C:\\Users\\PCROOM\\AppData\\Roaming\\Python\\Python311\\site-packages\\sklearn\\model_selection\\_split.py:737: UserWarning: The least populated class in y has only 2 members, which is less than n_splits=6.\n",
            "  warnings.warn(\n",
            "C:\\Users\\PCROOM\\AppData\\Roaming\\Python\\Python311\\site-packages\\sklearn\\model_selection\\_split.py:737: UserWarning: The least populated class in y has only 2 members, which is less than n_splits=6.\n",
            "  warnings.warn(\n",
            "C:\\Users\\PCROOM\\AppData\\Roaming\\Python\\Python311\\site-packages\\sklearn\\model_selection\\_split.py:737: UserWarning: The least populated class in y has only 2 members, which is less than n_splits=6.\n",
            "  warnings.warn(\n",
            "C:\\Users\\PCROOM\\AppData\\Roaming\\Python\\Python311\\site-packages\\sklearn\\model_selection\\_split.py:737: UserWarning: The least populated class in y has only 2 members, which is less than n_splits=6.\n",
            "  warnings.warn(\n",
            "C:\\Users\\PCROOM\\AppData\\Roaming\\Python\\Python311\\site-packages\\sklearn\\model_selection\\_split.py:737: UserWarning: The least populated class in y has only 2 members, which is less than n_splits=6.\n",
            "  warnings.warn(\n",
            "C:\\Users\\PCROOM\\AppData\\Roaming\\Python\\Python311\\site-packages\\sklearn\\model_selection\\_split.py:737: UserWarning: The least populated class in y has only 2 members, which is less than n_splits=6.\n",
            "  warnings.warn(\n",
            "C:\\Users\\PCROOM\\AppData\\Roaming\\Python\\Python311\\site-packages\\sklearn\\model_selection\\_split.py:737: UserWarning: The least populated class in y has only 2 members, which is less than n_splits=6.\n",
            "  warnings.warn(\n",
            "C:\\Users\\PCROOM\\AppData\\Roaming\\Python\\Python311\\site-packages\\sklearn\\model_selection\\_split.py:737: UserWarning: The least populated class in y has only 2 members, which is less than n_splits=6.\n",
            "  warnings.warn(\n",
            "C:\\Users\\PCROOM\\AppData\\Roaming\\Python\\Python311\\site-packages\\sklearn\\model_selection\\_split.py:737: UserWarning: The least populated class in y has only 2 members, which is less than n_splits=6.\n",
            "  warnings.warn(\n",
            "C:\\Users\\PCROOM\\AppData\\Roaming\\Python\\Python311\\site-packages\\sklearn\\model_selection\\_split.py:737: UserWarning: The least populated class in y has only 2 members, which is less than n_splits=6.\n",
            "  warnings.warn(\n",
            "C:\\Users\\PCROOM\\AppData\\Roaming\\Python\\Python311\\site-packages\\sklearn\\model_selection\\_split.py:737: UserWarning: The least populated class in y has only 2 members, which is less than n_splits=6.\n",
            "  warnings.warn(\n",
            "C:\\Users\\PCROOM\\AppData\\Roaming\\Python\\Python311\\site-packages\\sklearn\\model_selection\\_split.py:737: UserWarning: The least populated class in y has only 2 members, which is less than n_splits=6.\n",
            "  warnings.warn(\n",
            "C:\\Users\\PCROOM\\AppData\\Roaming\\Python\\Python311\\site-packages\\sklearn\\model_selection\\_split.py:737: UserWarning: The least populated class in y has only 2 members, which is less than n_splits=6.\n",
            "  warnings.warn(\n",
            "C:\\Users\\PCROOM\\AppData\\Roaming\\Python\\Python311\\site-packages\\sklearn\\model_selection\\_split.py:737: UserWarning: The least populated class in y has only 2 members, which is less than n_splits=6.\n",
            "  warnings.warn(\n",
            "C:\\Users\\PCROOM\\AppData\\Roaming\\Python\\Python311\\site-packages\\sklearn\\model_selection\\_split.py:737: UserWarning: The least populated class in y has only 2 members, which is less than n_splits=6.\n",
            "  warnings.warn(\n",
            "C:\\Users\\PCROOM\\AppData\\Roaming\\Python\\Python311\\site-packages\\sklearn\\model_selection\\_split.py:737: UserWarning: The least populated class in y has only 2 members, which is less than n_splits=6.\n",
            "  warnings.warn(\n",
            "C:\\Users\\PCROOM\\AppData\\Roaming\\Python\\Python311\\site-packages\\sklearn\\model_selection\\_split.py:737: UserWarning: The least populated class in y has only 2 members, which is less than n_splits=6.\n",
            "  warnings.warn(\n",
            "C:\\Users\\PCROOM\\AppData\\Roaming\\Python\\Python311\\site-packages\\sklearn\\model_selection\\_split.py:737: UserWarning: The least populated class in y has only 2 members, which is less than n_splits=6.\n",
            "  warnings.warn(\n",
            "C:\\Users\\PCROOM\\AppData\\Roaming\\Python\\Python311\\site-packages\\sklearn\\model_selection\\_split.py:737: UserWarning: The least populated class in y has only 2 members, which is less than n_splits=6.\n",
            "  warnings.warn(\n",
            "C:\\Users\\PCROOM\\AppData\\Roaming\\Python\\Python311\\site-packages\\sklearn\\model_selection\\_split.py:737: UserWarning: The least populated class in y has only 2 members, which is less than n_splits=6.\n",
            "  warnings.warn(\n",
            "C:\\Users\\PCROOM\\AppData\\Roaming\\Python\\Python311\\site-packages\\sklearn\\model_selection\\_split.py:737: UserWarning: The least populated class in y has only 2 members, which is less than n_splits=6.\n",
            "  warnings.warn(\n",
            "C:\\Users\\PCROOM\\AppData\\Roaming\\Python\\Python311\\site-packages\\sklearn\\model_selection\\_split.py:737: UserWarning: The least populated class in y has only 2 members, which is less than n_splits=6.\n",
            "  warnings.warn(\n",
            "C:\\Users\\PCROOM\\AppData\\Roaming\\Python\\Python311\\site-packages\\sklearn\\model_selection\\_split.py:737: UserWarning: The least populated class in y has only 2 members, which is less than n_splits=6.\n",
            "  warnings.warn(\n",
            "C:\\Users\\PCROOM\\AppData\\Roaming\\Python\\Python311\\site-packages\\sklearn\\model_selection\\_split.py:737: UserWarning: The least populated class in y has only 2 members, which is less than n_splits=6.\n",
            "  warnings.warn(\n",
            "C:\\Users\\PCROOM\\AppData\\Roaming\\Python\\Python311\\site-packages\\sklearn\\model_selection\\_split.py:737: UserWarning: The least populated class in y has only 2 members, which is less than n_splits=6.\n",
            "  warnings.warn(\n",
            "C:\\Users\\PCROOM\\AppData\\Roaming\\Python\\Python311\\site-packages\\sklearn\\model_selection\\_split.py:737: UserWarning: The least populated class in y has only 2 members, which is less than n_splits=6.\n",
            "  warnings.warn(\n",
            "C:\\Users\\PCROOM\\AppData\\Roaming\\Python\\Python311\\site-packages\\sklearn\\model_selection\\_split.py:737: UserWarning: The least populated class in y has only 2 members, which is less than n_splits=6.\n",
            "  warnings.warn(\n",
            "C:\\Users\\PCROOM\\AppData\\Roaming\\Python\\Python311\\site-packages\\sklearn\\model_selection\\_split.py:737: UserWarning: The least populated class in y has only 2 members, which is less than n_splits=6.\n",
            "  warnings.warn(\n",
            "C:\\Users\\PCROOM\\AppData\\Roaming\\Python\\Python311\\site-packages\\sklearn\\model_selection\\_split.py:737: UserWarning: The least populated class in y has only 2 members, which is less than n_splits=6.\n",
            "  warnings.warn(\n",
            "C:\\Users\\PCROOM\\AppData\\Roaming\\Python\\Python311\\site-packages\\sklearn\\model_selection\\_split.py:737: UserWarning: The least populated class in y has only 2 members, which is less than n_splits=6.\n",
            "  warnings.warn(\n",
            "C:\\Users\\PCROOM\\AppData\\Roaming\\Python\\Python311\\site-packages\\sklearn\\model_selection\\_split.py:737: UserWarning: The least populated class in y has only 2 members, which is less than n_splits=6.\n",
            "  warnings.warn(\n",
            "C:\\Users\\PCROOM\\AppData\\Roaming\\Python\\Python311\\site-packages\\sklearn\\model_selection\\_split.py:737: UserWarning: The least populated class in y has only 2 members, which is less than n_splits=6.\n",
            "  warnings.warn(\n",
            "C:\\Users\\PCROOM\\AppData\\Roaming\\Python\\Python311\\site-packages\\sklearn\\model_selection\\_split.py:737: UserWarning: The least populated class in y has only 2 members, which is less than n_splits=6.\n",
            "  warnings.warn(\n",
            "C:\\Users\\PCROOM\\AppData\\Roaming\\Python\\Python311\\site-packages\\sklearn\\model_selection\\_split.py:737: UserWarning: The least populated class in y has only 2 members, which is less than n_splits=6.\n",
            "  warnings.warn(\n",
            "C:\\Users\\PCROOM\\AppData\\Roaming\\Python\\Python311\\site-packages\\sklearn\\model_selection\\_split.py:737: UserWarning: The least populated class in y has only 2 members, which is less than n_splits=6.\n",
            "  warnings.warn(\n",
            "C:\\Users\\PCROOM\\AppData\\Roaming\\Python\\Python311\\site-packages\\sklearn\\model_selection\\_split.py:737: UserWarning: The least populated class in y has only 2 members, which is less than n_splits=6.\n",
            "  warnings.warn(\n",
            "C:\\Users\\PCROOM\\AppData\\Roaming\\Python\\Python311\\site-packages\\sklearn\\model_selection\\_split.py:737: UserWarning: The least populated class in y has only 2 members, which is less than n_splits=6.\n",
            "  warnings.warn(\n",
            "C:\\Users\\PCROOM\\AppData\\Roaming\\Python\\Python311\\site-packages\\sklearn\\model_selection\\_split.py:737: UserWarning: The least populated class in y has only 2 members, which is less than n_splits=6.\n",
            "  warnings.warn(\n",
            "C:\\Users\\PCROOM\\AppData\\Roaming\\Python\\Python311\\site-packages\\sklearn\\model_selection\\_split.py:737: UserWarning: The least populated class in y has only 2 members, which is less than n_splits=6.\n",
            "  warnings.warn(\n",
            "C:\\Users\\PCROOM\\AppData\\Roaming\\Python\\Python311\\site-packages\\sklearn\\model_selection\\_split.py:737: UserWarning: The least populated class in y has only 2 members, which is less than n_splits=6.\n",
            "  warnings.warn(\n",
            "C:\\Users\\PCROOM\\AppData\\Roaming\\Python\\Python311\\site-packages\\sklearn\\model_selection\\_split.py:737: UserWarning: The least populated class in y has only 2 members, which is less than n_splits=6.\n",
            "  warnings.warn(\n",
            "C:\\Users\\PCROOM\\AppData\\Roaming\\Python\\Python311\\site-packages\\sklearn\\model_selection\\_split.py:737: UserWarning: The least populated class in y has only 2 members, which is less than n_splits=6.\n",
            "  warnings.warn(\n",
            "C:\\Users\\PCROOM\\AppData\\Roaming\\Python\\Python311\\site-packages\\sklearn\\model_selection\\_split.py:737: UserWarning: The least populated class in y has only 2 members, which is less than n_splits=6.\n",
            "  warnings.warn(\n",
            "C:\\Users\\PCROOM\\AppData\\Roaming\\Python\\Python311\\site-packages\\sklearn\\model_selection\\_split.py:737: UserWarning: The least populated class in y has only 2 members, which is less than n_splits=6.\n",
            "  warnings.warn(\n",
            "C:\\Users\\PCROOM\\AppData\\Roaming\\Python\\Python311\\site-packages\\sklearn\\model_selection\\_split.py:737: UserWarning: The least populated class in y has only 2 members, which is less than n_splits=6.\n",
            "  warnings.warn(\n",
            "C:\\Users\\PCROOM\\AppData\\Roaming\\Python\\Python311\\site-packages\\sklearn\\model_selection\\_split.py:737: UserWarning: The least populated class in y has only 2 members, which is less than n_splits=6.\n",
            "  warnings.warn(\n",
            "C:\\Users\\PCROOM\\AppData\\Roaming\\Python\\Python311\\site-packages\\sklearn\\model_selection\\_split.py:737: UserWarning: The least populated class in y has only 2 members, which is less than n_splits=6.\n",
            "  warnings.warn(\n",
            "C:\\Users\\PCROOM\\AppData\\Roaming\\Python\\Python311\\site-packages\\sklearn\\model_selection\\_split.py:737: UserWarning: The least populated class in y has only 2 members, which is less than n_splits=6.\n",
            "  warnings.warn(\n",
            "C:\\Users\\PCROOM\\AppData\\Roaming\\Python\\Python311\\site-packages\\sklearn\\model_selection\\_split.py:737: UserWarning: The least populated class in y has only 2 members, which is less than n_splits=6.\n",
            "  warnings.warn(\n",
            "C:\\Users\\PCROOM\\AppData\\Roaming\\Python\\Python311\\site-packages\\sklearn\\model_selection\\_split.py:737: UserWarning: The least populated class in y has only 2 members, which is less than n_splits=6.\n",
            "  warnings.warn(\n",
            "C:\\Users\\PCROOM\\AppData\\Roaming\\Python\\Python311\\site-packages\\sklearn\\model_selection\\_split.py:737: UserWarning: The least populated class in y has only 2 members, which is less than n_splits=6.\n",
            "  warnings.warn(\n",
            "C:\\Users\\PCROOM\\AppData\\Roaming\\Python\\Python311\\site-packages\\sklearn\\model_selection\\_split.py:737: UserWarning: The least populated class in y has only 2 members, which is less than n_splits=6.\n",
            "  warnings.warn(\n",
            "C:\\Users\\PCROOM\\AppData\\Roaming\\Python\\Python311\\site-packages\\sklearn\\model_selection\\_split.py:737: UserWarning: The least populated class in y has only 2 members, which is less than n_splits=6.\n",
            "  warnings.warn(\n",
            "C:\\Users\\PCROOM\\AppData\\Roaming\\Python\\Python311\\site-packages\\sklearn\\model_selection\\_split.py:737: UserWarning: The least populated class in y has only 2 members, which is less than n_splits=6.\n",
            "  warnings.warn(\n",
            "C:\\Users\\PCROOM\\AppData\\Roaming\\Python\\Python311\\site-packages\\sklearn\\model_selection\\_split.py:737: UserWarning: The least populated class in y has only 2 members, which is less than n_splits=6.\n",
            "  warnings.warn(\n",
            "C:\\Users\\PCROOM\\AppData\\Roaming\\Python\\Python311\\site-packages\\sklearn\\model_selection\\_split.py:737: UserWarning: The least populated class in y has only 2 members, which is less than n_splits=6.\n",
            "  warnings.warn(\n",
            "C:\\Users\\PCROOM\\AppData\\Roaming\\Python\\Python311\\site-packages\\sklearn\\model_selection\\_split.py:737: UserWarning: The least populated class in y has only 2 members, which is less than n_splits=6.\n",
            "  warnings.warn(\n",
            "C:\\Users\\PCROOM\\AppData\\Roaming\\Python\\Python311\\site-packages\\sklearn\\model_selection\\_split.py:737: UserWarning: The least populated class in y has only 2 members, which is less than n_splits=6.\n",
            "  warnings.warn(\n",
            "C:\\Users\\PCROOM\\AppData\\Roaming\\Python\\Python311\\site-packages\\sklearn\\model_selection\\_split.py:737: UserWarning: The least populated class in y has only 2 members, which is less than n_splits=6.\n",
            "  warnings.warn(\n",
            "C:\\Users\\PCROOM\\AppData\\Roaming\\Python\\Python311\\site-packages\\sklearn\\model_selection\\_split.py:737: UserWarning: The least populated class in y has only 2 members, which is less than n_splits=6.\n",
            "  warnings.warn(\n",
            "C:\\Users\\PCROOM\\AppData\\Roaming\\Python\\Python311\\site-packages\\sklearn\\model_selection\\_split.py:737: UserWarning: The least populated class in y has only 2 members, which is less than n_splits=6.\n",
            "  warnings.warn(\n",
            "C:\\Users\\PCROOM\\AppData\\Roaming\\Python\\Python311\\site-packages\\sklearn\\model_selection\\_split.py:737: UserWarning: The least populated class in y has only 2 members, which is less than n_splits=6.\n",
            "  warnings.warn(\n",
            "C:\\Users\\PCROOM\\AppData\\Roaming\\Python\\Python311\\site-packages\\sklearn\\model_selection\\_split.py:737: UserWarning: The least populated class in y has only 2 members, which is less than n_splits=6.\n",
            "  warnings.warn(\n",
            "C:\\Users\\PCROOM\\AppData\\Roaming\\Python\\Python311\\site-packages\\sklearn\\model_selection\\_split.py:737: UserWarning: The least populated class in y has only 2 members, which is less than n_splits=6.\n",
            "  warnings.warn(\n",
            "C:\\Users\\PCROOM\\AppData\\Roaming\\Python\\Python311\\site-packages\\sklearn\\model_selection\\_split.py:737: UserWarning: The least populated class in y has only 2 members, which is less than n_splits=6.\n",
            "  warnings.warn(\n",
            "C:\\Users\\PCROOM\\AppData\\Roaming\\Python\\Python311\\site-packages\\sklearn\\model_selection\\_split.py:737: UserWarning: The least populated class in y has only 2 members, which is less than n_splits=6.\n",
            "  warnings.warn(\n",
            "C:\\Users\\PCROOM\\AppData\\Roaming\\Python\\Python311\\site-packages\\sklearn\\model_selection\\_split.py:737: UserWarning: The least populated class in y has only 2 members, which is less than n_splits=6.\n",
            "  warnings.warn(\n",
            "C:\\Users\\PCROOM\\AppData\\Roaming\\Python\\Python311\\site-packages\\sklearn\\model_selection\\_split.py:737: UserWarning: The least populated class in y has only 2 members, which is less than n_splits=6.\n",
            "  warnings.warn(\n",
            "C:\\Users\\PCROOM\\AppData\\Roaming\\Python\\Python311\\site-packages\\sklearn\\model_selection\\_split.py:737: UserWarning: The least populated class in y has only 2 members, which is less than n_splits=6.\n",
            "  warnings.warn(\n",
            "C:\\Users\\PCROOM\\AppData\\Roaming\\Python\\Python311\\site-packages\\sklearn\\model_selection\\_split.py:737: UserWarning: The least populated class in y has only 2 members, which is less than n_splits=6.\n",
            "  warnings.warn(\n",
            "C:\\Users\\PCROOM\\AppData\\Roaming\\Python\\Python311\\site-packages\\sklearn\\model_selection\\_split.py:737: UserWarning: The least populated class in y has only 2 members, which is less than n_splits=6.\n",
            "  warnings.warn(\n",
            "C:\\Users\\PCROOM\\AppData\\Roaming\\Python\\Python311\\site-packages\\sklearn\\model_selection\\_split.py:737: UserWarning: The least populated class in y has only 2 members, which is less than n_splits=6.\n",
            "  warnings.warn(\n",
            "C:\\Users\\PCROOM\\AppData\\Roaming\\Python\\Python311\\site-packages\\sklearn\\model_selection\\_split.py:737: UserWarning: The least populated class in y has only 2 members, which is less than n_splits=6.\n",
            "  warnings.warn(\n",
            "C:\\Users\\PCROOM\\AppData\\Roaming\\Python\\Python311\\site-packages\\sklearn\\model_selection\\_split.py:737: UserWarning: The least populated class in y has only 2 members, which is less than n_splits=6.\n",
            "  warnings.warn(\n",
            "C:\\Users\\PCROOM\\AppData\\Roaming\\Python\\Python311\\site-packages\\sklearn\\model_selection\\_split.py:737: UserWarning: The least populated class in y has only 2 members, which is less than n_splits=6.\n",
            "  warnings.warn(\n",
            "C:\\Users\\PCROOM\\AppData\\Roaming\\Python\\Python311\\site-packages\\sklearn\\model_selection\\_split.py:737: UserWarning: The least populated class in y has only 2 members, which is less than n_splits=6.\n",
            "  warnings.warn(\n",
            "C:\\Users\\PCROOM\\AppData\\Roaming\\Python\\Python311\\site-packages\\sklearn\\model_selection\\_split.py:737: UserWarning: The least populated class in y has only 2 members, which is less than n_splits=6.\n",
            "  warnings.warn(\n",
            "C:\\Users\\PCROOM\\AppData\\Roaming\\Python\\Python311\\site-packages\\sklearn\\model_selection\\_split.py:737: UserWarning: The least populated class in y has only 2 members, which is less than n_splits=6.\n",
            "  warnings.warn(\n",
            "C:\\Users\\PCROOM\\AppData\\Roaming\\Python\\Python311\\site-packages\\sklearn\\model_selection\\_split.py:737: UserWarning: The least populated class in y has only 2 members, which is less than n_splits=6.\n",
            "  warnings.warn(\n",
            "C:\\Users\\PCROOM\\AppData\\Roaming\\Python\\Python311\\site-packages\\sklearn\\model_selection\\_split.py:737: UserWarning: The least populated class in y has only 2 members, which is less than n_splits=6.\n",
            "  warnings.warn(\n",
            "C:\\Users\\PCROOM\\AppData\\Roaming\\Python\\Python311\\site-packages\\sklearn\\model_selection\\_split.py:737: UserWarning: The least populated class in y has only 2 members, which is less than n_splits=6.\n",
            "  warnings.warn(\n",
            "C:\\Users\\PCROOM\\AppData\\Roaming\\Python\\Python311\\site-packages\\sklearn\\model_selection\\_split.py:737: UserWarning: The least populated class in y has only 2 members, which is less than n_splits=6.\n",
            "  warnings.warn(\n",
            "C:\\Users\\PCROOM\\AppData\\Roaming\\Python\\Python311\\site-packages\\sklearn\\model_selection\\_split.py:737: UserWarning: The least populated class in y has only 2 members, which is less than n_splits=6.\n",
            "  warnings.warn(\n",
            "C:\\Users\\PCROOM\\AppData\\Roaming\\Python\\Python311\\site-packages\\sklearn\\model_selection\\_split.py:737: UserWarning: The least populated class in y has only 2 members, which is less than n_splits=6.\n",
            "  warnings.warn(\n",
            "C:\\Users\\PCROOM\\AppData\\Roaming\\Python\\Python311\\site-packages\\sklearn\\model_selection\\_split.py:737: UserWarning: The least populated class in y has only 2 members, which is less than n_splits=6.\n",
            "  warnings.warn(\n",
            "C:\\Users\\PCROOM\\AppData\\Roaming\\Python\\Python311\\site-packages\\sklearn\\model_selection\\_split.py:737: UserWarning: The least populated class in y has only 2 members, which is less than n_splits=6.\n",
            "  warnings.warn(\n",
            "C:\\Users\\PCROOM\\AppData\\Roaming\\Python\\Python311\\site-packages\\sklearn\\model_selection\\_split.py:737: UserWarning: The least populated class in y has only 2 members, which is less than n_splits=6.\n",
            "  warnings.warn(\n",
            "C:\\Users\\PCROOM\\AppData\\Roaming\\Python\\Python311\\site-packages\\sklearn\\model_selection\\_split.py:737: UserWarning: The least populated class in y has only 2 members, which is less than n_splits=6.\n",
            "  warnings.warn(\n",
            "C:\\Users\\PCROOM\\AppData\\Roaming\\Python\\Python311\\site-packages\\sklearn\\model_selection\\_split.py:737: UserWarning: The least populated class in y has only 2 members, which is less than n_splits=6.\n",
            "  warnings.warn(\n",
            "C:\\Users\\PCROOM\\AppData\\Roaming\\Python\\Python311\\site-packages\\sklearn\\model_selection\\_split.py:737: UserWarning: The least populated class in y has only 2 members, which is less than n_splits=6.\n",
            "  warnings.warn(\n",
            "C:\\Users\\PCROOM\\AppData\\Roaming\\Python\\Python311\\site-packages\\sklearn\\model_selection\\_split.py:737: UserWarning: The least populated class in y has only 2 members, which is less than n_splits=6.\n",
            "  warnings.warn(\n",
            "C:\\Users\\PCROOM\\AppData\\Roaming\\Python\\Python311\\site-packages\\sklearn\\model_selection\\_split.py:737: UserWarning: The least populated class in y has only 2 members, which is less than n_splits=6.\n",
            "  warnings.warn(\n",
            "C:\\Users\\PCROOM\\AppData\\Roaming\\Python\\Python311\\site-packages\\sklearn\\model_selection\\_split.py:737: UserWarning: The least populated class in y has only 2 members, which is less than n_splits=6.\n",
            "  warnings.warn(\n",
            "C:\\Users\\PCROOM\\AppData\\Roaming\\Python\\Python311\\site-packages\\sklearn\\model_selection\\_split.py:737: UserWarning: The least populated class in y has only 2 members, which is less than n_splits=6.\n",
            "  warnings.warn(\n",
            "C:\\Users\\PCROOM\\AppData\\Roaming\\Python\\Python311\\site-packages\\sklearn\\model_selection\\_split.py:737: UserWarning: The least populated class in y has only 2 members, which is less than n_splits=6.\n",
            "  warnings.warn(\n",
            "C:\\Users\\PCROOM\\AppData\\Roaming\\Python\\Python311\\site-packages\\sklearn\\model_selection\\_split.py:737: UserWarning: The least populated class in y has only 2 members, which is less than n_splits=6.\n",
            "  warnings.warn(\n",
            "C:\\Users\\PCROOM\\AppData\\Roaming\\Python\\Python311\\site-packages\\sklearn\\model_selection\\_split.py:737: UserWarning: The least populated class in y has only 2 members, which is less than n_splits=6.\n",
            "  warnings.warn(\n",
            "C:\\Users\\PCROOM\\AppData\\Roaming\\Python\\Python311\\site-packages\\sklearn\\model_selection\\_split.py:737: UserWarning: The least populated class in y has only 2 members, which is less than n_splits=6.\n",
            "  warnings.warn(\n",
            "C:\\Users\\PCROOM\\AppData\\Roaming\\Python\\Python311\\site-packages\\sklearn\\model_selection\\_split.py:737: UserWarning: The least populated class in y has only 2 members, which is less than n_splits=6.\n",
            "  warnings.warn(\n",
            "C:\\Users\\PCROOM\\AppData\\Roaming\\Python\\Python311\\site-packages\\sklearn\\model_selection\\_split.py:737: UserWarning: The least populated class in y has only 2 members, which is less than n_splits=6.\n",
            "  warnings.warn(\n",
            "C:\\Users\\PCROOM\\AppData\\Roaming\\Python\\Python311\\site-packages\\sklearn\\model_selection\\_split.py:737: UserWarning: The least populated class in y has only 2 members, which is less than n_splits=6.\n",
            "  warnings.warn(\n"
          ]
        }
      ],
      "source": [
        "components_range = range(1, 201)\n",
        "cv_scores = []\n",
        "\n",
        "lda_model = LinearDiscriminantAnalysis()\n",
        "\n",
        "for n_components in components_range:\n",
        "    pca = PCA(n_components=n_components)\n",
        "    X_train_pca = pca.fit_transform(X_train)\n",
        "    scores = cross_val_score(lda_model, X_train_pca, y_train, cv=6);\n",
        "    cv_scores.append(scores.mean());\n",
        "\n",
        "best_n_components = components_range[np.argmax(cv_scores)]"
      ]
    },
    {
      "cell_type": "code",
      "execution_count": 43,
      "metadata": {},
      "outputs": [
        {
          "name": "stdout",
          "output_type": "stream",
          "text": [
            "The Best dimension for PCA is 49\n"
          ]
        }
      ],
      "source": [
        "print(f\"The Best dimension for PCA is {best_n_components}\")"
      ]
    },
    {
      "cell_type": "markdown",
      "metadata": {},
      "source": [
        "### Result: Optimal Dimensionality in PCA and LDA\n",
        "\n",
        "In this problem, as observed from the results, the optimal dimensionality reduction using **PCA** occurs approximately between **40 and 50 components**, where a high performance level is achieved.\n",
        "\n",
        "For the custom-designed **LDA function**, it is also evident that the best accuracy falls within this same dimensionality range. Increasing the number of components beyond this range does not significantly improve the results.\n",
        "\n",
        "Similarly, when using Python’s built-in **LDA function**, the best accuracy is achieved around **50 dimensions**. However, when the number of dimensions is further increased (e.g., up to **180**), the performance actually **decreases**, indicating that excessive dimensionality can harm the model's effectiveness.\n"
      ]
    }
  ],
  "metadata": {
    "colab": {
      "collapsed_sections": [
        "6Zr9rE2Yl66E"
      ],
      "provenance": []
    },
    "kernelspec": {
      "display_name": "Python 3",
      "name": "python3"
    },
    "language_info": {
      "codemirror_mode": {
        "name": "ipython",
        "version": 3
      },
      "file_extension": ".py",
      "mimetype": "text/x-python",
      "name": "python",
      "nbconvert_exporter": "python",
      "pygments_lexer": "ipython3",
      "version": "3.11.5"
    }
  },
  "nbformat": 4,
  "nbformat_minor": 0
}
